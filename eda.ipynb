{
 "cells": [
  {
   "cell_type": "code",
   "execution_count": 1,
   "id": "3e0aaa1a-b4bc-40d8-9be0-2d154032961f",
   "metadata": {},
   "outputs": [],
   "source": [
    "import random\n",
    "import numpy as np\n",
    "import pandas as pd\n",
    "import polars as pl"
   ]
  },
  {
   "cell_type": "code",
   "execution_count": 2,
   "id": "d5a9bd75-d97f-4ca4-bc0d-41ce50beab0f",
   "metadata": {},
   "outputs": [],
   "source": [
    "import glob\n",
    "import os\n",
    "from os import listdir, walk\n",
    "from os.path import join, split"
   ]
  },
  {
   "cell_type": "code",
   "execution_count": 3,
   "id": "21ebae53-6102-4d9f-836e-c89f34bd3b99",
   "metadata": {},
   "outputs": [],
   "source": [
    "import matplotlib.pyplot as plt\n",
    "import seaborn as sns\n",
    "from IPython.display import display"
   ]
  },
  {
   "cell_type": "code",
   "execution_count": 4,
   "id": "1d445c3b-d8aa-4127-a0e9-3574292d33e3",
   "metadata": {},
   "outputs": [],
   "source": [
    "import warnings\n",
    "warnings.filterwarnings(\"ignore\")"
   ]
  },
  {
   "cell_type": "code",
   "execution_count": 5,
   "id": "ca22ae42-196b-4f13-b2f3-45764a6968e1",
   "metadata": {},
   "outputs": [],
   "source": [
    "class CFG:\n",
    "    random_seed = 42\n",
    "    dir = \"/home/nick/Projects/kaggle/march_mania_24/data/\""
   ]
  },
  {
   "cell_type": "code",
   "execution_count": 6,
   "id": "3d64e2ce-2118-400d-b41d-e93a9202d2d7",
   "metadata": {},
   "outputs": [],
   "source": [
    "def load_df(df_name, describe=False):\n",
    "    df = pl.read_csv(join(CFG.dir, f\"{df_name}.csv\"), ignore_errors=True)\n",
    "    print(\"\\n\"+\"*\"*50)\n",
    "    print(f\"DATASET NAME: {df_name}\")\n",
    "    print(f\"SHAPE: {df.shape}\")\n",
    "    print(f\"\\nMEMORY USAGE: {df.estimated_size('b')} bytes\")\n",
    "    print(\"\\nDISPLAY\\n\")\n",
    "    display(df.head(3))\n",
    "    if describe:\n",
    "        print(\"\\nDESCRIBE\\n\")\n",
    "        display(df.describe())\n",
    "    return df"
   ]
  },
  {
   "cell_type": "code",
   "execution_count": 7,
   "id": "6c8ff754-7906-407c-a958-bed05efeea0e",
   "metadata": {
    "scrolled": true
   },
   "outputs": [
    {
     "name": "stdout",
     "output_type": "stream",
     "text": [
      "\n",
      "**************************************************\n",
      "DATASET NAME: Cities\n",
      "SHAPE: (483, 3)\n",
      "\n",
      "MEMORY USAGE: 20097 bytes\n",
      "\n",
      "DISPLAY\n",
      "\n"
     ]
    },
    {
     "data": {
      "text/html": [
       "<div><style>\n",
       ".dataframe > thead > tr,\n",
       ".dataframe > tbody > tr {\n",
       "  text-align: right;\n",
       "  white-space: pre-wrap;\n",
       "}\n",
       "</style>\n",
       "<small>shape: (3, 3)</small><table border=\"1\" class=\"dataframe\"><thead><tr><th>CityID</th><th>City</th><th>State</th></tr><tr><td>i64</td><td>str</td><td>str</td></tr></thead><tbody><tr><td>4001</td><td>&quot;Abilene&quot;</td><td>&quot;TX&quot;</td></tr><tr><td>4002</td><td>&quot;Akron&quot;</td><td>&quot;OH&quot;</td></tr><tr><td>4003</td><td>&quot;Albany&quot;</td><td>&quot;NY&quot;</td></tr></tbody></table></div>"
      ],
      "text/plain": [
       "shape: (3, 3)\n",
       "┌────────┬─────────┬───────┐\n",
       "│ CityID ┆ City    ┆ State │\n",
       "│ ---    ┆ ---     ┆ ---   │\n",
       "│ i64    ┆ str     ┆ str   │\n",
       "╞════════╪═════════╪═══════╡\n",
       "│ 4001   ┆ Abilene ┆ TX    │\n",
       "│ 4002   ┆ Akron   ┆ OH    │\n",
       "│ 4003   ┆ Albany  ┆ NY    │\n",
       "└────────┴─────────┴───────┘"
      ]
     },
     "metadata": {},
     "output_type": "display_data"
    },
    {
     "name": "stdout",
     "output_type": "stream",
     "text": [
      "\n",
      "**************************************************\n",
      "DATASET NAME: Conferences\n",
      "SHAPE: (51, 2)\n",
      "\n",
      "MEMORY USAGE: 2819 bytes\n",
      "\n",
      "DISPLAY\n",
      "\n"
     ]
    },
    {
     "data": {
      "text/html": [
       "<div><style>\n",
       ".dataframe > thead > tr,\n",
       ".dataframe > tbody > tr {\n",
       "  text-align: right;\n",
       "  white-space: pre-wrap;\n",
       "}\n",
       "</style>\n",
       "<small>shape: (3, 2)</small><table border=\"1\" class=\"dataframe\"><thead><tr><th>ConfAbbrev</th><th>Description</th></tr><tr><td>str</td><td>str</td></tr></thead><tbody><tr><td>&quot;a_sun&quot;</td><td>&quot;Atlantic Sun C…</td></tr><tr><td>&quot;a_ten&quot;</td><td>&quot;Atlantic 10 Co…</td></tr><tr><td>&quot;aac&quot;</td><td>&quot;American Athle…</td></tr></tbody></table></div>"
      ],
      "text/plain": [
       "shape: (3, 2)\n",
       "┌────────────┬──────────────────────────────┐\n",
       "│ ConfAbbrev ┆ Description                  │\n",
       "│ ---        ┆ ---                          │\n",
       "│ str        ┆ str                          │\n",
       "╞════════════╪══════════════════════════════╡\n",
       "│ a_sun      ┆ Atlantic Sun Conference      │\n",
       "│ a_ten      ┆ Atlantic 10 Conference       │\n",
       "│ aac        ┆ American Athletic Conference │\n",
       "└────────────┴──────────────────────────────┘"
      ]
     },
     "metadata": {},
     "output_type": "display_data"
    },
    {
     "name": "stdout",
     "output_type": "stream",
     "text": [
      "\n",
      "**************************************************\n",
      "DATASET NAME: fivethirtyeight_ncaa_forecasts_2023\n",
      "SHAPE: (1632, 18)\n",
      "\n",
      "MEMORY USAGE: 309504 bytes\n",
      "\n",
      "DISPLAY\n",
      "\n"
     ]
    },
    {
     "data": {
      "text/html": [
       "<div><style>\n",
       ".dataframe > thead > tr,\n",
       ".dataframe > tbody > tr {\n",
       "  text-align: right;\n",
       "  white-space: pre-wrap;\n",
       "}\n",
       "</style>\n",
       "<small>shape: (3, 18)</small><table border=\"1\" class=\"dataframe\"><thead><tr><th>gender</th><th>forecast_date</th><th>playin_flag</th><th>rd1_win</th><th>rd2_win</th><th>rd3_win</th><th>rd4_win</th><th>rd5_win</th><th>rd6_win</th><th>rd7_win</th><th>results_to</th><th>team_alive</th><th>team_id</th><th>team_name</th><th>team_rating</th><th>team_region</th><th>team_seed</th><th>team_slot</th></tr><tr><td>str</td><td>str</td><td>i64</td><td>f64</td><td>f64</td><td>f64</td><td>f64</td><td>f64</td><td>f64</td><td>f64</td><td>i64</td><td>i64</td><td>i64</td><td>str</td><td>f64</td><td>str</td><td>str</td><td>i64</td></tr></thead><tbody><tr><td>&quot;mens&quot;</td><td>&quot;2023-04-01&quot;</td><td>0</td><td>1.0</td><td>1.0</td><td>1.0</td><td>1.0</td><td>1.0</td><td>1.0</td><td>0.699181</td><td>6</td><td>1</td><td>41</td><td>&quot;Connecticut&quot;</td><td>96.43</td><td>&quot;West&quot;</td><td>&quot;4&quot;</td><td>76</td></tr><tr><td>&quot;mens&quot;</td><td>&quot;2023-04-01&quot;</td><td>0</td><td>1.0</td><td>1.0</td><td>1.0</td><td>1.0</td><td>1.0</td><td>1.0</td><td>0.300819</td><td>6</td><td>1</td><td>21</td><td>&quot;San Diego Stat…</td><td>91.39</td><td>&quot;South&quot;</td><td>&quot;5&quot;</td><td>8</td></tr><tr><td>&quot;mens&quot;</td><td>&quot;2023-04-01&quot;</td><td>0</td><td>1.0</td><td>1.0</td><td>1.0</td><td>1.0</td><td>1.0</td><td>0.0</td><td>0.0</td><td>7</td><td>0</td><td>2226</td><td>&quot;Florida Atlant…</td><td>87.52</td><td>&quot;East&quot;</td><td>&quot;9&quot;</td><td>38</td></tr></tbody></table></div>"
      ],
      "text/plain": [
       "shape: (3, 18)\n",
       "┌────────┬────────────┬────────────┬─────────┬───┬────────────┬────────────┬───────────┬───────────┐\n",
       "│ gender ┆ forecast_d ┆ playin_fla ┆ rd1_win ┆ … ┆ team_ratin ┆ team_regio ┆ team_seed ┆ team_slot │\n",
       "│ ---    ┆ ate        ┆ g          ┆ ---     ┆   ┆ g          ┆ n          ┆ ---       ┆ ---       │\n",
       "│ str    ┆ ---        ┆ ---        ┆ f64     ┆   ┆ ---        ┆ ---        ┆ str       ┆ i64       │\n",
       "│        ┆ str        ┆ i64        ┆         ┆   ┆ f64        ┆ str        ┆           ┆           │\n",
       "╞════════╪════════════╪════════════╪═════════╪═══╪════════════╪════════════╪═══════════╪═══════════╡\n",
       "│ mens   ┆ 2023-04-01 ┆ 0          ┆ 1.0     ┆ … ┆ 96.43      ┆ West       ┆ 4         ┆ 76        │\n",
       "│ mens   ┆ 2023-04-01 ┆ 0          ┆ 1.0     ┆ … ┆ 91.39      ┆ South      ┆ 5         ┆ 8         │\n",
       "│ mens   ┆ 2023-04-01 ┆ 0          ┆ 1.0     ┆ … ┆ 87.52      ┆ East       ┆ 9         ┆ 38        │\n",
       "└────────┴────────────┴────────────┴─────────┴───┴────────────┴────────────┴───────────┴───────────┘"
      ]
     },
     "metadata": {},
     "output_type": "display_data"
    },
    {
     "name": "stdout",
     "output_type": "stream",
     "text": [
      "\n",
      "**************************************************\n",
      "DATASET NAME: 2024_tourney_seeds\n",
      "SHAPE: (128, 3)\n",
      "\n",
      "MEMORY USAGE: 5120 bytes\n",
      "\n",
      "DISPLAY\n",
      "\n"
     ]
    },
    {
     "data": {
      "text/html": [
       "<div><style>\n",
       ".dataframe > thead > tr,\n",
       ".dataframe > tbody > tr {\n",
       "  text-align: right;\n",
       "  white-space: pre-wrap;\n",
       "}\n",
       "</style>\n",
       "<small>shape: (3, 3)</small><table border=\"1\" class=\"dataframe\"><thead><tr><th>Tournament</th><th>Seed</th><th>TeamID</th></tr><tr><td>str</td><td>str</td><td>i64</td></tr></thead><tbody><tr><td>&quot;M&quot;</td><td>&quot;W01&quot;</td><td>1345</td></tr><tr><td>&quot;M&quot;</td><td>&quot;W02&quot;</td><td>1266</td></tr><tr><td>&quot;M&quot;</td><td>&quot;W03&quot;</td><td>1243</td></tr></tbody></table></div>"
      ],
      "text/plain": [
       "shape: (3, 3)\n",
       "┌────────────┬──────┬────────┐\n",
       "│ Tournament ┆ Seed ┆ TeamID │\n",
       "│ ---        ┆ ---  ┆ ---    │\n",
       "│ str        ┆ str  ┆ i64    │\n",
       "╞════════════╪══════╪════════╡\n",
       "│ M          ┆ W01  ┆ 1345   │\n",
       "│ M          ┆ W02  ┆ 1266   │\n",
       "│ M          ┆ W03  ┆ 1243   │\n",
       "└────────────┴──────┴────────┘"
      ]
     },
     "metadata": {},
     "output_type": "display_data"
    },
    {
     "name": "stdout",
     "output_type": "stream",
     "text": [
      "\n",
      "**************************************************\n",
      "DATASET NAME: MNCAATourneySlots\n",
      "SHAPE: (2452, 4)\n",
      "\n",
      "MEMORY USAGE: 137312 bytes\n",
      "\n",
      "DISPLAY\n",
      "\n"
     ]
    },
    {
     "data": {
      "text/html": [
       "<div><style>\n",
       ".dataframe > thead > tr,\n",
       ".dataframe > tbody > tr {\n",
       "  text-align: right;\n",
       "  white-space: pre-wrap;\n",
       "}\n",
       "</style>\n",
       "<small>shape: (3, 4)</small><table border=\"1\" class=\"dataframe\"><thead><tr><th>Season</th><th>Slot</th><th>StrongSeed</th><th>WeakSeed</th></tr><tr><td>i64</td><td>str</td><td>str</td><td>str</td></tr></thead><tbody><tr><td>1985</td><td>&quot;R1W1&quot;</td><td>&quot;W01&quot;</td><td>&quot;W16&quot;</td></tr><tr><td>1985</td><td>&quot;R1W2&quot;</td><td>&quot;W02&quot;</td><td>&quot;W15&quot;</td></tr><tr><td>1985</td><td>&quot;R1W3&quot;</td><td>&quot;W03&quot;</td><td>&quot;W14&quot;</td></tr></tbody></table></div>"
      ],
      "text/plain": [
       "shape: (3, 4)\n",
       "┌────────┬──────┬────────────┬──────────┐\n",
       "│ Season ┆ Slot ┆ StrongSeed ┆ WeakSeed │\n",
       "│ ---    ┆ ---  ┆ ---        ┆ ---      │\n",
       "│ i64    ┆ str  ┆ str        ┆ str      │\n",
       "╞════════╪══════╪════════════╪══════════╡\n",
       "│ 1985   ┆ R1W1 ┆ W01        ┆ W16      │\n",
       "│ 1985   ┆ R1W2 ┆ W02        ┆ W15      │\n",
       "│ 1985   ┆ R1W3 ┆ W03        ┆ W14      │\n",
       "└────────┴──────┴────────────┴──────────┘"
      ]
     },
     "metadata": {},
     "output_type": "display_data"
    }
   ],
   "source": [
    "cities = load_df(\"Cities\")\n",
    "conferences = load_df(\"Conferences\")\n",
    "forecasts = load_df(\"fivethirtyeight_ncaa_forecasts_2023\")\n",
    "tourney_seeds = load_df(\"2024_tourney_seeds\")\n",
    "tourney_slots = load_df('MNCAATourneySlots')"
   ]
  },
  {
   "cell_type": "code",
   "execution_count": 8,
   "id": "ee8baa7f-e285-44a1-803f-353b7227ebdc",
   "metadata": {},
   "outputs": [
    {
     "data": {
      "text/plain": [
       "['MGameCities',\n",
       " 'MSecondaryTourneyCompactResults',\n",
       " 'MMasseyOrdinals_partac',\n",
       " 'MSecondaryTourneyTeams',\n",
       " 'MSeasons',\n",
       " 'MMasseyOrdinals_partaa',\n",
       " 'MTeamSpellings',\n",
       " 'MRegularSeasonDetailedResults',\n",
       " 'MTeamConferences',\n",
       " 'MTeamCoaches',\n",
       " 'MRegularSeasonCompactResults',\n",
       " 'MMasseyOrdinals_partab',\n",
       " 'MNCAATourneyDetailedResults',\n",
       " 'MNCAATourneySeeds',\n",
       " 'MTeams',\n",
       " 'MNCAATourneySlots',\n",
       " 'MConferenceTourneyGames',\n",
       " 'MNCAATourneySeedRoundSlots',\n",
       " 'MNCAATourneyCompactResults']"
      ]
     },
     "execution_count": 8,
     "metadata": {},
     "output_type": "execute_result"
    }
   ],
   "source": [
    "mens_datasets = [i.split(\".csv\")[0]\n",
    "                 for i in os.listdir(CFG.dir)\n",
    "                 if i.startswith(\"M\")]\n",
    "mens_datasets"
   ]
  },
  {
   "cell_type": "code",
   "execution_count": 9,
   "id": "8eb1a01d-36af-430f-94d5-7747979394b3",
   "metadata": {
    "scrolled": true
   },
   "outputs": [
    {
     "name": "stdout",
     "output_type": "stream",
     "text": [
      "\n",
      "**************************************************\n",
      "DATASET NAME: MNCAATourneySeedRoundSlots\n",
      "SHAPE: (720, 5)\n",
      "\n",
      "MEMORY USAGE: 40320 bytes\n",
      "\n",
      "DISPLAY\n",
      "\n"
     ]
    },
    {
     "data": {
      "text/html": [
       "<div><style>\n",
       ".dataframe > thead > tr,\n",
       ".dataframe > tbody > tr {\n",
       "  text-align: right;\n",
       "  white-space: pre-wrap;\n",
       "}\n",
       "</style>\n",
       "<small>shape: (3, 5)</small><table border=\"1\" class=\"dataframe\"><thead><tr><th>Seed</th><th>GameRound</th><th>GameSlot</th><th>EarlyDayNum</th><th>LateDayNum</th></tr><tr><td>str</td><td>i64</td><td>str</td><td>i64</td><td>i64</td></tr></thead><tbody><tr><td>&quot;W01&quot;</td><td>1</td><td>&quot;R1W1&quot;</td><td>136</td><td>137</td></tr><tr><td>&quot;W01&quot;</td><td>2</td><td>&quot;R2W1&quot;</td><td>138</td><td>139</td></tr><tr><td>&quot;W01&quot;</td><td>3</td><td>&quot;R3W1&quot;</td><td>143</td><td>144</td></tr></tbody></table></div>"
      ],
      "text/plain": [
       "shape: (3, 5)\n",
       "┌──────┬───────────┬──────────┬─────────────┬────────────┐\n",
       "│ Seed ┆ GameRound ┆ GameSlot ┆ EarlyDayNum ┆ LateDayNum │\n",
       "│ ---  ┆ ---       ┆ ---      ┆ ---         ┆ ---        │\n",
       "│ str  ┆ i64       ┆ str      ┆ i64         ┆ i64        │\n",
       "╞══════╪═══════════╪══════════╪═════════════╪════════════╡\n",
       "│ W01  ┆ 1         ┆ R1W1     ┆ 136         ┆ 137        │\n",
       "│ W01  ┆ 2         ┆ R2W1     ┆ 138         ┆ 139        │\n",
       "│ W01  ┆ 3         ┆ R3W1     ┆ 143         ┆ 144        │\n",
       "└──────┴───────────┴──────────┴─────────────┴────────────┘"
      ]
     },
     "metadata": {},
     "output_type": "display_data"
    },
    {
     "name": "stdout",
     "output_type": "stream",
     "text": [
      "\n",
      "**************************************************\n",
      "DATASET NAME: MRegularSeasonDetailedResults\n",
      "SHAPE: (111817, 34)\n",
      "\n",
      "MEMORY USAGE: 31308760 bytes\n",
      "\n",
      "DISPLAY\n",
      "\n"
     ]
    },
    {
     "data": {
      "text/html": [
       "<div><style>\n",
       ".dataframe > thead > tr,\n",
       ".dataframe > tbody > tr {\n",
       "  text-align: right;\n",
       "  white-space: pre-wrap;\n",
       "}\n",
       "</style>\n",
       "<small>shape: (3, 34)</small><table border=\"1\" class=\"dataframe\"><thead><tr><th>Season</th><th>DayNum</th><th>WTeamID</th><th>WScore</th><th>LTeamID</th><th>LScore</th><th>WLoc</th><th>NumOT</th><th>WFGM</th><th>WFGA</th><th>WFGM3</th><th>WFGA3</th><th>WFTM</th><th>WFTA</th><th>WOR</th><th>WDR</th><th>WAst</th><th>WTO</th><th>WStl</th><th>WBlk</th><th>WPF</th><th>LFGM</th><th>LFGA</th><th>LFGM3</th><th>LFGA3</th><th>LFTM</th><th>LFTA</th><th>LOR</th><th>LDR</th><th>LAst</th><th>LTO</th><th>LStl</th><th>LBlk</th><th>LPF</th></tr><tr><td>i64</td><td>i64</td><td>i64</td><td>i64</td><td>i64</td><td>i64</td><td>str</td><td>i64</td><td>i64</td><td>i64</td><td>i64</td><td>i64</td><td>i64</td><td>i64</td><td>i64</td><td>i64</td><td>i64</td><td>i64</td><td>i64</td><td>i64</td><td>i64</td><td>i64</td><td>i64</td><td>i64</td><td>i64</td><td>i64</td><td>i64</td><td>i64</td><td>i64</td><td>i64</td><td>i64</td><td>i64</td><td>i64</td><td>i64</td></tr></thead><tbody><tr><td>2003</td><td>10</td><td>1104</td><td>68</td><td>1328</td><td>62</td><td>&quot;N&quot;</td><td>0</td><td>27</td><td>58</td><td>3</td><td>14</td><td>11</td><td>18</td><td>14</td><td>24</td><td>13</td><td>23</td><td>7</td><td>1</td><td>22</td><td>22</td><td>53</td><td>2</td><td>10</td><td>16</td><td>22</td><td>10</td><td>22</td><td>8</td><td>18</td><td>9</td><td>2</td><td>20</td></tr><tr><td>2003</td><td>10</td><td>1272</td><td>70</td><td>1393</td><td>63</td><td>&quot;N&quot;</td><td>0</td><td>26</td><td>62</td><td>8</td><td>20</td><td>10</td><td>19</td><td>15</td><td>28</td><td>16</td><td>13</td><td>4</td><td>4</td><td>18</td><td>24</td><td>67</td><td>6</td><td>24</td><td>9</td><td>20</td><td>20</td><td>25</td><td>7</td><td>12</td><td>8</td><td>6</td><td>16</td></tr><tr><td>2003</td><td>11</td><td>1266</td><td>73</td><td>1437</td><td>61</td><td>&quot;N&quot;</td><td>0</td><td>24</td><td>58</td><td>8</td><td>18</td><td>17</td><td>29</td><td>17</td><td>26</td><td>15</td><td>10</td><td>5</td><td>2</td><td>25</td><td>22</td><td>73</td><td>3</td><td>26</td><td>14</td><td>23</td><td>31</td><td>22</td><td>9</td><td>12</td><td>2</td><td>5</td><td>23</td></tr></tbody></table></div>"
      ],
      "text/plain": [
       "shape: (3, 34)\n",
       "┌────────┬────────┬─────────┬────────┬───┬─────┬──────┬──────┬─────┐\n",
       "│ Season ┆ DayNum ┆ WTeamID ┆ WScore ┆ … ┆ LTO ┆ LStl ┆ LBlk ┆ LPF │\n",
       "│ ---    ┆ ---    ┆ ---     ┆ ---    ┆   ┆ --- ┆ ---  ┆ ---  ┆ --- │\n",
       "│ i64    ┆ i64    ┆ i64     ┆ i64    ┆   ┆ i64 ┆ i64  ┆ i64  ┆ i64 │\n",
       "╞════════╪════════╪═════════╪════════╪═══╪═════╪══════╪══════╪═════╡\n",
       "│ 2003   ┆ 10     ┆ 1104    ┆ 68     ┆ … ┆ 18  ┆ 9    ┆ 2    ┆ 20  │\n",
       "│ 2003   ┆ 10     ┆ 1272    ┆ 70     ┆ … ┆ 12  ┆ 8    ┆ 6    ┆ 16  │\n",
       "│ 2003   ┆ 11     ┆ 1266    ┆ 73     ┆ … ┆ 12  ┆ 2    ┆ 5    ┆ 23  │\n",
       "└────────┴────────┴─────────┴────────┴───┴─────┴──────┴──────┴─────┘"
      ]
     },
     "metadata": {},
     "output_type": "display_data"
    },
    {
     "name": "stdout",
     "output_type": "stream",
     "text": [
      "\n",
      "**************************************************\n",
      "DATASET NAME: MGameCities\n",
      "SHAPE: (79483, 6)\n",
      "\n",
      "MEMORY USAGE: 4451048 bytes\n",
      "\n",
      "DISPLAY\n",
      "\n"
     ]
    },
    {
     "data": {
      "text/html": [
       "<div><style>\n",
       ".dataframe > thead > tr,\n",
       ".dataframe > tbody > tr {\n",
       "  text-align: right;\n",
       "  white-space: pre-wrap;\n",
       "}\n",
       "</style>\n",
       "<small>shape: (3, 6)</small><table border=\"1\" class=\"dataframe\"><thead><tr><th>Season</th><th>DayNum</th><th>WTeamID</th><th>LTeamID</th><th>CRType</th><th>CityID</th></tr><tr><td>i64</td><td>i64</td><td>i64</td><td>i64</td><td>str</td><td>i64</td></tr></thead><tbody><tr><td>2010</td><td>7</td><td>1143</td><td>1293</td><td>&quot;Regular&quot;</td><td>4027</td></tr><tr><td>2010</td><td>7</td><td>1314</td><td>1198</td><td>&quot;Regular&quot;</td><td>4061</td></tr><tr><td>2010</td><td>7</td><td>1326</td><td>1108</td><td>&quot;Regular&quot;</td><td>4080</td></tr></tbody></table></div>"
      ],
      "text/plain": [
       "shape: (3, 6)\n",
       "┌────────┬────────┬─────────┬─────────┬─────────┬────────┐\n",
       "│ Season ┆ DayNum ┆ WTeamID ┆ LTeamID ┆ CRType  ┆ CityID │\n",
       "│ ---    ┆ ---    ┆ ---     ┆ ---     ┆ ---     ┆ ---    │\n",
       "│ i64    ┆ i64    ┆ i64     ┆ i64     ┆ str     ┆ i64    │\n",
       "╞════════╪════════╪═════════╪═════════╪═════════╪════════╡\n",
       "│ 2010   ┆ 7      ┆ 1143    ┆ 1293    ┆ Regular ┆ 4027   │\n",
       "│ 2010   ┆ 7      ┆ 1314    ┆ 1198    ┆ Regular ┆ 4061   │\n",
       "│ 2010   ┆ 7      ┆ 1326    ┆ 1108    ┆ Regular ┆ 4080   │\n",
       "└────────┴────────┴─────────┴─────────┴─────────┴────────┘"
      ]
     },
     "metadata": {},
     "output_type": "display_data"
    },
    {
     "name": "stdout",
     "output_type": "stream",
     "text": [
      "\n",
      "**************************************************\n",
      "DATASET NAME: MSeasons\n",
      "SHAPE: (40, 6)\n",
      "\n",
      "MEMORY USAGE: 3534 bytes\n",
      "\n",
      "DISPLAY\n",
      "\n"
     ]
    },
    {
     "data": {
      "text/html": [
       "<div><style>\n",
       ".dataframe > thead > tr,\n",
       ".dataframe > tbody > tr {\n",
       "  text-align: right;\n",
       "  white-space: pre-wrap;\n",
       "}\n",
       "</style>\n",
       "<small>shape: (3, 6)</small><table border=\"1\" class=\"dataframe\"><thead><tr><th>Season</th><th>DayZero</th><th>RegionW</th><th>RegionX</th><th>RegionY</th><th>RegionZ</th></tr><tr><td>i64</td><td>str</td><td>str</td><td>str</td><td>str</td><td>str</td></tr></thead><tbody><tr><td>1985</td><td>&quot;10/29/1984&quot;</td><td>&quot;East&quot;</td><td>&quot;West&quot;</td><td>&quot;Midwest&quot;</td><td>&quot;Southeast&quot;</td></tr><tr><td>1986</td><td>&quot;10/28/1985&quot;</td><td>&quot;East&quot;</td><td>&quot;Midwest&quot;</td><td>&quot;Southeast&quot;</td><td>&quot;West&quot;</td></tr><tr><td>1987</td><td>&quot;10/27/1986&quot;</td><td>&quot;East&quot;</td><td>&quot;Southeast&quot;</td><td>&quot;Midwest&quot;</td><td>&quot;West&quot;</td></tr></tbody></table></div>"
      ],
      "text/plain": [
       "shape: (3, 6)\n",
       "┌────────┬────────────┬─────────┬───────────┬───────────┬───────────┐\n",
       "│ Season ┆ DayZero    ┆ RegionW ┆ RegionX   ┆ RegionY   ┆ RegionZ   │\n",
       "│ ---    ┆ ---        ┆ ---     ┆ ---       ┆ ---       ┆ ---       │\n",
       "│ i64    ┆ str        ┆ str     ┆ str       ┆ str       ┆ str       │\n",
       "╞════════╪════════════╪═════════╪═══════════╪═══════════╪═══════════╡\n",
       "│ 1985   ┆ 10/29/1984 ┆ East    ┆ West      ┆ Midwest   ┆ Southeast │\n",
       "│ 1986   ┆ 10/28/1985 ┆ East    ┆ Midwest   ┆ Southeast ┆ West      │\n",
       "│ 1987   ┆ 10/27/1986 ┆ East    ┆ Southeast ┆ Midwest   ┆ West      │\n",
       "└────────┴────────────┴─────────┴───────────┴───────────┴───────────┘"
      ]
     },
     "metadata": {},
     "output_type": "display_data"
    },
    {
     "name": "stdout",
     "output_type": "stream",
     "text": [
      "\n",
      "**************************************************\n",
      "DATASET NAME: MTeamSpellings\n",
      "SHAPE: (1165, 2)\n",
      "\n",
      "MEMORY USAGE: 36642 bytes\n",
      "\n",
      "DISPLAY\n",
      "\n"
     ]
    },
    {
     "data": {
      "text/html": [
       "<div><style>\n",
       ".dataframe > thead > tr,\n",
       ".dataframe > tbody > tr {\n",
       "  text-align: right;\n",
       "  white-space: pre-wrap;\n",
       "}\n",
       "</style>\n",
       "<small>shape: (3, 2)</small><table border=\"1\" class=\"dataframe\"><thead><tr><th>TeamNameSpelling</th><th>TeamID</th></tr><tr><td>str</td><td>i64</td></tr></thead><tbody><tr><td>&quot;a&amp;m-corpus chr…</td><td>1394</td></tr><tr><td>&quot;a&amp;m-corpus chr…</td><td>1394</td></tr><tr><td>&quot;abilene chr&quot;</td><td>1101</td></tr></tbody></table></div>"
      ],
      "text/plain": [
       "shape: (3, 2)\n",
       "┌────────────────────┬────────┐\n",
       "│ TeamNameSpelling   ┆ TeamID │\n",
       "│ ---                ┆ ---    │\n",
       "│ str                ┆ i64    │\n",
       "╞════════════════════╪════════╡\n",
       "│ a&m-corpus chris   ┆ 1394   │\n",
       "│ a&m-corpus christi ┆ 1394   │\n",
       "│ abilene chr        ┆ 1101   │\n",
       "└────────────────────┴────────┘"
      ]
     },
     "metadata": {},
     "output_type": "display_data"
    },
    {
     "name": "stdout",
     "output_type": "stream",
     "text": [
      "\n",
      "**************************************************\n",
      "DATASET NAME: MMasseyOrdinals_partaa\n",
      "SHAPE: (2386744, 5)\n",
      "\n",
      "MEMORY USAGE: 114563712 bytes\n",
      "\n",
      "DISPLAY\n",
      "\n"
     ]
    },
    {
     "data": {
      "text/html": [
       "<div><style>\n",
       ".dataframe > thead > tr,\n",
       ".dataframe > tbody > tr {\n",
       "  text-align: right;\n",
       "  white-space: pre-wrap;\n",
       "}\n",
       "</style>\n",
       "<small>shape: (3, 5)</small><table border=\"1\" class=\"dataframe\"><thead><tr><th>Season</th><th>RankingDayNum</th><th>SystemName</th><th>TeamID</th><th>OrdinalRank</th></tr><tr><td>i64</td><td>i64</td><td>str</td><td>i64</td><td>i64</td></tr></thead><tbody><tr><td>2003</td><td>35</td><td>&quot;SEL&quot;</td><td>1102</td><td>159</td></tr><tr><td>2003</td><td>35</td><td>&quot;SEL&quot;</td><td>1103</td><td>229</td></tr><tr><td>2003</td><td>35</td><td>&quot;SEL&quot;</td><td>1104</td><td>12</td></tr></tbody></table></div>"
      ],
      "text/plain": [
       "shape: (3, 5)\n",
       "┌────────┬───────────────┬────────────┬────────┬─────────────┐\n",
       "│ Season ┆ RankingDayNum ┆ SystemName ┆ TeamID ┆ OrdinalRank │\n",
       "│ ---    ┆ ---           ┆ ---        ┆ ---    ┆ ---         │\n",
       "│ i64    ┆ i64           ┆ str        ┆ i64    ┆ i64         │\n",
       "╞════════╪═══════════════╪════════════╪════════╪═════════════╡\n",
       "│ 2003   ┆ 35            ┆ SEL        ┆ 1102   ┆ 159         │\n",
       "│ 2003   ┆ 35            ┆ SEL        ┆ 1103   ┆ 229         │\n",
       "│ 2003   ┆ 35            ┆ SEL        ┆ 1104   ┆ 12          │\n",
       "└────────┴───────────────┴────────────┴────────┴─────────────┘"
      ]
     },
     "metadata": {},
     "output_type": "display_data"
    },
    {
     "name": "stdout",
     "output_type": "stream",
     "text": [
      "\n",
      "**************************************************\n",
      "DATASET NAME: MMasseyOrdinals_partab\n",
      "SHAPE: (2377078, 5)\n",
      "\n",
      "MEMORY USAGE: 114099744 bytes\n",
      "\n",
      "DISPLAY\n",
      "\n"
     ]
    },
    {
     "data": {
      "text/html": [
       "<div><style>\n",
       ".dataframe > thead > tr,\n",
       ".dataframe > tbody > tr {\n",
       "  text-align: right;\n",
       "  white-space: pre-wrap;\n",
       "}\n",
       "</style>\n",
       "<small>shape: (3, 5)</small><table border=\"1\" class=\"dataframe\"><thead><tr><th>Season</th><th>RankingDayNum</th><th>SystemName</th><th>TeamID</th><th>OrdinalRank</th></tr><tr><td>i64</td><td>i64</td><td>str</td><td>i64</td><td>i64</td></tr></thead><tbody><tr><td>2015</td><td>65</td><td>&quot;BUR&quot;</td><td>1234</td><td>41</td></tr><tr><td>2015</td><td>65</td><td>&quot;BUR&quot;</td><td>1235</td><td>18</td></tr><tr><td>2015</td><td>65</td><td>&quot;BUR&quot;</td><td>1236</td><td>283</td></tr></tbody></table></div>"
      ],
      "text/plain": [
       "shape: (3, 5)\n",
       "┌────────┬───────────────┬────────────┬────────┬─────────────┐\n",
       "│ Season ┆ RankingDayNum ┆ SystemName ┆ TeamID ┆ OrdinalRank │\n",
       "│ ---    ┆ ---           ┆ ---        ┆ ---    ┆ ---         │\n",
       "│ i64    ┆ i64           ┆ str        ┆ i64    ┆ i64         │\n",
       "╞════════╪═══════════════╪════════════╪════════╪═════════════╡\n",
       "│ 2015   ┆ 65            ┆ BUR        ┆ 1234   ┆ 41          │\n",
       "│ 2015   ┆ 65            ┆ BUR        ┆ 1235   ┆ 18          │\n",
       "│ 2015   ┆ 65            ┆ BUR        ┆ 1236   ┆ 283         │\n",
       "└────────┴───────────────┴────────────┴────────┴─────────────┘"
      ]
     },
     "metadata": {},
     "output_type": "display_data"
    },
    {
     "name": "stdout",
     "output_type": "stream",
     "text": [
      "\n",
      "**************************************************\n",
      "DATASET NAME: MMasseyOrdinals_partac\n",
      "SHAPE: (402283, 5)\n",
      "\n",
      "MEMORY USAGE: 19309584 bytes\n",
      "\n",
      "DISPLAY\n",
      "\n"
     ]
    },
    {
     "data": {
      "text/html": [
       "<div><style>\n",
       ".dataframe > thead > tr,\n",
       ".dataframe > tbody > tr {\n",
       "  text-align: right;\n",
       "  white-space: pre-wrap;\n",
       "}\n",
       "</style>\n",
       "<small>shape: (3, 5)</small><table border=\"1\" class=\"dataframe\"><thead><tr><th>Season</th><th>RankingDayNum</th><th>SystemName</th><th>TeamID</th><th>OrdinalRank</th></tr><tr><td>i64</td><td>i64</td><td>str</td><td>i64</td><td>i64</td></tr></thead><tbody><tr><td>2023</td><td>79</td><td>&quot;JNG&quot;</td><td>1117</td><td>301</td></tr><tr><td>2023</td><td>79</td><td>&quot;JNG&quot;</td><td>1119</td><td>202</td></tr><tr><td>2023</td><td>79</td><td>&quot;JNG&quot;</td><td>1120</td><td>19</td></tr></tbody></table></div>"
      ],
      "text/plain": [
       "shape: (3, 5)\n",
       "┌────────┬───────────────┬────────────┬────────┬─────────────┐\n",
       "│ Season ┆ RankingDayNum ┆ SystemName ┆ TeamID ┆ OrdinalRank │\n",
       "│ ---    ┆ ---           ┆ ---        ┆ ---    ┆ ---         │\n",
       "│ i64    ┆ i64           ┆ str        ┆ i64    ┆ i64         │\n",
       "╞════════╪═══════════════╪════════════╪════════╪═════════════╡\n",
       "│ 2023   ┆ 79            ┆ JNG        ┆ 1117   ┆ 301         │\n",
       "│ 2023   ┆ 79            ┆ JNG        ┆ 1119   ┆ 202         │\n",
       "│ 2023   ┆ 79            ┆ JNG        ┆ 1120   ┆ 19          │\n",
       "└────────┴───────────────┴────────────┴────────┴─────────────┘"
      ]
     },
     "metadata": {},
     "output_type": "display_data"
    },
    {
     "name": "stdout",
     "output_type": "stream",
     "text": [
      "\n",
      "**************************************************\n",
      "DATASET NAME: MNCAATourneySeeds\n",
      "SHAPE: (2490, 3)\n",
      "\n",
      "MEMORY USAGE: 79680 bytes\n",
      "\n",
      "DISPLAY\n",
      "\n"
     ]
    },
    {
     "data": {
      "text/html": [
       "<div><style>\n",
       ".dataframe > thead > tr,\n",
       ".dataframe > tbody > tr {\n",
       "  text-align: right;\n",
       "  white-space: pre-wrap;\n",
       "}\n",
       "</style>\n",
       "<small>shape: (3, 3)</small><table border=\"1\" class=\"dataframe\"><thead><tr><th>Season</th><th>Seed</th><th>TeamID</th></tr><tr><td>i64</td><td>str</td><td>i64</td></tr></thead><tbody><tr><td>1985</td><td>&quot;W01&quot;</td><td>1207</td></tr><tr><td>1985</td><td>&quot;W02&quot;</td><td>1210</td></tr><tr><td>1985</td><td>&quot;W03&quot;</td><td>1228</td></tr></tbody></table></div>"
      ],
      "text/plain": [
       "shape: (3, 3)\n",
       "┌────────┬──────┬────────┐\n",
       "│ Season ┆ Seed ┆ TeamID │\n",
       "│ ---    ┆ ---  ┆ ---    │\n",
       "│ i64    ┆ str  ┆ i64    │\n",
       "╞════════╪══════╪════════╡\n",
       "│ 1985   ┆ W01  ┆ 1207   │\n",
       "│ 1985   ┆ W02  ┆ 1210   │\n",
       "│ 1985   ┆ W03  ┆ 1228   │\n",
       "└────────┴──────┴────────┘"
      ]
     },
     "metadata": {},
     "output_type": "display_data"
    },
    {
     "name": "stdout",
     "output_type": "stream",
     "text": [
      "\n",
      "**************************************************\n",
      "DATASET NAME: MTeamCoaches\n",
      "SHAPE: (13167, 5)\n",
      "\n",
      "MEMORY USAGE: 695970 bytes\n",
      "\n",
      "DISPLAY\n",
      "\n"
     ]
    },
    {
     "data": {
      "text/html": [
       "<div><style>\n",
       ".dataframe > thead > tr,\n",
       ".dataframe > tbody > tr {\n",
       "  text-align: right;\n",
       "  white-space: pre-wrap;\n",
       "}\n",
       "</style>\n",
       "<small>shape: (3, 5)</small><table border=\"1\" class=\"dataframe\"><thead><tr><th>Season</th><th>TeamID</th><th>FirstDayNum</th><th>LastDayNum</th><th>CoachName</th></tr><tr><td>i64</td><td>i64</td><td>i64</td><td>i64</td><td>str</td></tr></thead><tbody><tr><td>1985</td><td>1102</td><td>0</td><td>154</td><td>&quot;reggie_minton&quot;</td></tr><tr><td>1985</td><td>1103</td><td>0</td><td>154</td><td>&quot;bob_huggins&quot;</td></tr><tr><td>1985</td><td>1104</td><td>0</td><td>154</td><td>&quot;wimp_sanderson…</td></tr></tbody></table></div>"
      ],
      "text/plain": [
       "shape: (3, 5)\n",
       "┌────────┬────────┬─────────────┬────────────┬────────────────┐\n",
       "│ Season ┆ TeamID ┆ FirstDayNum ┆ LastDayNum ┆ CoachName      │\n",
       "│ ---    ┆ ---    ┆ ---         ┆ ---        ┆ ---            │\n",
       "│ i64    ┆ i64    ┆ i64         ┆ i64        ┆ str            │\n",
       "╞════════╪════════╪═════════════╪════════════╪════════════════╡\n",
       "│ 1985   ┆ 1102   ┆ 0           ┆ 154        ┆ reggie_minton  │\n",
       "│ 1985   ┆ 1103   ┆ 0           ┆ 154        ┆ bob_huggins    │\n",
       "│ 1985   ┆ 1104   ┆ 0           ┆ 154        ┆ wimp_sanderson │\n",
       "└────────┴────────┴─────────────┴────────────┴────────────────┘"
      ]
     },
     "metadata": {},
     "output_type": "display_data"
    },
    {
     "name": "stdout",
     "output_type": "stream",
     "text": [
      "\n",
      "**************************************************\n",
      "DATASET NAME: MConferenceTourneyGames\n",
      "SHAPE: (6189, 5)\n",
      "\n",
      "MEMORY USAGE: 297072 bytes\n",
      "\n",
      "DISPLAY\n",
      "\n"
     ]
    },
    {
     "data": {
      "text/html": [
       "<div><style>\n",
       ".dataframe > thead > tr,\n",
       ".dataframe > tbody > tr {\n",
       "  text-align: right;\n",
       "  white-space: pre-wrap;\n",
       "}\n",
       "</style>\n",
       "<small>shape: (3, 5)</small><table border=\"1\" class=\"dataframe\"><thead><tr><th>Season</th><th>ConfAbbrev</th><th>DayNum</th><th>WTeamID</th><th>LTeamID</th></tr><tr><td>i64</td><td>str</td><td>i64</td><td>i64</td><td>i64</td></tr></thead><tbody><tr><td>2001</td><td>&quot;a_sun&quot;</td><td>121</td><td>1194</td><td>1144</td></tr><tr><td>2001</td><td>&quot;a_sun&quot;</td><td>121</td><td>1416</td><td>1240</td></tr><tr><td>2001</td><td>&quot;a_sun&quot;</td><td>122</td><td>1209</td><td>1194</td></tr></tbody></table></div>"
      ],
      "text/plain": [
       "shape: (3, 5)\n",
       "┌────────┬────────────┬────────┬─────────┬─────────┐\n",
       "│ Season ┆ ConfAbbrev ┆ DayNum ┆ WTeamID ┆ LTeamID │\n",
       "│ ---    ┆ ---        ┆ ---    ┆ ---     ┆ ---     │\n",
       "│ i64    ┆ str        ┆ i64    ┆ i64     ┆ i64     │\n",
       "╞════════╪════════════╪════════╪═════════╪═════════╡\n",
       "│ 2001   ┆ a_sun      ┆ 121    ┆ 1194    ┆ 1144    │\n",
       "│ 2001   ┆ a_sun      ┆ 121    ┆ 1416    ┆ 1240    │\n",
       "│ 2001   ┆ a_sun      ┆ 122    ┆ 1209    ┆ 1194    │\n",
       "└────────┴────────────┴────────┴─────────┴─────────┘"
      ]
     },
     "metadata": {},
     "output_type": "display_data"
    },
    {
     "name": "stdout",
     "output_type": "stream",
     "text": [
      "\n",
      "**************************************************\n",
      "DATASET NAME: MNCAATourneyDetailedResults\n",
      "SHAPE: (1315, 34)\n",
      "\n",
      "MEMORY USAGE: 368200 bytes\n",
      "\n",
      "DISPLAY\n",
      "\n"
     ]
    },
    {
     "data": {
      "text/html": [
       "<div><style>\n",
       ".dataframe > thead > tr,\n",
       ".dataframe > tbody > tr {\n",
       "  text-align: right;\n",
       "  white-space: pre-wrap;\n",
       "}\n",
       "</style>\n",
       "<small>shape: (3, 34)</small><table border=\"1\" class=\"dataframe\"><thead><tr><th>Season</th><th>DayNum</th><th>WTeamID</th><th>WScore</th><th>LTeamID</th><th>LScore</th><th>WLoc</th><th>NumOT</th><th>WFGM</th><th>WFGA</th><th>WFGM3</th><th>WFGA3</th><th>WFTM</th><th>WFTA</th><th>WOR</th><th>WDR</th><th>WAst</th><th>WTO</th><th>WStl</th><th>WBlk</th><th>WPF</th><th>LFGM</th><th>LFGA</th><th>LFGM3</th><th>LFGA3</th><th>LFTM</th><th>LFTA</th><th>LOR</th><th>LDR</th><th>LAst</th><th>LTO</th><th>LStl</th><th>LBlk</th><th>LPF</th></tr><tr><td>i64</td><td>i64</td><td>i64</td><td>i64</td><td>i64</td><td>i64</td><td>str</td><td>i64</td><td>i64</td><td>i64</td><td>i64</td><td>i64</td><td>i64</td><td>i64</td><td>i64</td><td>i64</td><td>i64</td><td>i64</td><td>i64</td><td>i64</td><td>i64</td><td>i64</td><td>i64</td><td>i64</td><td>i64</td><td>i64</td><td>i64</td><td>i64</td><td>i64</td><td>i64</td><td>i64</td><td>i64</td><td>i64</td><td>i64</td></tr></thead><tbody><tr><td>2003</td><td>134</td><td>1421</td><td>92</td><td>1411</td><td>84</td><td>&quot;N&quot;</td><td>1</td><td>32</td><td>69</td><td>11</td><td>29</td><td>17</td><td>26</td><td>14</td><td>30</td><td>17</td><td>12</td><td>5</td><td>3</td><td>22</td><td>29</td><td>67</td><td>12</td><td>31</td><td>14</td><td>31</td><td>17</td><td>28</td><td>16</td><td>15</td><td>5</td><td>0</td><td>22</td></tr><tr><td>2003</td><td>136</td><td>1112</td><td>80</td><td>1436</td><td>51</td><td>&quot;N&quot;</td><td>0</td><td>31</td><td>66</td><td>7</td><td>23</td><td>11</td><td>14</td><td>11</td><td>36</td><td>22</td><td>16</td><td>10</td><td>7</td><td>8</td><td>20</td><td>64</td><td>4</td><td>16</td><td>7</td><td>7</td><td>8</td><td>26</td><td>12</td><td>17</td><td>10</td><td>3</td><td>15</td></tr><tr><td>2003</td><td>136</td><td>1113</td><td>84</td><td>1272</td><td>71</td><td>&quot;N&quot;</td><td>0</td><td>31</td><td>59</td><td>6</td><td>14</td><td>16</td><td>22</td><td>10</td><td>27</td><td>18</td><td>9</td><td>7</td><td>4</td><td>19</td><td>25</td><td>69</td><td>7</td><td>28</td><td>14</td><td>21</td><td>20</td><td>22</td><td>11</td><td>12</td><td>2</td><td>5</td><td>18</td></tr></tbody></table></div>"
      ],
      "text/plain": [
       "shape: (3, 34)\n",
       "┌────────┬────────┬─────────┬────────┬───┬─────┬──────┬──────┬─────┐\n",
       "│ Season ┆ DayNum ┆ WTeamID ┆ WScore ┆ … ┆ LTO ┆ LStl ┆ LBlk ┆ LPF │\n",
       "│ ---    ┆ ---    ┆ ---     ┆ ---    ┆   ┆ --- ┆ ---  ┆ ---  ┆ --- │\n",
       "│ i64    ┆ i64    ┆ i64     ┆ i64    ┆   ┆ i64 ┆ i64  ┆ i64  ┆ i64 │\n",
       "╞════════╪════════╪═════════╪════════╪═══╪═════╪══════╪══════╪═════╡\n",
       "│ 2003   ┆ 134    ┆ 1421    ┆ 92     ┆ … ┆ 15  ┆ 5    ┆ 0    ┆ 22  │\n",
       "│ 2003   ┆ 136    ┆ 1112    ┆ 80     ┆ … ┆ 17  ┆ 10   ┆ 3    ┆ 15  │\n",
       "│ 2003   ┆ 136    ┆ 1113    ┆ 84     ┆ … ┆ 12  ┆ 2    ┆ 5    ┆ 18  │\n",
       "└────────┴────────┴─────────┴────────┴───┴─────┴──────┴──────┴─────┘"
      ]
     },
     "metadata": {},
     "output_type": "display_data"
    },
    {
     "name": "stdout",
     "output_type": "stream",
     "text": [
      "\n",
      "**************************************************\n",
      "DATASET NAME: MTeamConferences\n",
      "SHAPE: (13024, 3)\n",
      "\n",
      "MEMORY USAGE: 416768 bytes\n",
      "\n",
      "DISPLAY\n",
      "\n"
     ]
    },
    {
     "data": {
      "text/html": [
       "<div><style>\n",
       ".dataframe > thead > tr,\n",
       ".dataframe > tbody > tr {\n",
       "  text-align: right;\n",
       "  white-space: pre-wrap;\n",
       "}\n",
       "</style>\n",
       "<small>shape: (3, 3)</small><table border=\"1\" class=\"dataframe\"><thead><tr><th>Season</th><th>TeamID</th><th>ConfAbbrev</th></tr><tr><td>i64</td><td>i64</td><td>str</td></tr></thead><tbody><tr><td>1985</td><td>1102</td><td>&quot;wac&quot;</td></tr><tr><td>1985</td><td>1103</td><td>&quot;ovc&quot;</td></tr><tr><td>1985</td><td>1104</td><td>&quot;sec&quot;</td></tr></tbody></table></div>"
      ],
      "text/plain": [
       "shape: (3, 3)\n",
       "┌────────┬────────┬────────────┐\n",
       "│ Season ┆ TeamID ┆ ConfAbbrev │\n",
       "│ ---    ┆ ---    ┆ ---        │\n",
       "│ i64    ┆ i64    ┆ str        │\n",
       "╞════════╪════════╪════════════╡\n",
       "│ 1985   ┆ 1102   ┆ wac        │\n",
       "│ 1985   ┆ 1103   ┆ ovc        │\n",
       "│ 1985   ┆ 1104   ┆ sec        │\n",
       "└────────┴────────┴────────────┘"
      ]
     },
     "metadata": {},
     "output_type": "display_data"
    },
    {
     "name": "stdout",
     "output_type": "stream",
     "text": [
      "\n",
      "**************************************************\n",
      "DATASET NAME: MTeams\n",
      "SHAPE: (378, 4)\n",
      "\n",
      "MEMORY USAGE: 15980 bytes\n",
      "\n",
      "DISPLAY\n",
      "\n"
     ]
    },
    {
     "data": {
      "text/html": [
       "<div><style>\n",
       ".dataframe > thead > tr,\n",
       ".dataframe > tbody > tr {\n",
       "  text-align: right;\n",
       "  white-space: pre-wrap;\n",
       "}\n",
       "</style>\n",
       "<small>shape: (3, 4)</small><table border=\"1\" class=\"dataframe\"><thead><tr><th>TeamID</th><th>TeamName</th><th>FirstD1Season</th><th>LastD1Season</th></tr><tr><td>i64</td><td>str</td><td>i64</td><td>i64</td></tr></thead><tbody><tr><td>1101</td><td>&quot;Abilene Chr&quot;</td><td>2014</td><td>2024</td></tr><tr><td>1102</td><td>&quot;Air Force&quot;</td><td>1985</td><td>2024</td></tr><tr><td>1103</td><td>&quot;Akron&quot;</td><td>1985</td><td>2024</td></tr></tbody></table></div>"
      ],
      "text/plain": [
       "shape: (3, 4)\n",
       "┌────────┬─────────────┬───────────────┬──────────────┐\n",
       "│ TeamID ┆ TeamName    ┆ FirstD1Season ┆ LastD1Season │\n",
       "│ ---    ┆ ---         ┆ ---           ┆ ---          │\n",
       "│ i64    ┆ str         ┆ i64           ┆ i64          │\n",
       "╞════════╪═════════════╪═══════════════╪══════════════╡\n",
       "│ 1101   ┆ Abilene Chr ┆ 2014          ┆ 2024         │\n",
       "│ 1102   ┆ Air Force   ┆ 1985          ┆ 2024         │\n",
       "│ 1103   ┆ Akron       ┆ 1985          ┆ 2024         │\n",
       "└────────┴─────────────┴───────────────┴──────────────┘"
      ]
     },
     "metadata": {},
     "output_type": "display_data"
    }
   ],
   "source": [
    "mSeedRoundSlots = load_df(\"MNCAATourneySeedRoundSlots\")\n",
    "mRegSeasonResults = load_df(\"MRegularSeasonDetailedResults\")\n",
    "mGameCities = load_df('MGameCities')\n",
    "mSeasons = load_df('MSeasons')\n",
    "mTeamSpellings = load_df('MTeamSpellings')\n",
    "mMassey_partaa = load_df('MMasseyOrdinals_partaa')\n",
    "mMassey_partab = load_df('MMasseyOrdinals_partab')\n",
    "mMassey_partac = load_df('MMasseyOrdinals_partac')\n",
    "mTourneySeeds = load_df('MNCAATourneySeeds')\n",
    "mTeamCoaches = load_df('MTeamCoaches')\n",
    "mConfTourneyGames = load_df('MConferenceTourneyGames')\n",
    "mTourneyResults = load_df('MNCAATourneyDetailedResults')\n",
    "mTeamConferences = load_df('MTeamConferences')\n",
    "mTeams = load_df('MTeams')"
   ]
  },
  {
   "cell_type": "code",
   "execution_count": 10,
   "id": "95ea5823-c560-4c4b-8ffd-df163bf59fc2",
   "metadata": {},
   "outputs": [],
   "source": [
    "# concat the Massey ordinals parts\n",
    "mMassey = pl.concat([mMassey_partaa,\n",
    "                     mMassey_partab,\n",
    "                     mMassey_partac],\n",
    "                     rechunk=True)"
   ]
  },
  {
   "cell_type": "code",
   "execution_count": 11,
   "id": "7cf80f14-765d-4c0d-815d-18e9203c6df3",
   "metadata": {},
   "outputs": [
    {
     "data": {
      "text/plain": [
       "['WNCAATourneyCompactResults',\n",
       " 'WTeamConferences',\n",
       " 'WTeamSpellings',\n",
       " 'WGameCities',\n",
       " 'WRegularSeasonDetailedResults',\n",
       " 'WRegularSeasonCompactResults',\n",
       " 'WSeasons',\n",
       " 'WNCAATourneySeeds',\n",
       " 'WNCAATourneyDetailedResults',\n",
       " 'WTeams',\n",
       " 'WNCAATourneySlots']"
      ]
     },
     "execution_count": 11,
     "metadata": {},
     "output_type": "execute_result"
    }
   ],
   "source": [
    "womens_data = [i.split(\".csv\")[0]\n",
    "               for i in os.listdir(CFG.dir)\n",
    "               if i.startswith(\"W\")]\n",
    "womens_data"
   ]
  },
  {
   "cell_type": "code",
   "execution_count": 12,
   "id": "896777e3-4c2c-4b70-90a3-1b473586a2c5",
   "metadata": {
    "scrolled": true
   },
   "outputs": [
    {
     "name": "stdout",
     "output_type": "stream",
     "text": [
      "\n",
      "**************************************************\n",
      "DATASET NAME: WRegularSeasonDetailedResults\n",
      "SHAPE: (74845, 34)\n",
      "\n",
      "MEMORY USAGE: 20956600 bytes\n",
      "\n",
      "DISPLAY\n",
      "\n"
     ]
    },
    {
     "data": {
      "text/html": [
       "<div><style>\n",
       ".dataframe > thead > tr,\n",
       ".dataframe > tbody > tr {\n",
       "  text-align: right;\n",
       "  white-space: pre-wrap;\n",
       "}\n",
       "</style>\n",
       "<small>shape: (3, 34)</small><table border=\"1\" class=\"dataframe\"><thead><tr><th>Season</th><th>DayNum</th><th>WTeamID</th><th>WScore</th><th>LTeamID</th><th>LScore</th><th>WLoc</th><th>NumOT</th><th>WFGM</th><th>WFGA</th><th>WFGM3</th><th>WFGA3</th><th>WFTM</th><th>WFTA</th><th>WOR</th><th>WDR</th><th>WAst</th><th>WTO</th><th>WStl</th><th>WBlk</th><th>WPF</th><th>LFGM</th><th>LFGA</th><th>LFGM3</th><th>LFGA3</th><th>LFTM</th><th>LFTA</th><th>LOR</th><th>LDR</th><th>LAst</th><th>LTO</th><th>LStl</th><th>LBlk</th><th>LPF</th></tr><tr><td>i64</td><td>i64</td><td>i64</td><td>i64</td><td>i64</td><td>i64</td><td>str</td><td>i64</td><td>i64</td><td>i64</td><td>i64</td><td>i64</td><td>i64</td><td>i64</td><td>i64</td><td>i64</td><td>i64</td><td>i64</td><td>i64</td><td>i64</td><td>i64</td><td>i64</td><td>i64</td><td>i64</td><td>i64</td><td>i64</td><td>i64</td><td>i64</td><td>i64</td><td>i64</td><td>i64</td><td>i64</td><td>i64</td><td>i64</td></tr></thead><tbody><tr><td>2010</td><td>11</td><td>3103</td><td>63</td><td>3237</td><td>49</td><td>&quot;H&quot;</td><td>0</td><td>23</td><td>54</td><td>5</td><td>9</td><td>12</td><td>19</td><td>10</td><td>26</td><td>14</td><td>18</td><td>7</td><td>0</td><td>15</td><td>20</td><td>54</td><td>3</td><td>13</td><td>6</td><td>10</td><td>11</td><td>27</td><td>11</td><td>23</td><td>7</td><td>6</td><td>19</td></tr><tr><td>2010</td><td>11</td><td>3104</td><td>73</td><td>3399</td><td>68</td><td>&quot;N&quot;</td><td>0</td><td>26</td><td>62</td><td>5</td><td>12</td><td>16</td><td>28</td><td>16</td><td>31</td><td>15</td><td>20</td><td>5</td><td>2</td><td>25</td><td>25</td><td>63</td><td>4</td><td>21</td><td>14</td><td>27</td><td>14</td><td>26</td><td>7</td><td>20</td><td>4</td><td>2</td><td>27</td></tr><tr><td>2010</td><td>11</td><td>3110</td><td>71</td><td>3224</td><td>59</td><td>&quot;A&quot;</td><td>0</td><td>29</td><td>62</td><td>6</td><td>15</td><td>7</td><td>12</td><td>14</td><td>23</td><td>18</td><td>13</td><td>6</td><td>2</td><td>17</td><td>19</td><td>58</td><td>2</td><td>14</td><td>19</td><td>23</td><td>17</td><td>23</td><td>8</td><td>15</td><td>6</td><td>0</td><td>15</td></tr></tbody></table></div>"
      ],
      "text/plain": [
       "shape: (3, 34)\n",
       "┌────────┬────────┬─────────┬────────┬───┬─────┬──────┬──────┬─────┐\n",
       "│ Season ┆ DayNum ┆ WTeamID ┆ WScore ┆ … ┆ LTO ┆ LStl ┆ LBlk ┆ LPF │\n",
       "│ ---    ┆ ---    ┆ ---     ┆ ---    ┆   ┆ --- ┆ ---  ┆ ---  ┆ --- │\n",
       "│ i64    ┆ i64    ┆ i64     ┆ i64    ┆   ┆ i64 ┆ i64  ┆ i64  ┆ i64 │\n",
       "╞════════╪════════╪═════════╪════════╪═══╪═════╪══════╪══════╪═════╡\n",
       "│ 2010   ┆ 11     ┆ 3103    ┆ 63     ┆ … ┆ 23  ┆ 7    ┆ 6    ┆ 19  │\n",
       "│ 2010   ┆ 11     ┆ 3104    ┆ 73     ┆ … ┆ 20  ┆ 4    ┆ 2    ┆ 27  │\n",
       "│ 2010   ┆ 11     ┆ 3110    ┆ 71     ┆ … ┆ 15  ┆ 6    ┆ 0    ┆ 15  │\n",
       "└────────┴────────┴─────────┴────────┴───┴─────┴──────┴──────┴─────┘"
      ]
     },
     "metadata": {},
     "output_type": "display_data"
    },
    {
     "name": "stdout",
     "output_type": "stream",
     "text": [
      "\n",
      "**************************************************\n",
      "DATASET NAME: WGameCities\n",
      "SHAPE: (75565, 6)\n",
      "\n",
      "MEMORY USAGE: 4231640 bytes\n",
      "\n",
      "DISPLAY\n",
      "\n"
     ]
    },
    {
     "data": {
      "text/html": [
       "<div><style>\n",
       ".dataframe > thead > tr,\n",
       ".dataframe > tbody > tr {\n",
       "  text-align: right;\n",
       "  white-space: pre-wrap;\n",
       "}\n",
       "</style>\n",
       "<small>shape: (3, 6)</small><table border=\"1\" class=\"dataframe\"><thead><tr><th>Season</th><th>DayNum</th><th>WTeamID</th><th>LTeamID</th><th>CRType</th><th>CityID</th></tr><tr><td>i64</td><td>i64</td><td>i64</td><td>i64</td><td>str</td><td>i64</td></tr></thead><tbody><tr><td>2010</td><td>11</td><td>3103</td><td>3237</td><td>&quot;Regular&quot;</td><td>4002</td></tr><tr><td>2010</td><td>11</td><td>3104</td><td>3399</td><td>&quot;Regular&quot;</td><td>4085</td></tr><tr><td>2010</td><td>11</td><td>3110</td><td>3224</td><td>&quot;Regular&quot;</td><td>4363</td></tr></tbody></table></div>"
      ],
      "text/plain": [
       "shape: (3, 6)\n",
       "┌────────┬────────┬─────────┬─────────┬─────────┬────────┐\n",
       "│ Season ┆ DayNum ┆ WTeamID ┆ LTeamID ┆ CRType  ┆ CityID │\n",
       "│ ---    ┆ ---    ┆ ---     ┆ ---     ┆ ---     ┆ ---    │\n",
       "│ i64    ┆ i64    ┆ i64     ┆ i64     ┆ str     ┆ i64    │\n",
       "╞════════╪════════╪═════════╪═════════╪═════════╪════════╡\n",
       "│ 2010   ┆ 11     ┆ 3103    ┆ 3237    ┆ Regular ┆ 4002   │\n",
       "│ 2010   ┆ 11     ┆ 3104    ┆ 3399    ┆ Regular ┆ 4085   │\n",
       "│ 2010   ┆ 11     ┆ 3110    ┆ 3224    ┆ Regular ┆ 4363   │\n",
       "└────────┴────────┴─────────┴─────────┴─────────┴────────┘"
      ]
     },
     "metadata": {},
     "output_type": "display_data"
    },
    {
     "name": "stdout",
     "output_type": "stream",
     "text": [
      "\n",
      "**************************************************\n",
      "DATASET NAME: WSeasons\n",
      "SHAPE: (27, 6)\n",
      "\n",
      "MEMORY USAGE: 2376 bytes\n",
      "\n",
      "DISPLAY\n",
      "\n"
     ]
    },
    {
     "data": {
      "text/html": [
       "<div><style>\n",
       ".dataframe > thead > tr,\n",
       ".dataframe > tbody > tr {\n",
       "  text-align: right;\n",
       "  white-space: pre-wrap;\n",
       "}\n",
       "</style>\n",
       "<small>shape: (3, 6)</small><table border=\"1\" class=\"dataframe\"><thead><tr><th>Season</th><th>DayZero</th><th>RegionW</th><th>RegionX</th><th>RegionY</th><th>RegionZ</th></tr><tr><td>i64</td><td>str</td><td>str</td><td>str</td><td>str</td><td>str</td></tr></thead><tbody><tr><td>1998</td><td>&quot;10/27/1997&quot;</td><td>&quot;East&quot;</td><td>&quot;Midwest&quot;</td><td>&quot;Mideast&quot;</td><td>&quot;West&quot;</td></tr><tr><td>1999</td><td>&quot;10/26/1998&quot;</td><td>&quot;East&quot;</td><td>&quot;Mideast&quot;</td><td>&quot;Midwest&quot;</td><td>&quot;West&quot;</td></tr><tr><td>2000</td><td>&quot;11/1/1999&quot;</td><td>&quot;East&quot;</td><td>&quot;Midwest&quot;</td><td>&quot;Mideast&quot;</td><td>&quot;West&quot;</td></tr></tbody></table></div>"
      ],
      "text/plain": [
       "shape: (3, 6)\n",
       "┌────────┬────────────┬─────────┬─────────┬─────────┬─────────┐\n",
       "│ Season ┆ DayZero    ┆ RegionW ┆ RegionX ┆ RegionY ┆ RegionZ │\n",
       "│ ---    ┆ ---        ┆ ---     ┆ ---     ┆ ---     ┆ ---     │\n",
       "│ i64    ┆ str        ┆ str     ┆ str     ┆ str     ┆ str     │\n",
       "╞════════╪════════════╪═════════╪═════════╪═════════╪═════════╡\n",
       "│ 1998   ┆ 10/27/1997 ┆ East    ┆ Midwest ┆ Mideast ┆ West    │\n",
       "│ 1999   ┆ 10/26/1998 ┆ East    ┆ Mideast ┆ Midwest ┆ West    │\n",
       "│ 2000   ┆ 11/1/1999  ┆ East    ┆ Midwest ┆ Mideast ┆ West    │\n",
       "└────────┴────────────┴─────────┴─────────┴─────────┴─────────┘"
      ]
     },
     "metadata": {},
     "output_type": "display_data"
    },
    {
     "name": "stdout",
     "output_type": "stream",
     "text": [
      "\n",
      "**************************************************\n",
      "DATASET NAME: WTeamSpellings\n",
      "SHAPE: (1158, 2)\n",
      "\n",
      "MEMORY USAGE: 36402 bytes\n",
      "\n",
      "DISPLAY\n",
      "\n"
     ]
    },
    {
     "data": {
      "text/html": [
       "<div><style>\n",
       ".dataframe > thead > tr,\n",
       ".dataframe > tbody > tr {\n",
       "  text-align: right;\n",
       "  white-space: pre-wrap;\n",
       "}\n",
       "</style>\n",
       "<small>shape: (3, 2)</small><table border=\"1\" class=\"dataframe\"><thead><tr><th>TeamNameSpelling</th><th>TeamID</th></tr><tr><td>str</td><td>i64</td></tr></thead><tbody><tr><td>&quot;a&amp;m-corpus chr…</td><td>3394</td></tr><tr><td>&quot;a&amp;m-corpus chr…</td><td>3394</td></tr><tr><td>&quot;abilene chr&quot;</td><td>3101</td></tr></tbody></table></div>"
      ],
      "text/plain": [
       "shape: (3, 2)\n",
       "┌────────────────────┬────────┐\n",
       "│ TeamNameSpelling   ┆ TeamID │\n",
       "│ ---                ┆ ---    │\n",
       "│ str                ┆ i64    │\n",
       "╞════════════════════╪════════╡\n",
       "│ a&m-corpus chris   ┆ 3394   │\n",
       "│ a&m-corpus christi ┆ 3394   │\n",
       "│ abilene chr        ┆ 3101   │\n",
       "└────────────────────┴────────┘"
      ]
     },
     "metadata": {},
     "output_type": "display_data"
    },
    {
     "name": "stdout",
     "output_type": "stream",
     "text": [
      "\n",
      "**************************************************\n",
      "DATASET NAME: WNCAATourneySeeds\n",
      "SHAPE: (1608, 3)\n",
      "\n",
      "MEMORY USAGE: 51456 bytes\n",
      "\n",
      "DISPLAY\n",
      "\n"
     ]
    },
    {
     "data": {
      "text/html": [
       "<div><style>\n",
       ".dataframe > thead > tr,\n",
       ".dataframe > tbody > tr {\n",
       "  text-align: right;\n",
       "  white-space: pre-wrap;\n",
       "}\n",
       "</style>\n",
       "<small>shape: (3, 3)</small><table border=\"1\" class=\"dataframe\"><thead><tr><th>Season</th><th>Seed</th><th>TeamID</th></tr><tr><td>i64</td><td>str</td><td>i64</td></tr></thead><tbody><tr><td>1998</td><td>&quot;W01&quot;</td><td>3330</td></tr><tr><td>1998</td><td>&quot;W02&quot;</td><td>3163</td></tr><tr><td>1998</td><td>&quot;W03&quot;</td><td>3112</td></tr></tbody></table></div>"
      ],
      "text/plain": [
       "shape: (3, 3)\n",
       "┌────────┬──────┬────────┐\n",
       "│ Season ┆ Seed ┆ TeamID │\n",
       "│ ---    ┆ ---  ┆ ---    │\n",
       "│ i64    ┆ str  ┆ i64    │\n",
       "╞════════╪══════╪════════╡\n",
       "│ 1998   ┆ W01  ┆ 3330   │\n",
       "│ 1998   ┆ W02  ┆ 3163   │\n",
       "│ 1998   ┆ W03  ┆ 3112   │\n",
       "└────────┴──────┴────────┘"
      ]
     },
     "metadata": {},
     "output_type": "display_data"
    },
    {
     "name": "stdout",
     "output_type": "stream",
     "text": [
      "\n",
      "**************************************************\n",
      "DATASET NAME: WNCAATourneyDetailedResults\n",
      "SHAPE: (827, 34)\n",
      "\n",
      "MEMORY USAGE: 231560 bytes\n",
      "\n",
      "DISPLAY\n",
      "\n"
     ]
    },
    {
     "data": {
      "text/html": [
       "<div><style>\n",
       ".dataframe > thead > tr,\n",
       ".dataframe > tbody > tr {\n",
       "  text-align: right;\n",
       "  white-space: pre-wrap;\n",
       "}\n",
       "</style>\n",
       "<small>shape: (3, 34)</small><table border=\"1\" class=\"dataframe\"><thead><tr><th>Season</th><th>DayNum</th><th>WTeamID</th><th>WScore</th><th>LTeamID</th><th>LScore</th><th>WLoc</th><th>NumOT</th><th>WFGM</th><th>WFGA</th><th>WFGM3</th><th>WFGA3</th><th>WFTM</th><th>WFTA</th><th>WOR</th><th>WDR</th><th>WAst</th><th>WTO</th><th>WStl</th><th>WBlk</th><th>WPF</th><th>LFGM</th><th>LFGA</th><th>LFGM3</th><th>LFGA3</th><th>LFTM</th><th>LFTA</th><th>LOR</th><th>LDR</th><th>LAst</th><th>LTO</th><th>LStl</th><th>LBlk</th><th>LPF</th></tr><tr><td>i64</td><td>i64</td><td>i64</td><td>i64</td><td>i64</td><td>i64</td><td>str</td><td>i64</td><td>i64</td><td>i64</td><td>i64</td><td>i64</td><td>i64</td><td>i64</td><td>i64</td><td>i64</td><td>i64</td><td>i64</td><td>i64</td><td>i64</td><td>i64</td><td>i64</td><td>i64</td><td>i64</td><td>i64</td><td>i64</td><td>i64</td><td>i64</td><td>i64</td><td>i64</td><td>i64</td><td>i64</td><td>i64</td><td>i64</td></tr></thead><tbody><tr><td>2010</td><td>138</td><td>3124</td><td>69</td><td>3201</td><td>55</td><td>&quot;N&quot;</td><td>0</td><td>28</td><td>57</td><td>1</td><td>5</td><td>12</td><td>19</td><td>13</td><td>24</td><td>22</td><td>12</td><td>6</td><td>2</td><td>12</td><td>21</td><td>61</td><td>10</td><td>34</td><td>3</td><td>5</td><td>17</td><td>19</td><td>12</td><td>18</td><td>4</td><td>1</td><td>18</td></tr><tr><td>2010</td><td>138</td><td>3173</td><td>67</td><td>3395</td><td>66</td><td>&quot;N&quot;</td><td>0</td><td>23</td><td>59</td><td>9</td><td>26</td><td>12</td><td>19</td><td>13</td><td>34</td><td>13</td><td>16</td><td>3</td><td>10</td><td>14</td><td>22</td><td>73</td><td>8</td><td>27</td><td>14</td><td>15</td><td>18</td><td>26</td><td>8</td><td>8</td><td>8</td><td>6</td><td>22</td></tr><tr><td>2010</td><td>138</td><td>3181</td><td>72</td><td>3214</td><td>37</td><td>&quot;H&quot;</td><td>0</td><td>26</td><td>57</td><td>4</td><td>13</td><td>16</td><td>22</td><td>13</td><td>34</td><td>15</td><td>11</td><td>10</td><td>7</td><td>11</td><td>15</td><td>56</td><td>4</td><td>15</td><td>3</td><td>8</td><td>10</td><td>21</td><td>4</td><td>16</td><td>6</td><td>4</td><td>20</td></tr></tbody></table></div>"
      ],
      "text/plain": [
       "shape: (3, 34)\n",
       "┌────────┬────────┬─────────┬────────┬───┬─────┬──────┬──────┬─────┐\n",
       "│ Season ┆ DayNum ┆ WTeamID ┆ WScore ┆ … ┆ LTO ┆ LStl ┆ LBlk ┆ LPF │\n",
       "│ ---    ┆ ---    ┆ ---     ┆ ---    ┆   ┆ --- ┆ ---  ┆ ---  ┆ --- │\n",
       "│ i64    ┆ i64    ┆ i64     ┆ i64    ┆   ┆ i64 ┆ i64  ┆ i64  ┆ i64 │\n",
       "╞════════╪════════╪═════════╪════════╪═══╪═════╪══════╪══════╪═════╡\n",
       "│ 2010   ┆ 138    ┆ 3124    ┆ 69     ┆ … ┆ 18  ┆ 4    ┆ 1    ┆ 18  │\n",
       "│ 2010   ┆ 138    ┆ 3173    ┆ 67     ┆ … ┆ 8   ┆ 8    ┆ 6    ┆ 22  │\n",
       "│ 2010   ┆ 138    ┆ 3181    ┆ 72     ┆ … ┆ 16  ┆ 6    ┆ 4    ┆ 20  │\n",
       "└────────┴────────┴─────────┴────────┴───┴─────┴──────┴──────┴─────┘"
      ]
     },
     "metadata": {},
     "output_type": "display_data"
    },
    {
     "name": "stdout",
     "output_type": "stream",
     "text": [
      "\n",
      "**************************************************\n",
      "DATASET NAME: WTeamConferences\n",
      "SHAPE: (9128, 3)\n",
      "\n",
      "MEMORY USAGE: 292096 bytes\n",
      "\n",
      "DISPLAY\n",
      "\n"
     ]
    },
    {
     "data": {
      "text/html": [
       "<div><style>\n",
       ".dataframe > thead > tr,\n",
       ".dataframe > tbody > tr {\n",
       "  text-align: right;\n",
       "  white-space: pre-wrap;\n",
       "}\n",
       "</style>\n",
       "<small>shape: (3, 3)</small><table border=\"1\" class=\"dataframe\"><thead><tr><th>Season</th><th>TeamID</th><th>ConfAbbrev</th></tr><tr><td>i64</td><td>i64</td><td>str</td></tr></thead><tbody><tr><td>1998</td><td>3102</td><td>&quot;wac&quot;</td></tr><tr><td>1998</td><td>3103</td><td>&quot;mac&quot;</td></tr><tr><td>1998</td><td>3104</td><td>&quot;sec&quot;</td></tr></tbody></table></div>"
      ],
      "text/plain": [
       "shape: (3, 3)\n",
       "┌────────┬────────┬────────────┐\n",
       "│ Season ┆ TeamID ┆ ConfAbbrev │\n",
       "│ ---    ┆ ---    ┆ ---        │\n",
       "│ i64    ┆ i64    ┆ str        │\n",
       "╞════════╪════════╪════════════╡\n",
       "│ 1998   ┆ 3102   ┆ wac        │\n",
       "│ 1998   ┆ 3103   ┆ mac        │\n",
       "│ 1998   ┆ 3104   ┆ sec        │\n",
       "└────────┴────────┴────────────┘"
      ]
     },
     "metadata": {},
     "output_type": "display_data"
    },
    {
     "name": "stdout",
     "output_type": "stream",
     "text": [
      "\n",
      "**************************************************\n",
      "DATASET NAME: WTeams\n",
      "SHAPE: (376, 2)\n",
      "\n",
      "MEMORY USAGE: 9884 bytes\n",
      "\n",
      "DISPLAY\n",
      "\n"
     ]
    },
    {
     "data": {
      "text/html": [
       "<div><style>\n",
       ".dataframe > thead > tr,\n",
       ".dataframe > tbody > tr {\n",
       "  text-align: right;\n",
       "  white-space: pre-wrap;\n",
       "}\n",
       "</style>\n",
       "<small>shape: (3, 2)</small><table border=\"1\" class=\"dataframe\"><thead><tr><th>TeamID</th><th>TeamName</th></tr><tr><td>i64</td><td>str</td></tr></thead><tbody><tr><td>3101</td><td>&quot;Abilene Chr&quot;</td></tr><tr><td>3102</td><td>&quot;Air Force&quot;</td></tr><tr><td>3103</td><td>&quot;Akron&quot;</td></tr></tbody></table></div>"
      ],
      "text/plain": [
       "shape: (3, 2)\n",
       "┌────────┬─────────────┐\n",
       "│ TeamID ┆ TeamName    │\n",
       "│ ---    ┆ ---         │\n",
       "│ i64    ┆ str         │\n",
       "╞════════╪═════════════╡\n",
       "│ 3101   ┆ Abilene Chr │\n",
       "│ 3102   ┆ Air Force   │\n",
       "│ 3103   ┆ Akron       │\n",
       "└────────┴─────────────┘"
      ]
     },
     "metadata": {},
     "output_type": "display_data"
    }
   ],
   "source": [
    "wRegSeasonResults = load_df(\"WRegularSeasonDetailedResults\")\n",
    "wGameCities = load_df('WGameCities')\n",
    "wSeasons = load_df('WSeasons')\n",
    "wTeamSpellings = load_df('WTeamSpellings')\n",
    "wTourneySeeds = load_df('WNCAATourneySeeds')\n",
    "wTourneyResults = load_df('WNCAATourneyDetailedResults')\n",
    "wTeamConferences = load_df('WTeamConferences')\n",
    "wTeams = load_df('WTeams')"
   ]
  },
  {
   "cell_type": "markdown",
   "id": "f0a458d8-81a2-4d31-a63c-4da4e462c10d",
   "metadata": {},
   "source": [
    "**EDA**"
   ]
  },
  {
   "cell_type": "code",
   "execution_count": 13,
   "id": "f4d6ac4e-96d5-45f9-9edc-e7ceb4ea3198",
   "metadata": {},
   "outputs": [],
   "source": [
    "sns.set_palette(sns.color_palette(\"ch:s=.8, rot=-.55\"))"
   ]
  },
  {
   "cell_type": "code",
   "execution_count": 14,
   "id": "a997300f-171c-4b39-9276-68d654128b0d",
   "metadata": {},
   "outputs": [],
   "source": [
    "def reg_season_uni(df):\n",
    "    df = (df.lazy().with_columns(\n",
    "                (pl.col('WFGM') / pl.col('WFGA')).alias('WFGP'),\n",
    "                (pl.col('LFGM') / pl.col('LFGA')).alias('LFGP')).collect())\n",
    "\n",
    "    df = df.with_columns(pl.col('WLoc').cast(pl.Categorical()).alias('WLoc'))\n",
    "    wloc_df = df.select('WLoc')\n",
    "\n",
    "    df = df.group_by('Season').mean()\n",
    "    df = df.select(pl.col('*').sort_by('Season'))\n",
    "\n",
    "    fig, ax = plt.subplots(1, 3, figsize=(18,5))\n",
    "\n",
    "    ax[0].title.set_text('Scores')\n",
    "    sns.scatterplot(df, x='Season', y='WScore', ax=ax[0], label='Win')\n",
    "    sns.scatterplot(df, x='Season', y='LScore', ax=ax[0], label='Loss')\n",
    "\n",
    "    ax[1].title.set_text('Field Goal Percentage')\n",
    "    sns.scatterplot(df, x='Season', y='WFGP', ax=ax[1], label='Win')\n",
    "    sns.scatterplot(df, x='Season', y='LFGP', ax=ax[1], label='Loss')\n",
    "\n",
    "    ax[2].title.set_text('Location')\n",
    "    sns.countplot(wloc_df.to_pandas(), x='WLoc', ax=ax[2])"
   ]
  },
  {
   "cell_type": "code",
   "execution_count": 15,
   "id": "13246576-d60a-4d1a-b0a2-0257bd87b954",
   "metadata": {},
   "outputs": [
    {
     "data": {
      "image/png": "[encoded data removed]",
      "text/plain": [
       "<Figure size 1800x500 with 3 Axes>"
      ]
     },
     "metadata": {},
     "output_type": "display_data"
    }
   ],
   "source": [
    "reg_season_uni(mRegSeasonResults)"
   ]
  },
  {
   "cell_type": "code",
   "execution_count": 16,
   "id": "c396a5d5-919e-448e-afca-16f05a50427f",
   "metadata": {},
   "outputs": [
    {
     "data": {
      "image/png": "[encoded data removed]",
      "text/plain": [
       "<Figure size 1800x500 with 3 Axes>"
      ]
     },
     "metadata": {},
     "output_type": "display_data"
    }
   ],
   "source": [
    "reg_season_uni(wRegSeasonResults)"
   ]
  },
  {
   "cell_type": "code",
   "execution_count": 17,
   "id": "337695ee-2f04-4860-8a95-befba1ae1424",
   "metadata": {},
   "outputs": [
    {
     "data": {
      "image/png": "[encoded data removed]",
      "text/plain": [
       "<Figure size 1000x1000 with 2 Axes>"
      ]
     },
     "metadata": {},
     "output_type": "display_data"
    }
   ],
   "source": [
    "fig = plt.figure(figsize=(10,10))\n",
    "sns.heatmap(mRegSeasonResults.select(['WScore','LTeamID','LScore','NumOT','WFGM','WFGA','WFGM3','WFGA3','WFTM','WFTA','WOR','WDR','WAst','WTO','WStl','WBlk','WPF','LFGM','LFGA','LFGM3','LFGA3',\n",
    " 'LFTM','LFTA','LOR','LDR','LAst','LTO','LStl','LBlk','LPF']).to_pandas().corr())\n",
    "plt.show()"
   ]
  },
  {
   "cell_type": "code",
   "execution_count": 28,
   "id": "c17ea2fb-6b6a-4cb7-8c77-1af376a4b114",
   "metadata": {},
   "outputs": [],
   "source": [
    "# make a df for each team with the season averages\n",
    "def season_avg_df(raw_df):\n",
    "    mID_list = mTeams['TeamID'].to_list()\n",
    "    results_dfs = []\n",
    "    count = 0\n",
    "    for team in mID_list:\n",
    "        for season in range(2003,2025):\n",
    "            filtered_df = raw_df.filter((raw_df['Season'] == season) & ((raw_df['WTeamID'] == team) | (raw_df['LTeamID'] == team)))\n",
    "\n",
    "            \n",
    "            combined_stats = filtered_df.with_columns(\n",
    "                Season=season,\n",
    "                TeamID=team,\n",
    "                Score=pl.when(filtered_df['WTeamID'] == team).then(filtered_df['WScore']).otherwise(filtered_df['LScore']).alias('Score'),\n",
    "                OppScore=pl.when(filtered_df['WTeamID'] == team).then(filtered_df['LScore']).otherwise(filtered_df['WScore']).alias('OppScore'),\n",
    "                FGM=pl.when(filtered_df['WTeamID'] == team).then(filtered_df['WFGM']).otherwise(filtered_df['LFGM']).alias('FGM'),\n",
    "                OppFGM=pl.when(filtered_df['WTeamID'] == team).then(filtered_df['LFGM']).otherwise(filtered_df['WFGM']).alias('OppFGM'),\n",
    "                FGA=pl.when(filtered_df['WTeamID'] == team).then(filtered_df['WFGA']).otherwise(filtered_df['LFGA']).alias('FGA'),\n",
    "                OppFGA=pl.when(filtered_df['WTeamID'] == team).then(filtered_df['LFGA']).otherwise(filtered_df['WFGA']).alias('OppFGA'),\n",
    "                FGM3=pl.when(filtered_df['WTeamID'] == team).then(filtered_df['WFGM3']).otherwise(filtered_df['LFGM3']).alias('FGM3'),\n",
    "                OppFGM3=pl.when(filtered_df['WTeamID'] == team).then(filtered_df['LFGM3']).otherwise(filtered_df['WFGM3']).alias('OppFGM3'),\n",
    "                FGA3=pl.when(filtered_df['WTeamID'] == team).then(filtered_df['WFGA3']).otherwise(filtered_df['LFGA3']).alias('FGA3'),\n",
    "                OppFGA3=pl.when(filtered_df['WTeamID'] == team).then(filtered_df['LFGA3']).otherwise(filtered_df['WFGA3']).alias('OppFGA3'),\n",
    "                FTM=pl.when(filtered_df['WTeamID'] == team).then(filtered_df['WFTM']).otherwise(filtered_df['LFTM']).alias('FTM'),\n",
    "                OppFTM=pl.when(filtered_df['WTeamID'] == team).then(filtered_df['LFTM']).otherwise(filtered_df['WFTM']).alias('OppFTM'),\n",
    "                FTA=pl.when(filtered_df['WTeamID'] == team).then(filtered_df['WFTA']).otherwise(filtered_df['LFTA']).alias('FTA'),\n",
    "                OppFTA=pl.when(filtered_df['WTeamID'] == team).then(filtered_df['LFTA']).otherwise(filtered_df['WFTA']).alias('OppFTA'),\n",
    "                OR=pl.when(filtered_df['WTeamID'] == team).then(filtered_df['WOR']).otherwise(filtered_df['LOR']).alias('OR'),\n",
    "                OppOR=pl.when(filtered_df['WTeamID'] == team).then(filtered_df['LOR']).otherwise(filtered_df['WOR']).alias('OppOR'),\n",
    "                DR=pl.when(filtered_df['WTeamID'] == team).then(filtered_df['WDR']).otherwise(filtered_df['LDR']).alias('DR'),\n",
    "                OppDR=pl.when(filtered_df['WTeamID'] == team).then(filtered_df['LDR']).otherwise(filtered_df['WDR']).alias('OppDR'),\n",
    "                Ast=pl.when(filtered_df['WTeamID'] == team).then(filtered_df['WAst']).otherwise(filtered_df['LAst']).alias('Ast'),\n",
    "                OppAst=pl.when(filtered_df['WTeamID'] == team).then(filtered_df['LAst']).otherwise(filtered_df['WAst']).alias('OppAst'),\n",
    "                TO=pl.when(filtered_df['WTeamID'] == team).then(filtered_df['WTO']).otherwise(filtered_df['LTO']).alias('TO'),\n",
    "                OppTO=pl.when(filtered_df['WTeamID'] == team).then(filtered_df['LTO']).otherwise(filtered_df['WTO']).alias('OppTO'),\n",
    "                Stl=pl.when(filtered_df['WTeamID'] == team).then(filtered_df['WStl']).otherwise(filtered_df['LStl']).alias('Stl'),\n",
    "                OppStl=pl.when(filtered_df['WTeamID'] == team).then(filtered_df['LStl']).otherwise(filtered_df['WStl']).alias('OppStl'),\n",
    "                Blk=pl.when(filtered_df['WTeamID'] == team).then(filtered_df['WBlk']).otherwise(filtered_df['LBlk']).alias('Blk'),\n",
    "                OppBlk=pl.when(filtered_df['WTeamID'] == team).then(filtered_df['LBlk']).otherwise(filtered_df['WBlk']).alias('OppBlk'),\n",
    "                PF=pl.when(filtered_df['WTeamID'] == team).then(filtered_df['WPF']).otherwise(filtered_df['LPF']).alias('PF'),\n",
    "                OppPF=pl.when(filtered_df['WTeamID'] == team).then(filtered_df['LPF']).otherwise(filtered_df['WPF']).alias('OppPF')\n",
    "            )\n",
    "\n",
    "            # Calculate total wins and losses in a season\n",
    "            win_count = filtered_df.filter(filtered_df['WTeamID'] == team).shape[0]\n",
    "            loss_count = filtered_df.filter(filtered_df['LTeamID'] == team).shape[0]\n",
    "            \n",
    "            # Add the new columns with with_columns\n",
    "            combined_stats = combined_stats.with_columns(WinCount=win_count, LossCount=loss_count)\n",
    "\n",
    "            # Aggregate again after adding new columns\n",
    "            season_averages = combined_stats.groupby(['Season', 'TeamID']).agg(\n",
    "                Score_avg=combined_stats.select(pl.mean(\"Score\")),\n",
    "                OppScore_avg=combined_stats.select(pl.mean(\"OppScore\")),\n",
    "                FGM_avg=combined_stats.select(pl.mean(\"FGM\")),\n",
    "                OppFGM_avg=combined_stats.select(pl.mean(\"OppFGM\")),\n",
    "                FGA_avg=combined_stats.select(pl.mean(\"FGA\")),\n",
    "                OppFGA_avg=combined_stats.select(pl.mean(\"OppFGA\")),\n",
    "                FGM3_avg=combined_stats.select(pl.mean(\"FGM3\")),\n",
    "                OppFGM3_avg=combined_stats.select(pl.mean(\"OppFGM3\")),\n",
    "                FGA3_avg=combined_stats.select(pl.mean(\"FGA3\")),\n",
    "                OppFGA3_avg=combined_stats.select(pl.mean(\"OppFGA3\")),\n",
    "                FTM_avg=combined_stats.select(pl.mean(\"FTM\")),\n",
    "                OppFTM_avg=combined_stats.select(pl.mean(\"OppFTM\")),\n",
    "                FTA_avg=combined_stats.select(pl.mean(\"FTA\")),\n",
    "                OppFTA_avg=combined_stats.select(pl.mean(\"OppFTA\")),\n",
    "                OR_avg=combined_stats.select(pl.mean(\"OR\")),\n",
    "                OppOR_avg=combined_stats.select(pl.mean(\"OppOR\")),\n",
    "                DR_avg=combined_stats.select(pl.mean(\"DR\")),\n",
    "                OppDR_avg=combined_stats.select(pl.mean(\"OppDR\")),\n",
    "                Ast_avg=combined_stats.select(pl.mean(\"Ast\")),\n",
    "                OppAst_avg=combined_stats.select(pl.mean(\"OppAst\")),\n",
    "                TO_avg=combined_stats.select(pl.mean(\"TO\")),\n",
    "                OppTO_avg=combined_stats.select(pl.mean(\"OppTO\")),\n",
    "                Stl_avg=combined_stats.select(pl.mean(\"Stl\")),\n",
    "                OppStl_avg=combined_stats.select(pl.mean(\"OppStl\")),\n",
    "                Blk_avg=combined_stats.select(pl.mean(\"Blk\")),\n",
    "                OppBlk_avg=combined_stats.select(pl.mean(\"OppBlk\")),\n",
    "                PF_avg=combined_stats.select(pl.mean(\"PF\")),\n",
    "                OppPF_avg=combined_stats.select(pl.mean(\"OppPF\")),\n",
    "                WinCount=win_count,\n",
    "                LossCount=loss_count\n",
    "            )\n",
    "\n",
    "            \n",
    "            \n",
    "            # drop columns with null values because of possibility of new teams joining ncaa and other teams leaving ncaa\n",
    "            season_averages.drop_nulls()\n",
    "            \n",
    "            if season_averages.shape[0] == 1:\n",
    "                # Calculate the winning percentage\n",
    "                WinPct = season_averages['WinCount'] / (season_averages['WinCount'] + season_averages['LossCount'])\n",
    "                season_averages = season_averages.with_columns(WinPct.alias('WinPct'))\n",
    "                \n",
    "                results_dfs.append(season_averages)\n",
    "\n",
    "    # After concatenating the dataframes, reset the index\n",
    "    final_result = pl.concat(results_dfs)\n",
    "\n",
    "    print('final result df: ', final_result)\n",
    "\n",
    "\n",
    "    return final_result\n",
    "            \n",
    "        "
   ]
  },
  {
   "cell_type": "code",
   "execution_count": 30,
   "id": "b208c89a-4e32-4458-90bb-81566a74c5ed",
   "metadata": {},
   "outputs": [
    {
     "name": "stdout",
     "output_type": "stream",
     "text": [
      "final result df:  shape: (7_617, 33)\n",
      "┌────────┬────────┬───────────┬──────────────┬───┬───────────┬──────────┬───────────┬──────────┐\n",
      "│ Season ┆ TeamID ┆ Score_avg ┆ OppScore_avg ┆ … ┆ OppPF_avg ┆ WinCount ┆ LossCount ┆ WinPct   │\n",
      "│ ---    ┆ ---    ┆ ---       ┆ ---          ┆   ┆ ---       ┆ ---      ┆ ---       ┆ ---      │\n",
      "│ i32    ┆ i32    ┆ f64       ┆ f64          ┆   ┆ f64       ┆ i32      ┆ i32       ┆ f64      │\n",
      "╞════════╪════════╪═══════════╪══════════════╪═══╪═══════════╪══════════╪═══════════╪══════════╡\n",
      "│ 2014   ┆ 1101   ┆ 63.142857 ┆ 78.619048    ┆ … ┆ 18.666667 ┆ 2        ┆ 19        ┆ 0.095238 │\n",
      "│ 2015   ┆ 1101   ┆ 61.0      ┆ 71.857143    ┆ … ┆ 16.535714 ┆ 7        ┆ 21        ┆ 0.25     │\n",
      "│ 2016   ┆ 1101   ┆ 69.851852 ┆ 76.259259    ┆ … ┆ 19.666667 ┆ 9        ┆ 18        ┆ 0.333333 │\n",
      "│ 2017   ┆ 1101   ┆ 67.88     ┆ 72.64        ┆ … ┆ 17.24     ┆ 9        ┆ 16        ┆ 0.36     │\n",
      "│ 2018   ┆ 1101   ┆ 70.666667 ┆ 72.814815    ┆ … ┆ 17.666667 ┆ 12       ┆ 15        ┆ 0.444444 │\n",
      "│ …      ┆ …      ┆ …         ┆ …            ┆ … ┆ …         ┆ …        ┆ …         ┆ …        │\n",
      "│ 2023   ┆ 1476   ┆ 66.133333 ┆ 70.4         ┆ … ┆ 16.433333 ┆ 13       ┆ 17        ┆ 0.433333 │\n",
      "│ 2024   ┆ 1476   ┆ 63.04     ┆ 78.16        ┆ … ┆ 14.08     ┆ 2        ┆ 23        ┆ 0.08     │\n",
      "│ 2023   ┆ 1477   ┆ 70.65625  ┆ 74.21875     ┆ … ┆ 16.28125  ┆ 12       ┆ 20        ┆ 0.375    │\n",
      "│ 2024   ┆ 1477   ┆ 66.136364 ┆ 76.545455    ┆ … ┆ 14.863636 ┆ 6        ┆ 16        ┆ 0.272727 │\n",
      "│ 2024   ┆ 1478   ┆ 70.761905 ┆ 74.380952    ┆ … ┆ 13.380952 ┆ 7        ┆ 14        ┆ 0.333333 │\n",
      "└────────┴────────┴───────────┴──────────────┴───┴───────────┴──────────┴───────────┴──────────┘\n"
     ]
    }
   ],
   "source": [
    "season_averages = season_avg_df(mRegSeasonResults)"
   ]
  },
  {
   "cell_type": "code",
   "execution_count": null,
   "id": "5f0b26ee-6efc-4968-b062-969656dccf79",
   "metadata": {},
   "outputs": [],
   "source": []
  },
  {
   "cell_type": "code",
   "execution_count": null,
   "id": "d0cb5d24-2da0-476e-9372-fe4591034be6",
   "metadata": {},
   "outputs": [],
   "source": []
  }
 ],
 "metadata": {
  "kernelspec": {
   "display_name": "Python 3 (ipykernel)",
   "language": "python",
   "name": "python3"
  },
  "language_info": {
   "codemirror_mode": {
    "name": "ipython",
    "version": 3
   },
   "file_extension": ".py",
   "mimetype": "text/x-python",
   "name": "python",
   "nbconvert_exporter": "python",
   "pygments_lexer": "ipython3",
   "version": "3.11.6"
  }
 },
 "nbformat": 4,
 "nbformat_minor": 5
}
