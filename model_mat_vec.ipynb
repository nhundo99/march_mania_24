{
 "cells": [
  {
   "cell_type": "code",
   "execution_count": 1,
   "id": "b8343dbd-e5e2-42a3-af3b-51db58414b3e",
   "metadata": {},
   "outputs": [],
   "source": [
    "import random\n",
    "import numpy as np\n",
    "import pandas as pd\n",
    "import polars as pl"
   ]
  },
  {
   "cell_type": "code",
   "execution_count": 2,
   "id": "6549c4ad-0e11-4c36-a0e0-c7f91555ba6d",
   "metadata": {},
   "outputs": [],
   "source": [
    "import glob\n",
    "import os\n",
    "from os import listdir, walk\n",
    "from os.path import join, split"
   ]
  },
  {
   "cell_type": "code",
   "execution_count": 16,
   "id": "7951f109-061d-4325-ae20-0b8c62cf9065",
   "metadata": {},
   "outputs": [],
   "source": [
    "import torch\n",
    "import sklearn as sk\n",
    "from sklearn.model_selection import train_test_split\n",
    "from sklearn.linear_model import Ridge"
   ]
  },
  {
   "cell_type": "code",
   "execution_count": 4,
   "id": "b8084635-9d8a-4904-8c3c-c2e7ba3a60d2",
   "metadata": {},
   "outputs": [],
   "source": [
    "import matplotlib.pyplot as plt\n",
    "import seaborn as sns\n",
    "from IPython.display import display"
   ]
  },
  {
   "cell_type": "code",
   "execution_count": 5,
   "id": "4e55a6ac-e191-4bc6-bf87-8f2a412ff68b",
   "metadata": {},
   "outputs": [],
   "source": [
    "class CFG:\n",
    "    random_seed = 42\n",
    "    dir = \"/home/nick/Projects/kaggle/march_mania_24/data/\""
   ]
  },
  {
   "cell_type": "code",
   "execution_count": 6,
   "id": "988b9d5e-8ae0-4bc7-8a8f-544b7a258efa",
   "metadata": {},
   "outputs": [],
   "source": [
    "def load_df(df_name, describe=False):\n",
    "    df = pl.read_csv(join(CFG.dir, f\"{df_name}.csv\"), ignore_errors=True)\n",
    "    print(\"\\n\"+\"*\"*50)\n",
    "    print(f\"DATASET NAME: {df_name}\")\n",
    "    print(f\"SHAPE: {df.shape}\")\n",
    "    print(f\"\\nMEMORY USAGE: {df.estimated_size('b')} bytes\")\n",
    "    print(\"\\nDISPLAY\\n\")\n",
    "    display(df.head(3))\n",
    "    if describe:\n",
    "        print(\"\\nDESCRIBE\\n\")\n",
    "        display(df.describe())\n",
    "    return df"
   ]
  },
  {
   "cell_type": "code",
   "execution_count": 7,
   "id": "d828a06b-0712-4a71-b361-43e4804cf7e7",
   "metadata": {},
   "outputs": [
    {
     "name": "stdout",
     "output_type": "stream",
     "text": [
      "\n",
      "**************************************************\n",
      "DATASET NAME: MNCAATourneyDetailedResults\n",
      "SHAPE: (1315, 34)\n",
      "\n",
      "MEMORY USAGE: 368200 bytes\n",
      "\n",
      "DISPLAY\n",
      "\n"
     ]
    },
    {
     "data": {
      "text/html": [
       "<div><style>\n",
       ".dataframe > thead > tr,\n",
       ".dataframe > tbody > tr {\n",
       "  text-align: right;\n",
       "  white-space: pre-wrap;\n",
       "}\n",
       "</style>\n",
       "<small>shape: (3, 34)</small><table border=\"1\" class=\"dataframe\"><thead><tr><th>Season</th><th>DayNum</th><th>WTeamID</th><th>WScore</th><th>LTeamID</th><th>LScore</th><th>WLoc</th><th>NumOT</th><th>WFGM</th><th>WFGA</th><th>WFGM3</th><th>WFGA3</th><th>WFTM</th><th>WFTA</th><th>WOR</th><th>WDR</th><th>WAst</th><th>WTO</th><th>WStl</th><th>WBlk</th><th>WPF</th><th>LFGM</th><th>LFGA</th><th>LFGM3</th><th>LFGA3</th><th>LFTM</th><th>LFTA</th><th>LOR</th><th>LDR</th><th>LAst</th><th>LTO</th><th>LStl</th><th>LBlk</th><th>LPF</th></tr><tr><td>i64</td><td>i64</td><td>i64</td><td>i64</td><td>i64</td><td>i64</td><td>str</td><td>i64</td><td>i64</td><td>i64</td><td>i64</td><td>i64</td><td>i64</td><td>i64</td><td>i64</td><td>i64</td><td>i64</td><td>i64</td><td>i64</td><td>i64</td><td>i64</td><td>i64</td><td>i64</td><td>i64</td><td>i64</td><td>i64</td><td>i64</td><td>i64</td><td>i64</td><td>i64</td><td>i64</td><td>i64</td><td>i64</td><td>i64</td></tr></thead><tbody><tr><td>2003</td><td>134</td><td>1421</td><td>92</td><td>1411</td><td>84</td><td>&quot;N&quot;</td><td>1</td><td>32</td><td>69</td><td>11</td><td>29</td><td>17</td><td>26</td><td>14</td><td>30</td><td>17</td><td>12</td><td>5</td><td>3</td><td>22</td><td>29</td><td>67</td><td>12</td><td>31</td><td>14</td><td>31</td><td>17</td><td>28</td><td>16</td><td>15</td><td>5</td><td>0</td><td>22</td></tr><tr><td>2003</td><td>136</td><td>1112</td><td>80</td><td>1436</td><td>51</td><td>&quot;N&quot;</td><td>0</td><td>31</td><td>66</td><td>7</td><td>23</td><td>11</td><td>14</td><td>11</td><td>36</td><td>22</td><td>16</td><td>10</td><td>7</td><td>8</td><td>20</td><td>64</td><td>4</td><td>16</td><td>7</td><td>7</td><td>8</td><td>26</td><td>12</td><td>17</td><td>10</td><td>3</td><td>15</td></tr><tr><td>2003</td><td>136</td><td>1113</td><td>84</td><td>1272</td><td>71</td><td>&quot;N&quot;</td><td>0</td><td>31</td><td>59</td><td>6</td><td>14</td><td>16</td><td>22</td><td>10</td><td>27</td><td>18</td><td>9</td><td>7</td><td>4</td><td>19</td><td>25</td><td>69</td><td>7</td><td>28</td><td>14</td><td>21</td><td>20</td><td>22</td><td>11</td><td>12</td><td>2</td><td>5</td><td>18</td></tr></tbody></table></div>"
      ],
      "text/plain": [
       "shape: (3, 34)\n",
       "┌────────┬────────┬─────────┬────────┬───┬─────┬──────┬──────┬─────┐\n",
       "│ Season ┆ DayNum ┆ WTeamID ┆ WScore ┆ … ┆ LTO ┆ LStl ┆ LBlk ┆ LPF │\n",
       "│ ---    ┆ ---    ┆ ---     ┆ ---    ┆   ┆ --- ┆ ---  ┆ ---  ┆ --- │\n",
       "│ i64    ┆ i64    ┆ i64     ┆ i64    ┆   ┆ i64 ┆ i64  ┆ i64  ┆ i64 │\n",
       "╞════════╪════════╪═════════╪════════╪═══╪═════╪══════╪══════╪═════╡\n",
       "│ 2003   ┆ 134    ┆ 1421    ┆ 92     ┆ … ┆ 15  ┆ 5    ┆ 0    ┆ 22  │\n",
       "│ 2003   ┆ 136    ┆ 1112    ┆ 80     ┆ … ┆ 17  ┆ 10   ┆ 3    ┆ 15  │\n",
       "│ 2003   ┆ 136    ┆ 1113    ┆ 84     ┆ … ┆ 12  ┆ 2    ┆ 5    ┆ 18  │\n",
       "└────────┴────────┴─────────┴────────┴───┴─────┴──────┴──────┴─────┘"
      ]
     },
     "metadata": {},
     "output_type": "display_data"
    },
    {
     "name": "stdout",
     "output_type": "stream",
     "text": [
      "shape: (1_315, 6)\n",
      "┌────────┬───────┬─────────┬─────────┬─────────┬─────────┐\n",
      "│ Season ┆ Round ┆ WTeamID ┆ LTeamID ┆ TeamID1 ┆ TeamID2 │\n",
      "│ ---    ┆ ---   ┆ ---     ┆ ---     ┆ ---     ┆ ---     │\n",
      "│ i64    ┆ i32   ┆ i64     ┆ i64     ┆ i64     ┆ i64     │\n",
      "╞════════╪═══════╪═════════╪═════════╪═════════╪═════════╡\n",
      "│ 2003   ┆ 0     ┆ 1421    ┆ 1411    ┆ 1421    ┆ 1411    │\n",
      "│ 2003   ┆ 1     ┆ 1112    ┆ 1436    ┆ 1112    ┆ 1436    │\n",
      "│ 2003   ┆ 1     ┆ 1113    ┆ 1272    ┆ 1272    ┆ 1113    │\n",
      "│ 2003   ┆ 1     ┆ 1141    ┆ 1166    ┆ 1141    ┆ 1166    │\n",
      "│ 2003   ┆ 1     ┆ 1143    ┆ 1301    ┆ 1143    ┆ 1301    │\n",
      "│ …      ┆ …     ┆ …       ┆ …       ┆ …       ┆ …       │\n",
      "│ 2023   ┆ 4     ┆ 1274    ┆ 1400    ┆ 1400    ┆ 1274    │\n",
      "│ 2023   ┆ 4     ┆ 1361    ┆ 1166    ┆ 1166    ┆ 1361    │\n",
      "│ 2023   ┆ 5     ┆ 1163    ┆ 1274    ┆ 1274    ┆ 1163    │\n",
      "│ 2023   ┆ 5     ┆ 1361    ┆ 1194    ┆ 1361    ┆ 1194    │\n",
      "│ 2023   ┆ 6     ┆ 1163    ┆ 1361    ┆ 1163    ┆ 1361    │\n",
      "└────────┴───────┴─────────┴─────────┴─────────┴─────────┘\n"
     ]
    }
   ],
   "source": [
    "mTourneyResults = load_df('MNCAATourneyDetailedResults')\n",
    "mTourneyResults = mTourneyResults.with_columns(\n",
    "    pl.when(mTourneyResults['DayNum'].is_in(range(134, 136))).then(pl.lit(0))\n",
    "    .when(mTourneyResults['DayNum'].is_in(range(136, 138))).then(pl.lit(1))\n",
    "    .when(mTourneyResults['DayNum'].is_in(range(138, 140))).then(pl.lit(2))\n",
    "    .when(mTourneyResults['DayNum'].is_in(range(143, 145))).then(pl.lit(3))\n",
    "    .when(mTourneyResults['DayNum'].is_in(range(145, 147))).then(pl.lit(4))\n",
    "    .when(mTourneyResults['DayNum'] == 152).then(pl.lit(5))\n",
    "    .when(mTourneyResults['DayNum'] == 154).then(pl.lit(6))\n",
    "    .otherwise(pl.lit(-1))\n",
    "    .alias('Round')\n",
    ")\n",
    "y_cols = ['Season', 'Round', 'WTeamID', 'LTeamID']\n",
    "y_df = mTourneyResults.select(y_cols)\n",
    "# randomly shuffle the team ids\n",
    "\n",
    "def random_shuffle(row):\n",
    "    if np.random.rand() < 0.5:\n",
    "        return pl.Series([row[2], row[3]])\n",
    "    else:\n",
    "        return pl.Series([row[3], row[2]])\n",
    "\n",
    "new_df = y_df.map_rows(random_shuffle)\n",
    "new_df = y_df.hstack(new_df)\n",
    "\n",
    "# Splitting the 'map' column into two separate columns\n",
    "new_df = new_df.with_columns(pl.col(\"map\").map_elements(lambda x: x[0], return_dtype=pl.Int64).alias(\"TeamID1\"))\n",
    "new_df = new_df.with_columns(pl.col(\"map\").map_elements(lambda x: x[1], return_dtype=pl.Int64).alias(\"TeamID2\"))\n",
    "\n",
    "# Dropping the original 'map' column\n",
    "new_df = new_df.drop(\"map\")\n",
    "\n",
    "y_df = new_df\n",
    "\n",
    "print(y_df)"
   ]
  },
  {
   "cell_type": "code",
   "execution_count": 8,
   "id": "184d8314-f0dc-42b2-a7dd-7c4312139f2a",
   "metadata": {},
   "outputs": [
    {
     "name": "stdout",
     "output_type": "stream",
     "text": [
      "\n",
      "**************************************************\n",
      "DATASET NAME: MRegSeaAvg\n",
      "SHAPE: (7617, 33)\n",
      "\n",
      "MEMORY USAGE: 2010888 bytes\n",
      "\n",
      "DISPLAY\n",
      "\n"
     ]
    },
    {
     "data": {
      "text/html": [
       "<div><style>\n",
       ".dataframe > thead > tr,\n",
       ".dataframe > tbody > tr {\n",
       "  text-align: right;\n",
       "  white-space: pre-wrap;\n",
       "}\n",
       "</style>\n",
       "<small>shape: (3, 33)</small><table border=\"1\" class=\"dataframe\"><thead><tr><th>Season</th><th>TeamID</th><th>Score_avg</th><th>OppScore_avg</th><th>FGM_avg</th><th>OppFGM_avg</th><th>FGA_avg</th><th>OppFGA_avg</th><th>FGM3_avg</th><th>OppFGM3_avg</th><th>FGA3_avg</th><th>OppFGA3_avg</th><th>FTM_avg</th><th>OppFTM_avg</th><th>FTA_avg</th><th>OppFTA_avg</th><th>OR_avg</th><th>OppOR_avg</th><th>DR_avg</th><th>OppDR_avg</th><th>Ast_avg</th><th>OppAst_avg</th><th>TO_avg</th><th>OppTO_avg</th><th>Stl_avg</th><th>OppStl_avg</th><th>Blk_avg</th><th>OppBlk_avg</th><th>PF_avg</th><th>OppPF_avg</th><th>WinCount</th><th>LossCount</th><th>WinPct</th></tr><tr><td>i64</td><td>i64</td><td>f64</td><td>f64</td><td>f64</td><td>f64</td><td>f64</td><td>f64</td><td>f64</td><td>f64</td><td>f64</td><td>f64</td><td>f64</td><td>f64</td><td>f64</td><td>f64</td><td>f64</td><td>f64</td><td>f64</td><td>f64</td><td>f64</td><td>f64</td><td>f64</td><td>f64</td><td>f64</td><td>f64</td><td>f64</td><td>f64</td><td>f64</td><td>f64</td><td>i64</td><td>i64</td><td>f64</td></tr></thead><tbody><tr><td>2014</td><td>1101</td><td>63.142857</td><td>78.619048</td><td>20.333333</td><td>27.142857</td><td>50.142857</td><td>53.428571</td><td>6.666667</td><td>6.0</td><td>17.857143</td><td>16.190476</td><td>15.809524</td><td>18.333333</td><td>21.190476</td><td>25.809524</td><td>8.0</td><td>10.380952</td><td>20.333333</td><td>24.095238</td><td>10.0</td><td>15.571429</td><td>15.0</td><td>12.142857</td><td>5.761905</td><td>7.0</td><td>1.47619</td><td>5.0</td><td>21.571429</td><td>18.666667</td><td>2</td><td>19</td><td>0.095238</td></tr><tr><td>2015</td><td>1101</td><td>61.0</td><td>71.857143</td><td>21.428571</td><td>25.035714</td><td>52.928571</td><td>50.857143</td><td>7.25</td><td>6.178571</td><td>19.178571</td><td>16.714286</td><td>10.892857</td><td>15.607143</td><td>14.964286</td><td>22.714286</td><td>8.25</td><td>10.035714</td><td>19.642857</td><td>25.892857</td><td>11.857143</td><td>12.928571</td><td>12.821429</td><td>13.464286</td><td>5.928571</td><td>5.857143</td><td>1.178571</td><td>4.25</td><td>20.607143</td><td>16.535714</td><td>7</td><td>21</td><td>0.25</td></tr><tr><td>2016</td><td>1101</td><td>69.851852</td><td>76.259259</td><td>23.814815</td><td>26.481481</td><td>53.925926</td><td>53.666667</td><td>6.851852</td><td>5.592593</td><td>18.851852</td><td>15.148148</td><td>15.37037</td><td>17.703704</td><td>21.740741</td><td>24.962963</td><td>8.185185</td><td>8.592593</td><td>22.518519</td><td>25.222222</td><td>12.888889</td><td>12.851852</td><td>13.407407</td><td>13.444444</td><td>6.740741</td><td>5.111111</td><td>2.444444</td><td>3.296296</td><td>22.37037</td><td>19.666667</td><td>9</td><td>18</td><td>0.333333</td></tr></tbody></table></div>"
      ],
      "text/plain": [
       "shape: (3, 33)\n",
       "┌────────┬────────┬───────────┬──────────────┬───┬───────────┬──────────┬───────────┬──────────┐\n",
       "│ Season ┆ TeamID ┆ Score_avg ┆ OppScore_avg ┆ … ┆ OppPF_avg ┆ WinCount ┆ LossCount ┆ WinPct   │\n",
       "│ ---    ┆ ---    ┆ ---       ┆ ---          ┆   ┆ ---       ┆ ---      ┆ ---       ┆ ---      │\n",
       "│ i64    ┆ i64    ┆ f64       ┆ f64          ┆   ┆ f64       ┆ i64      ┆ i64       ┆ f64      │\n",
       "╞════════╪════════╪═══════════╪══════════════╪═══╪═══════════╪══════════╪═══════════╪══════════╡\n",
       "│ 2014   ┆ 1101   ┆ 63.142857 ┆ 78.619048    ┆ … ┆ 18.666667 ┆ 2        ┆ 19        ┆ 0.095238 │\n",
       "│ 2015   ┆ 1101   ┆ 61.0      ┆ 71.857143    ┆ … ┆ 16.535714 ┆ 7        ┆ 21        ┆ 0.25     │\n",
       "│ 2016   ┆ 1101   ┆ 69.851852 ┆ 76.259259    ┆ … ┆ 19.666667 ┆ 9        ┆ 18        ┆ 0.333333 │\n",
       "└────────┴────────┴───────────┴──────────────┴───┴───────────┴──────────┴───────────┴──────────┘"
      ]
     },
     "metadata": {},
     "output_type": "display_data"
    },
    {
     "name": "stdout",
     "output_type": "stream",
     "text": [
      "shape: (7_617, 33)\n",
      "┌────────┬────────┬───────────┬──────────────┬───┬───────────┬──────────┬───────────┬──────────┐\n",
      "│ Season ┆ TeamID ┆ Score_avg ┆ OppScore_avg ┆ … ┆ OppPF_avg ┆ WinCount ┆ LossCount ┆ WinPct   │\n",
      "│ ---    ┆ ---    ┆ ---       ┆ ---          ┆   ┆ ---       ┆ ---      ┆ ---       ┆ ---      │\n",
      "│ i64    ┆ i64    ┆ f64       ┆ f64          ┆   ┆ f64       ┆ i64      ┆ i64       ┆ f64      │\n",
      "╞════════╪════════╪═══════════╪══════════════╪═══╪═══════════╪══════════╪═══════════╪══════════╡\n",
      "│ 2014   ┆ 1101   ┆ 63.142857 ┆ 78.619048    ┆ … ┆ 18.666667 ┆ 2        ┆ 19        ┆ 0.095238 │\n",
      "│ 2015   ┆ 1101   ┆ 61.0      ┆ 71.857143    ┆ … ┆ 16.535714 ┆ 7        ┆ 21        ┆ 0.25     │\n",
      "│ 2016   ┆ 1101   ┆ 69.851852 ┆ 76.259259    ┆ … ┆ 19.666667 ┆ 9        ┆ 18        ┆ 0.333333 │\n",
      "│ 2017   ┆ 1101   ┆ 67.88     ┆ 72.64        ┆ … ┆ 17.24     ┆ 9        ┆ 16        ┆ 0.36     │\n",
      "│ 2018   ┆ 1101   ┆ 70.666667 ┆ 72.814815    ┆ … ┆ 17.666667 ┆ 12       ┆ 15        ┆ 0.444444 │\n",
      "│ …      ┆ …      ┆ …         ┆ …            ┆ … ┆ …         ┆ …        ┆ …         ┆ …        │\n",
      "│ 2023   ┆ 1476   ┆ 66.133333 ┆ 70.4         ┆ … ┆ 16.433333 ┆ 13       ┆ 17        ┆ 0.433333 │\n",
      "│ 2024   ┆ 1476   ┆ 63.04     ┆ 78.16        ┆ … ┆ 14.08     ┆ 2        ┆ 23        ┆ 0.08     │\n",
      "│ 2023   ┆ 1477   ┆ 70.65625  ┆ 74.21875     ┆ … ┆ 16.28125  ┆ 12       ┆ 20        ┆ 0.375    │\n",
      "│ 2024   ┆ 1477   ┆ 66.136364 ┆ 76.545455    ┆ … ┆ 14.863636 ┆ 6        ┆ 16        ┆ 0.272727 │\n",
      "│ 2024   ┆ 1478   ┆ 70.761905 ┆ 74.380952    ┆ … ┆ 13.380952 ┆ 7        ┆ 14        ┆ 0.333333 │\n",
      "└────────┴────────┴───────────┴──────────────┴───┴───────────┴──────────┴───────────┴──────────┘\n"
     ]
    }
   ],
   "source": [
    "mSeasonAverages = load_df('MRegSeaAvg')\n",
    "print(mSeasonAverages)"
   ]
  },
  {
   "cell_type": "code",
   "execution_count": 9,
   "id": "a3c87075-b1e1-4d7b-8717-6fc7fb011a1a",
   "metadata": {},
   "outputs": [],
   "source": [
    "\n",
    "mseason_columns = mSeasonAverages.columns\n",
    "\n",
    "# Merge mSeasonAverages with y_df for TeamID1\n",
    "merged_df_team1 = y_df\\\n",
    "    .join(mSeasonAverages, \n",
    "          left_on=['Season', 'TeamID1'], \n",
    "          right_on=['Season', 'TeamID'], \n",
    "          how='left')\n",
    "\n",
    "# Columns to exclude\n",
    "columns_to_exclude1 = ['Season', 'Round', 'WTeamID', 'LTeamID', 'TeamID1', 'TeamID2']\n",
    "\n",
    "# Get the columns to rename\n",
    "columns_to_rename1 = [col for col in merged_df_team1.columns if col not in columns_to_exclude1]\n",
    "\n",
    "# Create a mapping of old column names to new column names\n",
    "column_mapping1 = {col: f\"{col}_1\" for col in columns_to_rename1}\n",
    "\n",
    "# Rename the columns using the mapping\n",
    "merged_df_team1 = merged_df_team1.rename(column_mapping1)\n",
    "\n",
    "merged_df_team2 = y_df\\\n",
    "    .join(mSeasonAverages, \n",
    "          left_on=['Season', 'TeamID2'], \n",
    "          right_on=['Season', 'TeamID'], \n",
    "          how='left')\n",
    "\n",
    "# Columns to exclude\n",
    "columns_to_exclude2 = ['Season', 'Round', 'WTeamID', 'LTeamID', 'TeamID1', 'TeamID2']\n",
    "\n",
    "# Get the columns to rename\n",
    "columns_to_rename2 = [col for col in merged_df_team2.columns if col not in columns_to_exclude2]\n",
    "\n",
    "# Create a mapping of old column names to new column names\n",
    "column_mapping2 = {col: f\"{col}_2\" for col in columns_to_rename2}\n",
    "\n",
    "# Rename the columns using the mapping\n",
    "merged_df_team2 = merged_df_team2.rename(column_mapping2)"
   ]
  },
  {
   "cell_type": "code",
   "execution_count": 10,
   "id": "a5179b2a-cdff-46bf-af39-23239ed1c3d7",
   "metadata": {},
   "outputs": [],
   "source": [
    "columns_to_drop1 = ['WTeamID', 'LTeamID', 'TeamID1', 'TeamID2']\n",
    "columns_to_drop2 = ['Season', 'Round', 'WTeamID', 'LTeamID', 'TeamID1', 'TeamID2']\n",
    "\n",
    "X1 = merged_df_team1.drop(columns_to_drop1)\n",
    "X2 = merged_df_team2.drop(columns_to_drop2)"
   ]
  },
  {
   "cell_type": "code",
   "execution_count": 17,
   "id": "24ce19b7-25ce-4fbc-82f8-df2d9a0df29a",
   "metadata": {},
   "outputs": [],
   "source": [
    "X_df = X1.hstack(X2)"
   ]
  },
  {
   "cell_type": "code",
   "execution_count": 18,
   "id": "00a92bf9-3f2e-4521-bb28-815c1a3d86ff",
   "metadata": {},
   "outputs": [
    {
     "data": {
      "text/html": [
       "<div><style>\n",
       ".dataframe > thead > tr,\n",
       ".dataframe > tbody > tr {\n",
       "  text-align: right;\n",
       "  white-space: pre-wrap;\n",
       "}\n",
       "</style>\n",
       "<small>shape: (1_315, 64)</small><table border=\"1\" class=\"dataframe\"><thead><tr><th>Season</th><th>Round</th><th>Score_avg_1</th><th>OppScore_avg_1</th><th>FGM_avg_1</th><th>OppFGM_avg_1</th><th>FGA_avg_1</th><th>OppFGA_avg_1</th><th>FGM3_avg_1</th><th>OppFGM3_avg_1</th><th>FGA3_avg_1</th><th>OppFGA3_avg_1</th><th>FTM_avg_1</th><th>OppFTM_avg_1</th><th>FTA_avg_1</th><th>OppFTA_avg_1</th><th>OR_avg_1</th><th>OppOR_avg_1</th><th>DR_avg_1</th><th>OppDR_avg_1</th><th>Ast_avg_1</th><th>OppAst_avg_1</th><th>TO_avg_1</th><th>OppTO_avg_1</th><th>Stl_avg_1</th><th>OppStl_avg_1</th><th>Blk_avg_1</th><th>OppBlk_avg_1</th><th>PF_avg_1</th><th>OppPF_avg_1</th><th>WinCount_1</th><th>LossCount_1</th><th>WinPct_1</th><th>Score_avg_2</th><th>OppScore_avg_2</th><th>FGM_avg_2</th><th>OppFGM_avg_2</th><th>FGA_avg_2</th><th>OppFGA_avg_2</th><th>FGM3_avg_2</th><th>OppFGM3_avg_2</th><th>FGA3_avg_2</th><th>OppFGA3_avg_2</th><th>FTM_avg_2</th><th>OppFTM_avg_2</th><th>FTA_avg_2</th><th>OppFTA_avg_2</th><th>OR_avg_2</th><th>OppOR_avg_2</th><th>DR_avg_2</th><th>OppDR_avg_2</th><th>Ast_avg_2</th><th>OppAst_avg_2</th><th>TO_avg_2</th><th>OppTO_avg_2</th><th>Stl_avg_2</th><th>OppStl_avg_2</th><th>Blk_avg_2</th><th>OppBlk_avg_2</th><th>PF_avg_2</th><th>OppPF_avg_2</th><th>WinCount_2</th><th>LossCount_2</th><th>WinPct_2</th></tr><tr><td>i64</td><td>i32</td><td>f64</td><td>f64</td><td>f64</td><td>f64</td><td>f64</td><td>f64</td><td>f64</td><td>f64</td><td>f64</td><td>f64</td><td>f64</td><td>f64</td><td>f64</td><td>f64</td><td>f64</td><td>f64</td><td>f64</td><td>f64</td><td>f64</td><td>f64</td><td>f64</td><td>f64</td><td>f64</td><td>f64</td><td>f64</td><td>f64</td><td>f64</td><td>f64</td><td>i64</td><td>i64</td><td>f64</td><td>f64</td><td>f64</td><td>f64</td><td>f64</td><td>f64</td><td>f64</td><td>f64</td><td>f64</td><td>f64</td><td>f64</td><td>f64</td><td>f64</td><td>f64</td><td>f64</td><td>f64</td><td>f64</td><td>f64</td><td>f64</td><td>f64</td><td>f64</td><td>f64</td><td>f64</td><td>f64</td><td>f64</td><td>f64</td><td>f64</td><td>f64</td><td>f64</td><td>i64</td><td>i64</td><td>f64</td></tr></thead><tbody><tr><td>2003</td><td>0</td><td>71.206897</td><td>78.448276</td><td>24.37931</td><td>27.793103</td><td>56.793103</td><td>60.965517</td><td>6.482759</td><td>7.62069</td><td>18.0</td><td>20.758621</td><td>15.965517</td><td>15.241379</td><td>20.931034</td><td>22.551724</td><td>12.275862</td><td>13.724138</td><td>23.172414</td><td>22.827586</td><td>13.034483</td><td>15.862069</td><td>16.206897</td><td>12.827586</td><td>7.068966</td><td>8.827586</td><td>3.0</td><td>4.241379</td><td>19.103448</td><td>18.689655</td><td>13</td><td>16</td><td>0.448276</td><td>72.8</td><td>70.833333</td><td>24.733333</td><td>25.666667</td><td>55.266667</td><td>60.4</td><td>5.933333</td><td>7.533333</td><td>18.5</td><td>23.166667</td><td>17.4</td><td>11.966667</td><td>28.066667</td><td>18.733333</td><td>13.166667</td><td>11.933333</td><td>24.8</td><td>22.866667</td><td>14.2</td><td>13.766667</td><td>15.233333</td><td>14.333333</td><td>6.433333</td><td>8.0</td><td>2.233333</td><td>2.6</td><td>18.3</td><td>21.633333</td><td>18</td><td>12</td><td>0.6</td></tr><tr><td>2003</td><td>1</td><td>85.214286</td><td>70.25</td><td>30.321429</td><td>26.357143</td><td>65.714286</td><td>64.678571</td><td>7.035714</td><td>6.321429</td><td>20.071429</td><td>19.964286</td><td>17.535714</td><td>11.214286</td><td>25.0</td><td>17.714286</td><td>15.178571</td><td>13.107143</td><td>27.642857</td><td>23.285714</td><td>17.642857</td><td>15.464286</td><td>14.785714</td><td>16.857143</td><td>8.464286</td><td>5.964286</td><td>4.214286</td><td>2.392857</td><td>17.75</td><td>22.071429</td><td>25</td><td>3</td><td>0.892857</td><td>67.793103</td><td>63.137931</td><td>24.827586</td><td>22.758621</td><td>55.862069</td><td>55.068966</td><td>5.275862</td><td>7.068966</td><td>15.482759</td><td>21.448276</td><td>12.862069</td><td>10.551724</td><td>19.551724</td><td>15.758621</td><td>12.965517</td><td>9.586207</td><td>25.724138</td><td>21.862069</td><td>14.206897</td><td>13.275862</td><td>14.068966</td><td>13.0</td><td>6.862069</td><td>7.103448</td><td>2.965517</td><td>3.655172</td><td>15.896552</td><td>17.931034</td><td>19</td><td>10</td><td>0.655172</td></tr><tr><td>2003</td><td>1</td><td>74.517241</td><td>65.827586</td><td>26.275862</td><td>23.275862</td><td>60.0</td><td>57.862069</td><td>7.0</td><td>5.896552</td><td>20.068966</td><td>18.310345</td><td>14.965517</td><td>13.37931</td><td>22.896552</td><td>20.724138</td><td>14.068966</td><td>12.344828</td><td>25.965517</td><td>23.586207</td><td>16.62069</td><td>13.310345</td><td>13.793103</td><td>15.068966</td><td>7.37931</td><td>7.275862</td><td>5.068966</td><td>3.172414</td><td>18.758621</td><td>19.931034</td><td>23</td><td>6</td><td>0.793103</td><td>75.965517</td><td>69.172414</td><td>27.206897</td><td>24.793103</td><td>56.896552</td><td>55.655172</td><td>4.0</td><td>5.448276</td><td>12.586207</td><td>15.896552</td><td>17.551724</td><td>14.137931</td><td>26.206897</td><td>20.517241</td><td>13.689655</td><td>11.0</td><td>23.310345</td><td>20.551724</td><td>15.551724</td><td>14.068966</td><td>14.0</td><td>15.517241</td><td>5.206897</td><td>6.0</td><td>4.241379</td><td>3.931034</td><td>19.413793</td><td>22.862069</td><td>18</td><td>11</td><td>0.62069</td></tr><tr><td>2003</td><td>1</td><td>79.344828</td><td>73.241379</td><td>26.62069</td><td>26.344828</td><td>52.689655</td><td>57.931034</td><td>6.827586</td><td>4.965517</td><td>17.931034</td><td>13.896552</td><td>19.275862</td><td>15.586207</td><td>25.172414</td><td>21.965517</td><td>10.586207</td><td>12.241379</td><td>23.275862</td><td>18.896552</td><td>15.62069</td><td>11.793103</td><td>18.241379</td><td>16.068966</td><td>7.103448</td><td>8.448276</td><td>4.0</td><td>2.482759</td><td>20.965517</td><td>21.689655</td><td>23</td><td>6</td><td>0.793103</td><td>79.242424</td><td>64.333333</td><td>28.69697</td><td>23.878788</td><td>57.454545</td><td>55.333333</td><td>7.969697</td><td>4.878788</td><td>20.484848</td><td>14.30303</td><td>13.878788</td><td>11.69697</td><td>20.030303</td><td>16.69697</td><td>10.878788</td><td>11.060606</td><td>23.181818</td><td>21.363636</td><td>16.818182</td><td>12.363636</td><td>13.363636</td><td>17.060606</td><td>8.393939</td><td>6.333333</td><td>4.454545</td><td>2.575758</td><td>17.272727</td><td>19.393939</td><td>29</td><td>4</td><td>0.878788</td></tr><tr><td>2003</td><td>1</td><td>74.482759</td><td>69.758621</td><td>27.344828</td><td>25.37931</td><td>58.724138</td><td>58.793103</td><td>6.413793</td><td>7.103448</td><td>17.034483</td><td>21.448276</td><td>13.37931</td><td>11.896552</td><td>19.517241</td><td>17.448276</td><td>11.241379</td><td>11.172414</td><td>24.37931</td><td>23.0</td><td>16.0</td><td>16.034483</td><td>14.172414</td><td>14.931034</td><td>6.551724</td><td>5.931034</td><td>2.793103</td><td>2.517241</td><td>17.103448</td><td>19.103448</td><td>21</td><td>8</td><td>0.724138</td><td>72.4</td><td>68.0</td><td>24.333333</td><td>23.433333</td><td>53.333333</td><td>53.133333</td><td>7.966667</td><td>5.733333</td><td>22.5</td><td>17.0</td><td>15.766667</td><td>15.4</td><td>20.466667</td><td>21.2</td><td>9.733333</td><td>10.533333</td><td>22.033333</td><td>21.433333</td><td>14.666667</td><td>12.566667</td><td>14.2</td><td>14.633333</td><td>7.766667</td><td>7.433333</td><td>3.066667</td><td>2.833333</td><td>18.666667</td><td>19.333333</td><td>18</td><td>12</td><td>0.6</td></tr><tr><td>&hellip;</td><td>&hellip;</td><td>&hellip;</td><td>&hellip;</td><td>&hellip;</td><td>&hellip;</td><td>&hellip;</td><td>&hellip;</td><td>&hellip;</td><td>&hellip;</td><td>&hellip;</td><td>&hellip;</td><td>&hellip;</td><td>&hellip;</td><td>&hellip;</td><td>&hellip;</td><td>&hellip;</td><td>&hellip;</td><td>&hellip;</td><td>&hellip;</td><td>&hellip;</td><td>&hellip;</td><td>&hellip;</td><td>&hellip;</td><td>&hellip;</td><td>&hellip;</td><td>&hellip;</td><td>&hellip;</td><td>&hellip;</td><td>&hellip;</td><td>&hellip;</td><td>&hellip;</td><td>&hellip;</td><td>&hellip;</td><td>&hellip;</td><td>&hellip;</td><td>&hellip;</td><td>&hellip;</td><td>&hellip;</td><td>&hellip;</td><td>&hellip;</td><td>&hellip;</td><td>&hellip;</td><td>&hellip;</td><td>&hellip;</td><td>&hellip;</td><td>&hellip;</td><td>&hellip;</td><td>&hellip;</td><td>&hellip;</td><td>&hellip;</td><td>&hellip;</td><td>&hellip;</td><td>&hellip;</td><td>&hellip;</td><td>&hellip;</td><td>&hellip;</td><td>&hellip;</td><td>&hellip;</td><td>&hellip;</td><td>&hellip;</td><td>&hellip;</td><td>&hellip;</td><td>&hellip;</td></tr><tr><td>2023</td><td>4</td><td>77.852941</td><td>67.411765</td><td>28.205882</td><td>23.5</td><td>60.176471</td><td>55.882353</td><td>7.147059</td><td>6.470588</td><td>21.088235</td><td>19.794118</td><td>14.294118</td><td>13.941176</td><td>19.0</td><td>19.264706</td><td>8.588235</td><td>8.411765</td><td>23.147059</td><td>22.823529</td><td>15.911765</td><td>11.352941</td><td>11.029412</td><td>15.382353</td><td>8.058824</td><td>5.735294</td><td>3.647059</td><td>3.264706</td><td>17.617647</td><td>17.970588</td><td>26</td><td>8</td><td>0.764706</td><td>79.40625</td><td>72.125</td><td>28.96875</td><td>26.90625</td><td>59.625</td><td>59.84375</td><td>7.59375</td><td>7.5625</td><td>20.65625</td><td>22.53125</td><td>13.875</td><td>10.75</td><td>17.875</td><td>14.4375</td><td>8.96875</td><td>8.28125</td><td>22.90625</td><td>20.78125</td><td>14.9375</td><td>14.3125</td><td>10.9375</td><td>12.1875</td><td>7.34375</td><td>5.96875</td><td>3.28125</td><td>3.28125</td><td>14.40625</td><td>15.0625</td><td>25</td><td>7</td><td>0.78125</td></tr><tr><td>2023</td><td>4</td><td>76.636364</td><td>68.484848</td><td>27.515152</td><td>26.515152</td><td>58.878788</td><td>62.848485</td><td>8.909091</td><td>6.393939</td><td>24.757576</td><td>18.727273</td><td>12.69697</td><td>9.060606</td><td>16.545455</td><td>12.424242</td><td>7.515152</td><td>7.636364</td><td>27.242424</td><td>23.242424</td><td>15.909091</td><td>12.484848</td><td>10.969697</td><td>9.515152</td><td>5.242424</td><td>6.181818</td><td>4.181818</td><td>2.848485</td><td>13.151515</td><td>15.848485</td><td>21</td><td>12</td><td>0.636364</td><td>71.34375</td><td>63.8125</td><td>25.09375</td><td>22.78125</td><td>56.84375</td><td>54.75</td><td>6.8125</td><td>6.40625</td><td>19.8125</td><td>21.96875</td><td>14.34375</td><td>11.84375</td><td>19.5</td><td>16.09375</td><td>9.21875</td><td>7.3125</td><td>23.4375</td><td>20.8125</td><td>13.03125</td><td>10.75</td><td>10.90625</td><td>12.15625</td><td>7.125</td><td>6.3125</td><td>3.71875</td><td>2.9375</td><td>16.5</td><td>18.21875</td><td>26</td><td>6</td><td>0.8125</td></tr><tr><td>2023</td><td>5</td><td>79.40625</td><td>72.125</td><td>28.96875</td><td>26.90625</td><td>59.625</td><td>59.84375</td><td>7.59375</td><td>7.5625</td><td>20.65625</td><td>22.53125</td><td>13.875</td><td>10.75</td><td>17.875</td><td>14.4375</td><td>8.96875</td><td>8.28125</td><td>22.90625</td><td>20.78125</td><td>14.9375</td><td>14.3125</td><td>10.9375</td><td>12.1875</td><td>7.34375</td><td>5.96875</td><td>3.28125</td><td>3.28125</td><td>14.40625</td><td>15.0625</td><td>25</td><td>7</td><td>0.78125</td><td>78.454545</td><td>65.030303</td><td>27.606061</td><td>22.30303</td><td>60.030303</td><td>54.393939</td><td>9.0</td><td>4.939394</td><td>25.212121</td><td>16.484848</td><td>14.242424</td><td>15.484848</td><td>18.878788</td><td>21.030303</td><td>11.787879</td><td>6.969697</td><td>24.151515</td><td>19.212121</td><td>17.272727</td><td>9.151515</td><td>12.333333</td><td>12.666667</td><td>6.545455</td><td>6.666667</td><td>4.878788</td><td>2.878788</td><td>18.121212</td><td>17.363636</td><td>25</td><td>8</td><td>0.757576</td></tr><tr><td>2023</td><td>5</td><td>71.34375</td><td>63.8125</td><td>25.09375</td><td>22.78125</td><td>56.84375</td><td>54.75</td><td>6.8125</td><td>6.40625</td><td>19.8125</td><td>21.96875</td><td>14.34375</td><td>11.84375</td><td>19.5</td><td>16.09375</td><td>9.21875</td><td>7.3125</td><td>23.4375</td><td>20.8125</td><td>13.03125</td><td>10.75</td><td>10.90625</td><td>12.15625</td><td>7.125</td><td>6.3125</td><td>3.71875</td><td>2.9375</td><td>16.5</td><td>18.21875</td><td>26</td><td>6</td><td>0.8125</td><td>78.15625</td><td>65.28125</td><td>27.90625</td><td>23.59375</td><td>59.59375</td><td>58.40625</td><td>9.71875</td><td>6.40625</td><td>26.09375</td><td>20.0</td><td>12.625</td><td>11.6875</td><td>17.59375</td><td>15.59375</td><td>9.125</td><td>7.65625</td><td>26.0625</td><td>22.46875</td><td>14.21875</td><td>7.875</td><td>11.09375</td><td>12.09375</td><td>6.5</td><td>5.625</td><td>2.53125</td><td>2.40625</td><td>15.84375</td><td>16.75</td><td>29</td><td>3</td><td>0.90625</td></tr><tr><td>2023</td><td>6</td><td>78.454545</td><td>65.030303</td><td>27.606061</td><td>22.30303</td><td>60.030303</td><td>54.393939</td><td>9.0</td><td>4.939394</td><td>25.212121</td><td>16.484848</td><td>14.242424</td><td>15.484848</td><td>18.878788</td><td>21.030303</td><td>11.787879</td><td>6.969697</td><td>24.151515</td><td>19.212121</td><td>17.272727</td><td>9.151515</td><td>12.333333</td><td>12.666667</td><td>6.545455</td><td>6.666667</td><td>4.878788</td><td>2.878788</td><td>18.121212</td><td>17.363636</td><td>25</td><td>8</td><td>0.757576</td><td>71.34375</td><td>63.8125</td><td>25.09375</td><td>22.78125</td><td>56.84375</td><td>54.75</td><td>6.8125</td><td>6.40625</td><td>19.8125</td><td>21.96875</td><td>14.34375</td><td>11.84375</td><td>19.5</td><td>16.09375</td><td>9.21875</td><td>7.3125</td><td>23.4375</td><td>20.8125</td><td>13.03125</td><td>10.75</td><td>10.90625</td><td>12.15625</td><td>7.125</td><td>6.3125</td><td>3.71875</td><td>2.9375</td><td>16.5</td><td>18.21875</td><td>26</td><td>6</td><td>0.8125</td></tr></tbody></table></div>"
      ],
      "text/plain": [
       "shape: (1_315, 64)\n",
       "┌────────┬───────┬─────────────┬─────────────┬───┬────────────┬────────────┬────────────┬──────────┐\n",
       "│ Season ┆ Round ┆ Score_avg_1 ┆ OppScore_av ┆ … ┆ OppPF_avg_ ┆ WinCount_2 ┆ LossCount_ ┆ WinPct_2 │\n",
       "│ ---    ┆ ---   ┆ ---         ┆ g_1         ┆   ┆ 2          ┆ ---        ┆ 2          ┆ ---      │\n",
       "│ i64    ┆ i32   ┆ f64         ┆ ---         ┆   ┆ ---        ┆ i64        ┆ ---        ┆ f64      │\n",
       "│        ┆       ┆             ┆ f64         ┆   ┆ f64        ┆            ┆ i64        ┆          │\n",
       "╞════════╪═══════╪═════════════╪═════════════╪═══╪════════════╪════════════╪════════════╪══════════╡\n",
       "│ 2003   ┆ 0     ┆ 71.206897   ┆ 78.448276   ┆ … ┆ 21.633333  ┆ 18         ┆ 12         ┆ 0.6      │\n",
       "│ 2003   ┆ 1     ┆ 85.214286   ┆ 70.25       ┆ … ┆ 17.931034  ┆ 19         ┆ 10         ┆ 0.655172 │\n",
       "│ 2003   ┆ 1     ┆ 74.517241   ┆ 65.827586   ┆ … ┆ 22.862069  ┆ 18         ┆ 11         ┆ 0.62069  │\n",
       "│ 2003   ┆ 1     ┆ 79.344828   ┆ 73.241379   ┆ … ┆ 19.393939  ┆ 29         ┆ 4          ┆ 0.878788 │\n",
       "│ 2003   ┆ 1     ┆ 74.482759   ┆ 69.758621   ┆ … ┆ 19.333333  ┆ 18         ┆ 12         ┆ 0.6      │\n",
       "│ …      ┆ …     ┆ …           ┆ …           ┆ … ┆ …          ┆ …          ┆ …          ┆ …        │\n",
       "│ 2023   ┆ 4     ┆ 77.852941   ┆ 67.411765   ┆ … ┆ 15.0625    ┆ 25         ┆ 7          ┆ 0.78125  │\n",
       "│ 2023   ┆ 4     ┆ 76.636364   ┆ 68.484848   ┆ … ┆ 18.21875   ┆ 26         ┆ 6          ┆ 0.8125   │\n",
       "│ 2023   ┆ 5     ┆ 79.40625    ┆ 72.125      ┆ … ┆ 17.363636  ┆ 25         ┆ 8          ┆ 0.757576 │\n",
       "│ 2023   ┆ 5     ┆ 71.34375    ┆ 63.8125     ┆ … ┆ 16.75      ┆ 29         ┆ 3          ┆ 0.90625  │\n",
       "│ 2023   ┆ 6     ┆ 78.454545   ┆ 65.030303   ┆ … ┆ 18.21875   ┆ 26         ┆ 6          ┆ 0.8125   │\n",
       "└────────┴───────┴─────────────┴─────────────┴───┴────────────┴────────────┴────────────┴──────────┘"
      ]
     },
     "execution_count": 18,
     "metadata": {},
     "output_type": "execute_result"
    }
   ],
   "source": [
    "X_df"
   ]
  },
  {
   "cell_type": "code",
   "execution_count": 19,
   "id": "2a3aca97-9869-44b7-82dc-531b1193a761",
   "metadata": {},
   "outputs": [
    {
     "data": {
      "text/html": [
       "<div><style>\n",
       ".dataframe > thead > tr,\n",
       ".dataframe > tbody > tr {\n",
       "  text-align: right;\n",
       "  white-space: pre-wrap;\n",
       "}\n",
       "</style>\n",
       "<small>shape: (1_315, 1)</small><table border=\"1\" class=\"dataframe\"><thead><tr><th>result</th></tr><tr><td>i32</td></tr></thead><tbody><tr><td>1</td></tr><tr><td>1</td></tr><tr><td>0</td></tr><tr><td>1</td></tr><tr><td>1</td></tr><tr><td>&hellip;</td></tr><tr><td>0</td></tr><tr><td>0</td></tr><tr><td>0</td></tr><tr><td>1</td></tr><tr><td>1</td></tr></tbody></table></div>"
      ],
      "text/plain": [
       "shape: (1_315, 1)\n",
       "┌────────┐\n",
       "│ result │\n",
       "│ ---    │\n",
       "│ i32    │\n",
       "╞════════╡\n",
       "│ 1      │\n",
       "│ 1      │\n",
       "│ 0      │\n",
       "│ 1      │\n",
       "│ 1      │\n",
       "│ …      │\n",
       "│ 0      │\n",
       "│ 0      │\n",
       "│ 0      │\n",
       "│ 1      │\n",
       "│ 1      │\n",
       "└────────┘"
      ]
     },
     "execution_count": 19,
     "metadata": {},
     "output_type": "execute_result"
    }
   ],
   "source": [
    "y_label_df = y_df.with_columns(\n",
    "    pl.when(y_df['WTeamID'] == y_df['TeamID1']).then(1).otherwise(0).alias('result')\n",
    ")\n",
    "y_label_df = y_label_df.drop('Season', 'Round', 'WTeamID', 'LTeamID', 'TeamID1', 'TeamID2')\n",
    "y_label_df"
   ]
  },
  {
   "cell_type": "code",
   "execution_count": 20,
   "id": "4e62491e-4f99-4cfc-982b-dd55603dde82",
   "metadata": {},
   "outputs": [
    {
     "data": {
      "text/html": [
       "<div><style>\n",
       ".dataframe > thead > tr,\n",
       ".dataframe > tbody > tr {\n",
       "  text-align: right;\n",
       "  white-space: pre-wrap;\n",
       "}\n",
       "</style>\n",
       "<small>shape: (1_315, 64)</small><table border=\"1\" class=\"dataframe\"><thead><tr><th>Season</th><th>Round</th><th>Score_avg_1</th><th>OppScore_avg_1</th><th>FGM_avg_1</th><th>OppFGM_avg_1</th><th>FGA_avg_1</th><th>OppFGA_avg_1</th><th>FGM3_avg_1</th><th>OppFGM3_avg_1</th><th>FGA3_avg_1</th><th>OppFGA3_avg_1</th><th>FTM_avg_1</th><th>OppFTM_avg_1</th><th>FTA_avg_1</th><th>OppFTA_avg_1</th><th>OR_avg_1</th><th>OppOR_avg_1</th><th>DR_avg_1</th><th>OppDR_avg_1</th><th>Ast_avg_1</th><th>OppAst_avg_1</th><th>TO_avg_1</th><th>OppTO_avg_1</th><th>Stl_avg_1</th><th>OppStl_avg_1</th><th>Blk_avg_1</th><th>OppBlk_avg_1</th><th>PF_avg_1</th><th>OppPF_avg_1</th><th>WinCount_1</th><th>LossCount_1</th><th>WinPct_1</th><th>Score_avg_2</th><th>OppScore_avg_2</th><th>FGM_avg_2</th><th>OppFGM_avg_2</th><th>FGA_avg_2</th><th>OppFGA_avg_2</th><th>FGM3_avg_2</th><th>OppFGM3_avg_2</th><th>FGA3_avg_2</th><th>OppFGA3_avg_2</th><th>FTM_avg_2</th><th>OppFTM_avg_2</th><th>FTA_avg_2</th><th>OppFTA_avg_2</th><th>OR_avg_2</th><th>OppOR_avg_2</th><th>DR_avg_2</th><th>OppDR_avg_2</th><th>Ast_avg_2</th><th>OppAst_avg_2</th><th>TO_avg_2</th><th>OppTO_avg_2</th><th>Stl_avg_2</th><th>OppStl_avg_2</th><th>Blk_avg_2</th><th>OppBlk_avg_2</th><th>PF_avg_2</th><th>OppPF_avg_2</th><th>WinCount_2</th><th>LossCount_2</th><th>WinPct_2</th></tr><tr><td>i64</td><td>i32</td><td>f64</td><td>f64</td><td>f64</td><td>f64</td><td>f64</td><td>f64</td><td>f64</td><td>f64</td><td>f64</td><td>f64</td><td>f64</td><td>f64</td><td>f64</td><td>f64</td><td>f64</td><td>f64</td><td>f64</td><td>f64</td><td>f64</td><td>f64</td><td>f64</td><td>f64</td><td>f64</td><td>f64</td><td>f64</td><td>f64</td><td>f64</td><td>f64</td><td>i64</td><td>i64</td><td>f64</td><td>f64</td><td>f64</td><td>f64</td><td>f64</td><td>f64</td><td>f64</td><td>f64</td><td>f64</td><td>f64</td><td>f64</td><td>f64</td><td>f64</td><td>f64</td><td>f64</td><td>f64</td><td>f64</td><td>f64</td><td>f64</td><td>f64</td><td>f64</td><td>f64</td><td>f64</td><td>f64</td><td>f64</td><td>f64</td><td>f64</td><td>f64</td><td>f64</td><td>i64</td><td>i64</td><td>f64</td></tr></thead><tbody><tr><td>2003</td><td>0</td><td>71.206897</td><td>78.448276</td><td>24.37931</td><td>27.793103</td><td>56.793103</td><td>60.965517</td><td>6.482759</td><td>7.62069</td><td>18.0</td><td>20.758621</td><td>15.965517</td><td>15.241379</td><td>20.931034</td><td>22.551724</td><td>12.275862</td><td>13.724138</td><td>23.172414</td><td>22.827586</td><td>13.034483</td><td>15.862069</td><td>16.206897</td><td>12.827586</td><td>7.068966</td><td>8.827586</td><td>3.0</td><td>4.241379</td><td>19.103448</td><td>18.689655</td><td>13</td><td>16</td><td>0.448276</td><td>72.8</td><td>70.833333</td><td>24.733333</td><td>25.666667</td><td>55.266667</td><td>60.4</td><td>5.933333</td><td>7.533333</td><td>18.5</td><td>23.166667</td><td>17.4</td><td>11.966667</td><td>28.066667</td><td>18.733333</td><td>13.166667</td><td>11.933333</td><td>24.8</td><td>22.866667</td><td>14.2</td><td>13.766667</td><td>15.233333</td><td>14.333333</td><td>6.433333</td><td>8.0</td><td>2.233333</td><td>2.6</td><td>18.3</td><td>21.633333</td><td>18</td><td>12</td><td>0.6</td></tr><tr><td>2003</td><td>1</td><td>85.214286</td><td>70.25</td><td>30.321429</td><td>26.357143</td><td>65.714286</td><td>64.678571</td><td>7.035714</td><td>6.321429</td><td>20.071429</td><td>19.964286</td><td>17.535714</td><td>11.214286</td><td>25.0</td><td>17.714286</td><td>15.178571</td><td>13.107143</td><td>27.642857</td><td>23.285714</td><td>17.642857</td><td>15.464286</td><td>14.785714</td><td>16.857143</td><td>8.464286</td><td>5.964286</td><td>4.214286</td><td>2.392857</td><td>17.75</td><td>22.071429</td><td>25</td><td>3</td><td>0.892857</td><td>67.793103</td><td>63.137931</td><td>24.827586</td><td>22.758621</td><td>55.862069</td><td>55.068966</td><td>5.275862</td><td>7.068966</td><td>15.482759</td><td>21.448276</td><td>12.862069</td><td>10.551724</td><td>19.551724</td><td>15.758621</td><td>12.965517</td><td>9.586207</td><td>25.724138</td><td>21.862069</td><td>14.206897</td><td>13.275862</td><td>14.068966</td><td>13.0</td><td>6.862069</td><td>7.103448</td><td>2.965517</td><td>3.655172</td><td>15.896552</td><td>17.931034</td><td>19</td><td>10</td><td>0.655172</td></tr><tr><td>2003</td><td>1</td><td>74.517241</td><td>65.827586</td><td>26.275862</td><td>23.275862</td><td>60.0</td><td>57.862069</td><td>7.0</td><td>5.896552</td><td>20.068966</td><td>18.310345</td><td>14.965517</td><td>13.37931</td><td>22.896552</td><td>20.724138</td><td>14.068966</td><td>12.344828</td><td>25.965517</td><td>23.586207</td><td>16.62069</td><td>13.310345</td><td>13.793103</td><td>15.068966</td><td>7.37931</td><td>7.275862</td><td>5.068966</td><td>3.172414</td><td>18.758621</td><td>19.931034</td><td>23</td><td>6</td><td>0.793103</td><td>75.965517</td><td>69.172414</td><td>27.206897</td><td>24.793103</td><td>56.896552</td><td>55.655172</td><td>4.0</td><td>5.448276</td><td>12.586207</td><td>15.896552</td><td>17.551724</td><td>14.137931</td><td>26.206897</td><td>20.517241</td><td>13.689655</td><td>11.0</td><td>23.310345</td><td>20.551724</td><td>15.551724</td><td>14.068966</td><td>14.0</td><td>15.517241</td><td>5.206897</td><td>6.0</td><td>4.241379</td><td>3.931034</td><td>19.413793</td><td>22.862069</td><td>18</td><td>11</td><td>0.62069</td></tr><tr><td>2003</td><td>1</td><td>79.344828</td><td>73.241379</td><td>26.62069</td><td>26.344828</td><td>52.689655</td><td>57.931034</td><td>6.827586</td><td>4.965517</td><td>17.931034</td><td>13.896552</td><td>19.275862</td><td>15.586207</td><td>25.172414</td><td>21.965517</td><td>10.586207</td><td>12.241379</td><td>23.275862</td><td>18.896552</td><td>15.62069</td><td>11.793103</td><td>18.241379</td><td>16.068966</td><td>7.103448</td><td>8.448276</td><td>4.0</td><td>2.482759</td><td>20.965517</td><td>21.689655</td><td>23</td><td>6</td><td>0.793103</td><td>79.242424</td><td>64.333333</td><td>28.69697</td><td>23.878788</td><td>57.454545</td><td>55.333333</td><td>7.969697</td><td>4.878788</td><td>20.484848</td><td>14.30303</td><td>13.878788</td><td>11.69697</td><td>20.030303</td><td>16.69697</td><td>10.878788</td><td>11.060606</td><td>23.181818</td><td>21.363636</td><td>16.818182</td><td>12.363636</td><td>13.363636</td><td>17.060606</td><td>8.393939</td><td>6.333333</td><td>4.454545</td><td>2.575758</td><td>17.272727</td><td>19.393939</td><td>29</td><td>4</td><td>0.878788</td></tr><tr><td>2003</td><td>1</td><td>74.482759</td><td>69.758621</td><td>27.344828</td><td>25.37931</td><td>58.724138</td><td>58.793103</td><td>6.413793</td><td>7.103448</td><td>17.034483</td><td>21.448276</td><td>13.37931</td><td>11.896552</td><td>19.517241</td><td>17.448276</td><td>11.241379</td><td>11.172414</td><td>24.37931</td><td>23.0</td><td>16.0</td><td>16.034483</td><td>14.172414</td><td>14.931034</td><td>6.551724</td><td>5.931034</td><td>2.793103</td><td>2.517241</td><td>17.103448</td><td>19.103448</td><td>21</td><td>8</td><td>0.724138</td><td>72.4</td><td>68.0</td><td>24.333333</td><td>23.433333</td><td>53.333333</td><td>53.133333</td><td>7.966667</td><td>5.733333</td><td>22.5</td><td>17.0</td><td>15.766667</td><td>15.4</td><td>20.466667</td><td>21.2</td><td>9.733333</td><td>10.533333</td><td>22.033333</td><td>21.433333</td><td>14.666667</td><td>12.566667</td><td>14.2</td><td>14.633333</td><td>7.766667</td><td>7.433333</td><td>3.066667</td><td>2.833333</td><td>18.666667</td><td>19.333333</td><td>18</td><td>12</td><td>0.6</td></tr><tr><td>&hellip;</td><td>&hellip;</td><td>&hellip;</td><td>&hellip;</td><td>&hellip;</td><td>&hellip;</td><td>&hellip;</td><td>&hellip;</td><td>&hellip;</td><td>&hellip;</td><td>&hellip;</td><td>&hellip;</td><td>&hellip;</td><td>&hellip;</td><td>&hellip;</td><td>&hellip;</td><td>&hellip;</td><td>&hellip;</td><td>&hellip;</td><td>&hellip;</td><td>&hellip;</td><td>&hellip;</td><td>&hellip;</td><td>&hellip;</td><td>&hellip;</td><td>&hellip;</td><td>&hellip;</td><td>&hellip;</td><td>&hellip;</td><td>&hellip;</td><td>&hellip;</td><td>&hellip;</td><td>&hellip;</td><td>&hellip;</td><td>&hellip;</td><td>&hellip;</td><td>&hellip;</td><td>&hellip;</td><td>&hellip;</td><td>&hellip;</td><td>&hellip;</td><td>&hellip;</td><td>&hellip;</td><td>&hellip;</td><td>&hellip;</td><td>&hellip;</td><td>&hellip;</td><td>&hellip;</td><td>&hellip;</td><td>&hellip;</td><td>&hellip;</td><td>&hellip;</td><td>&hellip;</td><td>&hellip;</td><td>&hellip;</td><td>&hellip;</td><td>&hellip;</td><td>&hellip;</td><td>&hellip;</td><td>&hellip;</td><td>&hellip;</td><td>&hellip;</td><td>&hellip;</td><td>&hellip;</td></tr><tr><td>2023</td><td>4</td><td>77.852941</td><td>67.411765</td><td>28.205882</td><td>23.5</td><td>60.176471</td><td>55.882353</td><td>7.147059</td><td>6.470588</td><td>21.088235</td><td>19.794118</td><td>14.294118</td><td>13.941176</td><td>19.0</td><td>19.264706</td><td>8.588235</td><td>8.411765</td><td>23.147059</td><td>22.823529</td><td>15.911765</td><td>11.352941</td><td>11.029412</td><td>15.382353</td><td>8.058824</td><td>5.735294</td><td>3.647059</td><td>3.264706</td><td>17.617647</td><td>17.970588</td><td>26</td><td>8</td><td>0.764706</td><td>79.40625</td><td>72.125</td><td>28.96875</td><td>26.90625</td><td>59.625</td><td>59.84375</td><td>7.59375</td><td>7.5625</td><td>20.65625</td><td>22.53125</td><td>13.875</td><td>10.75</td><td>17.875</td><td>14.4375</td><td>8.96875</td><td>8.28125</td><td>22.90625</td><td>20.78125</td><td>14.9375</td><td>14.3125</td><td>10.9375</td><td>12.1875</td><td>7.34375</td><td>5.96875</td><td>3.28125</td><td>3.28125</td><td>14.40625</td><td>15.0625</td><td>25</td><td>7</td><td>0.78125</td></tr><tr><td>2023</td><td>4</td><td>76.636364</td><td>68.484848</td><td>27.515152</td><td>26.515152</td><td>58.878788</td><td>62.848485</td><td>8.909091</td><td>6.393939</td><td>24.757576</td><td>18.727273</td><td>12.69697</td><td>9.060606</td><td>16.545455</td><td>12.424242</td><td>7.515152</td><td>7.636364</td><td>27.242424</td><td>23.242424</td><td>15.909091</td><td>12.484848</td><td>10.969697</td><td>9.515152</td><td>5.242424</td><td>6.181818</td><td>4.181818</td><td>2.848485</td><td>13.151515</td><td>15.848485</td><td>21</td><td>12</td><td>0.636364</td><td>71.34375</td><td>63.8125</td><td>25.09375</td><td>22.78125</td><td>56.84375</td><td>54.75</td><td>6.8125</td><td>6.40625</td><td>19.8125</td><td>21.96875</td><td>14.34375</td><td>11.84375</td><td>19.5</td><td>16.09375</td><td>9.21875</td><td>7.3125</td><td>23.4375</td><td>20.8125</td><td>13.03125</td><td>10.75</td><td>10.90625</td><td>12.15625</td><td>7.125</td><td>6.3125</td><td>3.71875</td><td>2.9375</td><td>16.5</td><td>18.21875</td><td>26</td><td>6</td><td>0.8125</td></tr><tr><td>2023</td><td>5</td><td>79.40625</td><td>72.125</td><td>28.96875</td><td>26.90625</td><td>59.625</td><td>59.84375</td><td>7.59375</td><td>7.5625</td><td>20.65625</td><td>22.53125</td><td>13.875</td><td>10.75</td><td>17.875</td><td>14.4375</td><td>8.96875</td><td>8.28125</td><td>22.90625</td><td>20.78125</td><td>14.9375</td><td>14.3125</td><td>10.9375</td><td>12.1875</td><td>7.34375</td><td>5.96875</td><td>3.28125</td><td>3.28125</td><td>14.40625</td><td>15.0625</td><td>25</td><td>7</td><td>0.78125</td><td>78.454545</td><td>65.030303</td><td>27.606061</td><td>22.30303</td><td>60.030303</td><td>54.393939</td><td>9.0</td><td>4.939394</td><td>25.212121</td><td>16.484848</td><td>14.242424</td><td>15.484848</td><td>18.878788</td><td>21.030303</td><td>11.787879</td><td>6.969697</td><td>24.151515</td><td>19.212121</td><td>17.272727</td><td>9.151515</td><td>12.333333</td><td>12.666667</td><td>6.545455</td><td>6.666667</td><td>4.878788</td><td>2.878788</td><td>18.121212</td><td>17.363636</td><td>25</td><td>8</td><td>0.757576</td></tr><tr><td>2023</td><td>5</td><td>71.34375</td><td>63.8125</td><td>25.09375</td><td>22.78125</td><td>56.84375</td><td>54.75</td><td>6.8125</td><td>6.40625</td><td>19.8125</td><td>21.96875</td><td>14.34375</td><td>11.84375</td><td>19.5</td><td>16.09375</td><td>9.21875</td><td>7.3125</td><td>23.4375</td><td>20.8125</td><td>13.03125</td><td>10.75</td><td>10.90625</td><td>12.15625</td><td>7.125</td><td>6.3125</td><td>3.71875</td><td>2.9375</td><td>16.5</td><td>18.21875</td><td>26</td><td>6</td><td>0.8125</td><td>78.15625</td><td>65.28125</td><td>27.90625</td><td>23.59375</td><td>59.59375</td><td>58.40625</td><td>9.71875</td><td>6.40625</td><td>26.09375</td><td>20.0</td><td>12.625</td><td>11.6875</td><td>17.59375</td><td>15.59375</td><td>9.125</td><td>7.65625</td><td>26.0625</td><td>22.46875</td><td>14.21875</td><td>7.875</td><td>11.09375</td><td>12.09375</td><td>6.5</td><td>5.625</td><td>2.53125</td><td>2.40625</td><td>15.84375</td><td>16.75</td><td>29</td><td>3</td><td>0.90625</td></tr><tr><td>2023</td><td>6</td><td>78.454545</td><td>65.030303</td><td>27.606061</td><td>22.30303</td><td>60.030303</td><td>54.393939</td><td>9.0</td><td>4.939394</td><td>25.212121</td><td>16.484848</td><td>14.242424</td><td>15.484848</td><td>18.878788</td><td>21.030303</td><td>11.787879</td><td>6.969697</td><td>24.151515</td><td>19.212121</td><td>17.272727</td><td>9.151515</td><td>12.333333</td><td>12.666667</td><td>6.545455</td><td>6.666667</td><td>4.878788</td><td>2.878788</td><td>18.121212</td><td>17.363636</td><td>25</td><td>8</td><td>0.757576</td><td>71.34375</td><td>63.8125</td><td>25.09375</td><td>22.78125</td><td>56.84375</td><td>54.75</td><td>6.8125</td><td>6.40625</td><td>19.8125</td><td>21.96875</td><td>14.34375</td><td>11.84375</td><td>19.5</td><td>16.09375</td><td>9.21875</td><td>7.3125</td><td>23.4375</td><td>20.8125</td><td>13.03125</td><td>10.75</td><td>10.90625</td><td>12.15625</td><td>7.125</td><td>6.3125</td><td>3.71875</td><td>2.9375</td><td>16.5</td><td>18.21875</td><td>26</td><td>6</td><td>0.8125</td></tr></tbody></table></div>"
      ],
      "text/plain": [
       "shape: (1_315, 64)\n",
       "┌────────┬───────┬─────────────┬─────────────┬───┬────────────┬────────────┬────────────┬──────────┐\n",
       "│ Season ┆ Round ┆ Score_avg_1 ┆ OppScore_av ┆ … ┆ OppPF_avg_ ┆ WinCount_2 ┆ LossCount_ ┆ WinPct_2 │\n",
       "│ ---    ┆ ---   ┆ ---         ┆ g_1         ┆   ┆ 2          ┆ ---        ┆ 2          ┆ ---      │\n",
       "│ i64    ┆ i32   ┆ f64         ┆ ---         ┆   ┆ ---        ┆ i64        ┆ ---        ┆ f64      │\n",
       "│        ┆       ┆             ┆ f64         ┆   ┆ f64        ┆            ┆ i64        ┆          │\n",
       "╞════════╪═══════╪═════════════╪═════════════╪═══╪════════════╪════════════╪════════════╪══════════╡\n",
       "│ 2003   ┆ 0     ┆ 71.206897   ┆ 78.448276   ┆ … ┆ 21.633333  ┆ 18         ┆ 12         ┆ 0.6      │\n",
       "│ 2003   ┆ 1     ┆ 85.214286   ┆ 70.25       ┆ … ┆ 17.931034  ┆ 19         ┆ 10         ┆ 0.655172 │\n",
       "│ 2003   ┆ 1     ┆ 74.517241   ┆ 65.827586   ┆ … ┆ 22.862069  ┆ 18         ┆ 11         ┆ 0.62069  │\n",
       "│ 2003   ┆ 1     ┆ 79.344828   ┆ 73.241379   ┆ … ┆ 19.393939  ┆ 29         ┆ 4          ┆ 0.878788 │\n",
       "│ 2003   ┆ 1     ┆ 74.482759   ┆ 69.758621   ┆ … ┆ 19.333333  ┆ 18         ┆ 12         ┆ 0.6      │\n",
       "│ …      ┆ …     ┆ …           ┆ …           ┆ … ┆ …          ┆ …          ┆ …          ┆ …        │\n",
       "│ 2023   ┆ 4     ┆ 77.852941   ┆ 67.411765   ┆ … ┆ 15.0625    ┆ 25         ┆ 7          ┆ 0.78125  │\n",
       "│ 2023   ┆ 4     ┆ 76.636364   ┆ 68.484848   ┆ … ┆ 18.21875   ┆ 26         ┆ 6          ┆ 0.8125   │\n",
       "│ 2023   ┆ 5     ┆ 79.40625    ┆ 72.125      ┆ … ┆ 17.363636  ┆ 25         ┆ 8          ┆ 0.757576 │\n",
       "│ 2023   ┆ 5     ┆ 71.34375    ┆ 63.8125     ┆ … ┆ 16.75      ┆ 29         ┆ 3          ┆ 0.90625  │\n",
       "│ 2023   ┆ 6     ┆ 78.454545   ┆ 65.030303   ┆ … ┆ 18.21875   ┆ 26         ┆ 6          ┆ 0.8125   │\n",
       "└────────┴───────┴─────────────┴─────────────┴───┴────────────┴────────────┴────────────┴──────────┘"
      ]
     },
     "execution_count": 20,
     "metadata": {},
     "output_type": "execute_result"
    }
   ],
   "source": [
    "X_df"
   ]
  },
  {
   "cell_type": "code",
   "execution_count": 26,
   "id": "b4eb09a5-668b-4e97-8854-fda9a22b8872",
   "metadata": {},
   "outputs": [],
   "source": [
    "# covert X and y to np arrays\n",
    "X = X_df.to_numpy()\n",
    "y = y_label_df.to_numpy()\n"
   ]
  },
  {
   "cell_type": "code",
   "execution_count": 50,
   "id": "2b5f2f37-d4ad-4294-96d0-f496beb06bb4",
   "metadata": {},
   "outputs": [
    {
     "name": "stdout",
     "output_type": "stream",
     "text": [
      "Ridge Regression Accuracy: 0.15402307373123147\n",
      "[[-0.01054243  0.01105521  0.02043925 -0.02664699  0.01646342 -0.01023309\n",
      "   0.0027537   0.0292333  -0.01067054 -0.01308124 -0.00313942  0.01703105\n",
      "  -0.00181704  0.00690044 -0.00395384  0.0125341   0.02453127 -0.05355183\n",
      "  -0.05176386 -0.00632941 -0.01956123 -0.01017278 -0.02249091 -0.00238077\n",
      "   0.001305    0.00435761  0.01181907  0.03804206 -0.02822203  0.00217428\n",
      "   0.0229006   0.01846492 -0.00066293 -0.02359923  0.01643431  0.00814841\n",
      "   0.00884502 -0.01008323 -0.00082717  0.00469634  0.03074297 -0.01334106\n",
      "  -0.00347372 -0.04459239 -0.0319987   0.02044277  0.02490203  0.01556975\n",
      "  -0.02348534  0.01045303  0.05176092 -0.01637209 -0.00644766  0.04438719\n",
      "  -0.02858022  0.02668666 -0.03032422 -0.03724663 -0.05398721  0.02155213\n",
      "   0.01617648 -0.01963954 -0.03631191  0.00514971]]\n"
     ]
    }
   ],
   "source": [
    "# weigting function to have more focus on recent Seasons\n",
    "def calculate_weights(X):\n",
    "    current_year = 2023\n",
    "    years_since = current_year - X[:,0]\n",
    "    weights = np.exp(-0.15 * years_since)\n",
    "    return weights\n",
    "\n",
    "X_train, X_test, y_train, y_test = train_test_split(X, y, test_size=0.2, random_state=42)\n",
    "\n",
    "train_weights = calculate_weights(X_train)\n",
    "\n",
    "ridge = Ridge(alpha=20)\n",
    "ridge.fit(X_train, y_train, sample_weight=train_weights)\n",
    "\n",
    "accuracy = ridge.score(X_test, y_test)\n",
    "print(\"Ridge Regression Accuracy:\", accuracy)\n",
    "\n",
    "coefficients = ridge.coef_\n",
    "print(coefficients)"
   ]
  },
  {
   "cell_type": "code",
   "execution_count": null,
   "id": "d9b049b8-4978-4bcf-b097-162570e3c908",
   "metadata": {},
   "outputs": [],
   "source": []
  }
 ],
 "metadata": {
  "kernelspec": {
   "display_name": "Python 3 (ipykernel)",
   "language": "python",
   "name": "python3"
  },
  "language_info": {
   "codemirror_mode": {
    "name": "ipython",
    "version": 3
   },
   "file_extension": ".py",
   "mimetype": "text/x-python",
   "name": "python",
   "nbconvert_exporter": "python",
   "pygments_lexer": "ipython3",
   "version": "3.11.6"
  }
 },
 "nbformat": 4,
 "nbformat_minor": 5
}
