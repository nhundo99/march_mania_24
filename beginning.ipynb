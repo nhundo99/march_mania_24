{
 "cells": [
  {
   "cell_type": "code",
   "execution_count": 4,
   "id": "3e0aaa1a-b4bc-40d8-9be0-2d154032961f",
   "metadata": {},
   "outputs": [],
   "source": [
    "import random\n",
    "import numpy as np\n",
    "import pandas as pd\n",
    "import polars as pl"
   ]
  },
  {
   "cell_type": "code",
   "execution_count": 5,
   "id": "d5a9bd75-d97f-4ca4-bc0d-41ce50beab0f",
   "metadata": {},
   "outputs": [],
   "source": [
    "import glob\n",
    "import os\n",
    "from os import listdir, walk\n",
    "from os.path import join, split"
   ]
  },
  {
   "cell_type": "code",
   "execution_count": 9,
   "id": "21ebae53-6102-4d9f-836e-c89f34bd3b99",
   "metadata": {},
   "outputs": [],
   "source": [
    "import matplotlib.pyplot as plt\n",
    "import seaborn as sns\n",
    "from IPython.display import display"
   ]
  },
  {
   "cell_type": "code",
   "execution_count": 10,
   "id": "1d445c3b-d8aa-4127-a0e9-3574292d33e3",
   "metadata": {},
   "outputs": [],
   "source": [
    "import warnings\n",
    "warnings.filterwarnings(\"ignore\")"
   ]
  },
  {
   "cell_type": "code",
   "execution_count": 11,
   "id": "ca22ae42-196b-4f13-b2f3-45764a6968e1",
   "metadata": {},
   "outputs": [],
   "source": [
    "class CFG:\n",
    "    random_seed = 42\n",
    "    dir = \"/projects/kaggle/march_mania_24/data/\""
   ]
  },
  {
   "cell_type": "code",
   "execution_count": null,
   "id": "3d64e2ce-2118-400d-b41d-e93a9202d2d7",
   "metadata": {},
   "outputs": [],
   "source": [
    "def load_df(df_name, describe=False):\n",
    "    df = pl.read_csv(join(CFG.dir, f\"{df_name}.csv\"), ignore_errors=True)\n",
    "    "
   ]
  }
 ],
 "metadata": {
  "kernelspec": {
   "display_name": "Python 3 (ipykernel)",
   "language": "python",
   "name": "python3"
  },
  "language_info": {
   "codemirror_mode": {
    "name": "ipython",
    "version": 3
   },
   "file_extension": ".py",
   "mimetype": "text/x-python",
   "name": "python",
   "nbconvert_exporter": "python",
   "pygments_lexer": "ipython3",
   "version": "3.11.6"
  }
 },
 "nbformat": 4,
 "nbformat_minor": 5
}
