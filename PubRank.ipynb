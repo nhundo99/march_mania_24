{
 "cells": [
  {
   "cell_type": "code",
   "execution_count": 1,
   "id": "c8fa2f27-cd84-402b-bf91-ae92f5818751",
   "metadata": {},
   "outputs": [],
   "source": [
    "import random\n",
    "import numpy as np\n",
    "import pandas as pd\n",
    "import polars as pl"
   ]
  },
  {
   "cell_type": "code",
   "execution_count": 2,
   "id": "fa4bd98a-9fda-4ed0-bf41-90a97adf7f1a",
   "metadata": {},
   "outputs": [],
   "source": [
    "import glob\n",
    "import os\n",
    "from os import listdir, walk\n",
    "from os.path import join, split"
   ]
  },
  {
   "cell_type": "code",
   "execution_count": 3,
   "id": "9d9bbb4b-81c0-44a2-9586-60305f6d759a",
   "metadata": {},
   "outputs": [],
   "source": [
    "import matplotlib.pyplot as plt\n",
    "import seaborn as sns\n",
    "from IPython.display import display"
   ]
  },
  {
   "cell_type": "code",
   "execution_count": 4,
   "id": "ce513c87-359b-4c99-a1b6-562fa8640fc5",
   "metadata": {},
   "outputs": [],
   "source": [
    "import sklearn as sk\n",
    "import torch"
   ]
  },
  {
   "cell_type": "code",
   "execution_count": 5,
   "id": "13495aa5-8a16-41ee-81dd-65886a6bb676",
   "metadata": {},
   "outputs": [],
   "source": [
    "class CFG:\n",
    "    random_seed = 42\n",
    "    dir = \"/home/nick/Projects/kaggle/march_mania_24/data/\""
   ]
  },
  {
   "cell_type": "code",
   "execution_count": 6,
   "id": "c217e80f-601b-4de8-9ffc-1012d721fbf1",
   "metadata": {},
   "outputs": [],
   "source": [
    "def load_df(df_name, describe=False):\n",
    "    df = pl.read_csv(join(CFG.dir, f\"{df_name}.csv\"), ignore_errors=True)\n",
    "    print(\"\\n\"+\"*\"*50)\n",
    "    print(f\"DATASET NAME: {df_name}\")\n",
    "    print(f\"SHAPE: {df.shape}\")\n",
    "    print(f\"\\nMEMORY USAGE: {df.estimated_size('b')} bytes\")\n",
    "    print(\"\\nDISPLAY\\n\")\n",
    "    display(df.head(3))\n",
    "    if describe:\n",
    "        print(\"\\nDESCRIBE\\n\")\n",
    "        display(df.describe())\n",
    "    return df"
   ]
  },
  {
   "cell_type": "code",
   "execution_count": 7,
   "id": "5920a7f9-89fb-4faa-a2cf-a8bebf53354c",
   "metadata": {
    "scrolled": true
   },
   "outputs": [
    {
     "name": "stdout",
     "output_type": "stream",
     "text": [
      "\n",
      "**************************************************\n",
      "DATASET NAME: MMasseyOrdinals_partaa\n",
      "SHAPE: (2386744, 5)\n",
      "\n",
      "MEMORY USAGE: 114563712 bytes\n",
      "\n",
      "DISPLAY\n",
      "\n"
     ]
    },
    {
     "data": {
      "text/html": [
       "<div><style>\n",
       ".dataframe > thead > tr,\n",
       ".dataframe > tbody > tr {\n",
       "  text-align: right;\n",
       "  white-space: pre-wrap;\n",
       "}\n",
       "</style>\n",
       "<small>shape: (3, 5)</small><table border=\"1\" class=\"dataframe\"><thead><tr><th>Season</th><th>RankingDayNum</th><th>SystemName</th><th>TeamID</th><th>OrdinalRank</th></tr><tr><td>i64</td><td>i64</td><td>str</td><td>i64</td><td>i64</td></tr></thead><tbody><tr><td>2003</td><td>35</td><td>&quot;SEL&quot;</td><td>1102</td><td>159</td></tr><tr><td>2003</td><td>35</td><td>&quot;SEL&quot;</td><td>1103</td><td>229</td></tr><tr><td>2003</td><td>35</td><td>&quot;SEL&quot;</td><td>1104</td><td>12</td></tr></tbody></table></div>"
      ],
      "text/plain": [
       "shape: (3, 5)\n",
       "┌────────┬───────────────┬────────────┬────────┬─────────────┐\n",
       "│ Season ┆ RankingDayNum ┆ SystemName ┆ TeamID ┆ OrdinalRank │\n",
       "│ ---    ┆ ---           ┆ ---        ┆ ---    ┆ ---         │\n",
       "│ i64    ┆ i64           ┆ str        ┆ i64    ┆ i64         │\n",
       "╞════════╪═══════════════╪════════════╪════════╪═════════════╡\n",
       "│ 2003   ┆ 35            ┆ SEL        ┆ 1102   ┆ 159         │\n",
       "│ 2003   ┆ 35            ┆ SEL        ┆ 1103   ┆ 229         │\n",
       "│ 2003   ┆ 35            ┆ SEL        ┆ 1104   ┆ 12          │\n",
       "└────────┴───────────────┴────────────┴────────┴─────────────┘"
      ]
     },
     "metadata": {},
     "output_type": "display_data"
    },
    {
     "name": "stdout",
     "output_type": "stream",
     "text": [
      "\n",
      "**************************************************\n",
      "DATASET NAME: MMasseyOrdinals_partab\n",
      "SHAPE: (2377078, 5)\n",
      "\n",
      "MEMORY USAGE: 114099744 bytes\n",
      "\n",
      "DISPLAY\n",
      "\n"
     ]
    },
    {
     "data": {
      "text/html": [
       "<div><style>\n",
       ".dataframe > thead > tr,\n",
       ".dataframe > tbody > tr {\n",
       "  text-align: right;\n",
       "  white-space: pre-wrap;\n",
       "}\n",
       "</style>\n",
       "<small>shape: (3, 5)</small><table border=\"1\" class=\"dataframe\"><thead><tr><th>Season</th><th>RankingDayNum</th><th>SystemName</th><th>TeamID</th><th>OrdinalRank</th></tr><tr><td>i64</td><td>i64</td><td>str</td><td>i64</td><td>i64</td></tr></thead><tbody><tr><td>2015</td><td>65</td><td>&quot;BUR&quot;</td><td>1234</td><td>41</td></tr><tr><td>2015</td><td>65</td><td>&quot;BUR&quot;</td><td>1235</td><td>18</td></tr><tr><td>2015</td><td>65</td><td>&quot;BUR&quot;</td><td>1236</td><td>283</td></tr></tbody></table></div>"
      ],
      "text/plain": [
       "shape: (3, 5)\n",
       "┌────────┬───────────────┬────────────┬────────┬─────────────┐\n",
       "│ Season ┆ RankingDayNum ┆ SystemName ┆ TeamID ┆ OrdinalRank │\n",
       "│ ---    ┆ ---           ┆ ---        ┆ ---    ┆ ---         │\n",
       "│ i64    ┆ i64           ┆ str        ┆ i64    ┆ i64         │\n",
       "╞════════╪═══════════════╪════════════╪════════╪═════════════╡\n",
       "│ 2015   ┆ 65            ┆ BUR        ┆ 1234   ┆ 41          │\n",
       "│ 2015   ┆ 65            ┆ BUR        ┆ 1235   ┆ 18          │\n",
       "│ 2015   ┆ 65            ┆ BUR        ┆ 1236   ┆ 283         │\n",
       "└────────┴───────────────┴────────────┴────────┴─────────────┘"
      ]
     },
     "metadata": {},
     "output_type": "display_data"
    },
    {
     "name": "stdout",
     "output_type": "stream",
     "text": [
      "\n",
      "**************************************************\n",
      "DATASET NAME: MMasseyOrdinals_partac\n",
      "SHAPE: (402283, 5)\n",
      "\n",
      "MEMORY USAGE: 19309584 bytes\n",
      "\n",
      "DISPLAY\n",
      "\n"
     ]
    },
    {
     "data": {
      "text/html": [
       "<div><style>\n",
       ".dataframe > thead > tr,\n",
       ".dataframe > tbody > tr {\n",
       "  text-align: right;\n",
       "  white-space: pre-wrap;\n",
       "}\n",
       "</style>\n",
       "<small>shape: (3, 5)</small><table border=\"1\" class=\"dataframe\"><thead><tr><th>Season</th><th>RankingDayNum</th><th>SystemName</th><th>TeamID</th><th>OrdinalRank</th></tr><tr><td>i64</td><td>i64</td><td>str</td><td>i64</td><td>i64</td></tr></thead><tbody><tr><td>2023</td><td>79</td><td>&quot;JNG&quot;</td><td>1117</td><td>301</td></tr><tr><td>2023</td><td>79</td><td>&quot;JNG&quot;</td><td>1119</td><td>202</td></tr><tr><td>2023</td><td>79</td><td>&quot;JNG&quot;</td><td>1120</td><td>19</td></tr></tbody></table></div>"
      ],
      "text/plain": [
       "shape: (3, 5)\n",
       "┌────────┬───────────────┬────────────┬────────┬─────────────┐\n",
       "│ Season ┆ RankingDayNum ┆ SystemName ┆ TeamID ┆ OrdinalRank │\n",
       "│ ---    ┆ ---           ┆ ---        ┆ ---    ┆ ---         │\n",
       "│ i64    ┆ i64           ┆ str        ┆ i64    ┆ i64         │\n",
       "╞════════╪═══════════════╪════════════╪════════╪═════════════╡\n",
       "│ 2023   ┆ 79            ┆ JNG        ┆ 1117   ┆ 301         │\n",
       "│ 2023   ┆ 79            ┆ JNG        ┆ 1119   ┆ 202         │\n",
       "│ 2023   ┆ 79            ┆ JNG        ┆ 1120   ┆ 19          │\n",
       "└────────┴───────────────┴────────────┴────────┴─────────────┘"
      ]
     },
     "metadata": {},
     "output_type": "display_data"
    }
   ],
   "source": [
    "mMassey_partaa = load_df('MMasseyOrdinals_partaa')\n",
    "mMassey_partab = load_df('MMasseyOrdinals_partab')\n",
    "mMassey_partac = load_df('MMasseyOrdinals_partac')"
   ]
  },
  {
   "cell_type": "code",
   "execution_count": 8,
   "id": "c7ef1db5-e110-4ce9-a3a4-3c6f07879ad1",
   "metadata": {},
   "outputs": [
    {
     "data": {
      "text/html": [
       "<div><style>\n",
       ".dataframe > thead > tr,\n",
       ".dataframe > tbody > tr {\n",
       "  text-align: right;\n",
       "  white-space: pre-wrap;\n",
       "}\n",
       "</style>\n",
       "<small>shape: (5_166_105, 5)</small><table border=\"1\" class=\"dataframe\"><thead><tr><th>Season</th><th>RankingDayNum</th><th>SystemName</th><th>TeamID</th><th>OrdinalRank</th></tr><tr><td>i64</td><td>i64</td><td>str</td><td>i64</td><td>i64</td></tr></thead><tbody><tr><td>2003</td><td>35</td><td>&quot;SEL&quot;</td><td>1102</td><td>159</td></tr><tr><td>2003</td><td>35</td><td>&quot;SEL&quot;</td><td>1103</td><td>229</td></tr><tr><td>2003</td><td>35</td><td>&quot;SEL&quot;</td><td>1104</td><td>12</td></tr><tr><td>2003</td><td>35</td><td>&quot;SEL&quot;</td><td>1105</td><td>314</td></tr><tr><td>2003</td><td>35</td><td>&quot;SEL&quot;</td><td>1106</td><td>260</td></tr><tr><td>&hellip;</td><td>&hellip;</td><td>&hellip;</td><td>&hellip;</td><td>&hellip;</td></tr><tr><td>2024</td><td>100</td><td>&quot;WLK&quot;</td><td>1474</td><td>275</td></tr><tr><td>2024</td><td>100</td><td>&quot;WLK&quot;</td><td>1475</td><td>331</td></tr><tr><td>2024</td><td>100</td><td>&quot;WLK&quot;</td><td>1476</td><td>357</td></tr><tr><td>2024</td><td>100</td><td>&quot;WLK&quot;</td><td>1477</td><td>312</td></tr><tr><td>2024</td><td>100</td><td>&quot;WLK&quot;</td><td>1478</td><td>295</td></tr></tbody></table></div>"
      ],
      "text/plain": [
       "shape: (5_166_105, 5)\n",
       "┌────────┬───────────────┬────────────┬────────┬─────────────┐\n",
       "│ Season ┆ RankingDayNum ┆ SystemName ┆ TeamID ┆ OrdinalRank │\n",
       "│ ---    ┆ ---           ┆ ---        ┆ ---    ┆ ---         │\n",
       "│ i64    ┆ i64           ┆ str        ┆ i64    ┆ i64         │\n",
       "╞════════╪═══════════════╪════════════╪════════╪═════════════╡\n",
       "│ 2003   ┆ 35            ┆ SEL        ┆ 1102   ┆ 159         │\n",
       "│ 2003   ┆ 35            ┆ SEL        ┆ 1103   ┆ 229         │\n",
       "│ 2003   ┆ 35            ┆ SEL        ┆ 1104   ┆ 12          │\n",
       "│ 2003   ┆ 35            ┆ SEL        ┆ 1105   ┆ 314         │\n",
       "│ 2003   ┆ 35            ┆ SEL        ┆ 1106   ┆ 260         │\n",
       "│ …      ┆ …             ┆ …          ┆ …      ┆ …           │\n",
       "│ 2024   ┆ 100           ┆ WLK        ┆ 1474   ┆ 275         │\n",
       "│ 2024   ┆ 100           ┆ WLK        ┆ 1475   ┆ 331         │\n",
       "│ 2024   ┆ 100           ┆ WLK        ┆ 1476   ┆ 357         │\n",
       "│ 2024   ┆ 100           ┆ WLK        ┆ 1477   ┆ 312         │\n",
       "│ 2024   ┆ 100           ┆ WLK        ┆ 1478   ┆ 295         │\n",
       "└────────┴───────────────┴────────────┴────────┴─────────────┘"
      ]
     },
     "execution_count": 8,
     "metadata": {},
     "output_type": "execute_result"
    }
   ],
   "source": [
    "mMassey_list = [mMassey_partaa, mMassey_partab, mMassey_partac]\n",
    "mMassey = pl.concat(mMassey_list)\n",
    "mMassey"
   ]
  },
  {
   "cell_type": "code",
   "execution_count": 9,
   "id": "62450f6b-0e35-4405-bb21-e5c35e2c582c",
   "metadata": {},
   "outputs": [
    {
     "name": "stdout",
     "output_type": "stream",
     "text": [
      "\n",
      "**************************************************\n",
      "DATASET NAME: MNCAATourneyDetailedResults\n",
      "SHAPE: (1315, 34)\n",
      "\n",
      "MEMORY USAGE: 368200 bytes\n",
      "\n",
      "DISPLAY\n",
      "\n"
     ]
    },
    {
     "data": {
      "text/html": [
       "<div><style>\n",
       ".dataframe > thead > tr,\n",
       ".dataframe > tbody > tr {\n",
       "  text-align: right;\n",
       "  white-space: pre-wrap;\n",
       "}\n",
       "</style>\n",
       "<small>shape: (3, 34)</small><table border=\"1\" class=\"dataframe\"><thead><tr><th>Season</th><th>DayNum</th><th>WTeamID</th><th>WScore</th><th>LTeamID</th><th>LScore</th><th>WLoc</th><th>NumOT</th><th>WFGM</th><th>WFGA</th><th>WFGM3</th><th>WFGA3</th><th>WFTM</th><th>WFTA</th><th>WOR</th><th>WDR</th><th>WAst</th><th>WTO</th><th>WStl</th><th>WBlk</th><th>WPF</th><th>LFGM</th><th>LFGA</th><th>LFGM3</th><th>LFGA3</th><th>LFTM</th><th>LFTA</th><th>LOR</th><th>LDR</th><th>LAst</th><th>LTO</th><th>LStl</th><th>LBlk</th><th>LPF</th></tr><tr><td>i64</td><td>i64</td><td>i64</td><td>i64</td><td>i64</td><td>i64</td><td>str</td><td>i64</td><td>i64</td><td>i64</td><td>i64</td><td>i64</td><td>i64</td><td>i64</td><td>i64</td><td>i64</td><td>i64</td><td>i64</td><td>i64</td><td>i64</td><td>i64</td><td>i64</td><td>i64</td><td>i64</td><td>i64</td><td>i64</td><td>i64</td><td>i64</td><td>i64</td><td>i64</td><td>i64</td><td>i64</td><td>i64</td><td>i64</td></tr></thead><tbody><tr><td>2003</td><td>134</td><td>1421</td><td>92</td><td>1411</td><td>84</td><td>&quot;N&quot;</td><td>1</td><td>32</td><td>69</td><td>11</td><td>29</td><td>17</td><td>26</td><td>14</td><td>30</td><td>17</td><td>12</td><td>5</td><td>3</td><td>22</td><td>29</td><td>67</td><td>12</td><td>31</td><td>14</td><td>31</td><td>17</td><td>28</td><td>16</td><td>15</td><td>5</td><td>0</td><td>22</td></tr><tr><td>2003</td><td>136</td><td>1112</td><td>80</td><td>1436</td><td>51</td><td>&quot;N&quot;</td><td>0</td><td>31</td><td>66</td><td>7</td><td>23</td><td>11</td><td>14</td><td>11</td><td>36</td><td>22</td><td>16</td><td>10</td><td>7</td><td>8</td><td>20</td><td>64</td><td>4</td><td>16</td><td>7</td><td>7</td><td>8</td><td>26</td><td>12</td><td>17</td><td>10</td><td>3</td><td>15</td></tr><tr><td>2003</td><td>136</td><td>1113</td><td>84</td><td>1272</td><td>71</td><td>&quot;N&quot;</td><td>0</td><td>31</td><td>59</td><td>6</td><td>14</td><td>16</td><td>22</td><td>10</td><td>27</td><td>18</td><td>9</td><td>7</td><td>4</td><td>19</td><td>25</td><td>69</td><td>7</td><td>28</td><td>14</td><td>21</td><td>20</td><td>22</td><td>11</td><td>12</td><td>2</td><td>5</td><td>18</td></tr></tbody></table></div>"
      ],
      "text/plain": [
       "shape: (3, 34)\n",
       "┌────────┬────────┬─────────┬────────┬───┬─────┬──────┬──────┬─────┐\n",
       "│ Season ┆ DayNum ┆ WTeamID ┆ WScore ┆ … ┆ LTO ┆ LStl ┆ LBlk ┆ LPF │\n",
       "│ ---    ┆ ---    ┆ ---     ┆ ---    ┆   ┆ --- ┆ ---  ┆ ---  ┆ --- │\n",
       "│ i64    ┆ i64    ┆ i64     ┆ i64    ┆   ┆ i64 ┆ i64  ┆ i64  ┆ i64 │\n",
       "╞════════╪════════╪═════════╪════════╪═══╪═════╪══════╪══════╪═════╡\n",
       "│ 2003   ┆ 134    ┆ 1421    ┆ 92     ┆ … ┆ 15  ┆ 5    ┆ 0    ┆ 22  │\n",
       "│ 2003   ┆ 136    ┆ 1112    ┆ 80     ┆ … ┆ 17  ┆ 10   ┆ 3    ┆ 15  │\n",
       "│ 2003   ┆ 136    ┆ 1113    ┆ 84     ┆ … ┆ 12  ┆ 2    ┆ 5    ┆ 18  │\n",
       "└────────┴────────┴─────────┴────────┴───┴─────┴──────┴──────┴─────┘"
      ]
     },
     "metadata": {},
     "output_type": "display_data"
    }
   ],
   "source": [
    "mTourneyResults = load_df('MNCAATourneyDetailedResults')"
   ]
  },
  {
   "cell_type": "code",
   "execution_count": 10,
   "id": "5b6e0102-21aa-4328-b190-4cc31a13fb0f",
   "metadata": {},
   "outputs": [
    {
     "data": {
      "text/html": [
       "<div><style>\n",
       ".dataframe > thead > tr,\n",
       ".dataframe > tbody > tr {\n",
       "  text-align: right;\n",
       "  white-space: pre-wrap;\n",
       "}\n",
       "</style>\n",
       "<small>shape: (1_315, 34)</small><table border=\"1\" class=\"dataframe\"><thead><tr><th>Season</th><th>DayNum</th><th>WTeamID</th><th>WScore</th><th>LTeamID</th><th>LScore</th><th>WLoc</th><th>NumOT</th><th>WFGM</th><th>WFGA</th><th>WFGM3</th><th>WFGA3</th><th>WFTM</th><th>WFTA</th><th>WOR</th><th>WDR</th><th>WAst</th><th>WTO</th><th>WStl</th><th>WBlk</th><th>WPF</th><th>LFGM</th><th>LFGA</th><th>LFGM3</th><th>LFGA3</th><th>LFTM</th><th>LFTA</th><th>LOR</th><th>LDR</th><th>LAst</th><th>LTO</th><th>LStl</th><th>LBlk</th><th>LPF</th></tr><tr><td>i64</td><td>i64</td><td>i64</td><td>i64</td><td>i64</td><td>i64</td><td>str</td><td>i64</td><td>i64</td><td>i64</td><td>i64</td><td>i64</td><td>i64</td><td>i64</td><td>i64</td><td>i64</td><td>i64</td><td>i64</td><td>i64</td><td>i64</td><td>i64</td><td>i64</td><td>i64</td><td>i64</td><td>i64</td><td>i64</td><td>i64</td><td>i64</td><td>i64</td><td>i64</td><td>i64</td><td>i64</td><td>i64</td><td>i64</td></tr></thead><tbody><tr><td>2003</td><td>134</td><td>1421</td><td>92</td><td>1411</td><td>84</td><td>&quot;N&quot;</td><td>1</td><td>32</td><td>69</td><td>11</td><td>29</td><td>17</td><td>26</td><td>14</td><td>30</td><td>17</td><td>12</td><td>5</td><td>3</td><td>22</td><td>29</td><td>67</td><td>12</td><td>31</td><td>14</td><td>31</td><td>17</td><td>28</td><td>16</td><td>15</td><td>5</td><td>0</td><td>22</td></tr><tr><td>2003</td><td>136</td><td>1112</td><td>80</td><td>1436</td><td>51</td><td>&quot;N&quot;</td><td>0</td><td>31</td><td>66</td><td>7</td><td>23</td><td>11</td><td>14</td><td>11</td><td>36</td><td>22</td><td>16</td><td>10</td><td>7</td><td>8</td><td>20</td><td>64</td><td>4</td><td>16</td><td>7</td><td>7</td><td>8</td><td>26</td><td>12</td><td>17</td><td>10</td><td>3</td><td>15</td></tr><tr><td>2003</td><td>136</td><td>1113</td><td>84</td><td>1272</td><td>71</td><td>&quot;N&quot;</td><td>0</td><td>31</td><td>59</td><td>6</td><td>14</td><td>16</td><td>22</td><td>10</td><td>27</td><td>18</td><td>9</td><td>7</td><td>4</td><td>19</td><td>25</td><td>69</td><td>7</td><td>28</td><td>14</td><td>21</td><td>20</td><td>22</td><td>11</td><td>12</td><td>2</td><td>5</td><td>18</td></tr><tr><td>2003</td><td>136</td><td>1141</td><td>79</td><td>1166</td><td>73</td><td>&quot;N&quot;</td><td>0</td><td>29</td><td>53</td><td>3</td><td>7</td><td>18</td><td>25</td><td>11</td><td>20</td><td>15</td><td>18</td><td>13</td><td>1</td><td>19</td><td>27</td><td>60</td><td>7</td><td>17</td><td>12</td><td>17</td><td>14</td><td>17</td><td>20</td><td>21</td><td>6</td><td>6</td><td>21</td></tr><tr><td>2003</td><td>136</td><td>1143</td><td>76</td><td>1301</td><td>74</td><td>&quot;N&quot;</td><td>1</td><td>27</td><td>64</td><td>7</td><td>20</td><td>15</td><td>23</td><td>18</td><td>20</td><td>17</td><td>13</td><td>8</td><td>2</td><td>14</td><td>25</td><td>56</td><td>9</td><td>21</td><td>15</td><td>20</td><td>10</td><td>26</td><td>16</td><td>14</td><td>5</td><td>8</td><td>19</td></tr><tr><td>&hellip;</td><td>&hellip;</td><td>&hellip;</td><td>&hellip;</td><td>&hellip;</td><td>&hellip;</td><td>&hellip;</td><td>&hellip;</td><td>&hellip;</td><td>&hellip;</td><td>&hellip;</td><td>&hellip;</td><td>&hellip;</td><td>&hellip;</td><td>&hellip;</td><td>&hellip;</td><td>&hellip;</td><td>&hellip;</td><td>&hellip;</td><td>&hellip;</td><td>&hellip;</td><td>&hellip;</td><td>&hellip;</td><td>&hellip;</td><td>&hellip;</td><td>&hellip;</td><td>&hellip;</td><td>&hellip;</td><td>&hellip;</td><td>&hellip;</td><td>&hellip;</td><td>&hellip;</td><td>&hellip;</td><td>&hellip;</td></tr><tr><td>2023</td><td>146</td><td>1274</td><td>88</td><td>1400</td><td>81</td><td>&quot;N&quot;</td><td>0</td><td>29</td><td>49</td><td>2</td><td>8</td><td>28</td><td>32</td><td>4</td><td>19</td><td>11</td><td>12</td><td>9</td><td>1</td><td>14</td><td>30</td><td>60</td><td>10</td><td>25</td><td>11</td><td>15</td><td>9</td><td>14</td><td>20</td><td>13</td><td>6</td><td>1</td><td>23</td></tr><tr><td>2023</td><td>146</td><td>1361</td><td>57</td><td>1166</td><td>56</td><td>&quot;N&quot;</td><td>0</td><td>25</td><td>66</td><td>3</td><td>13</td><td>4</td><td>6</td><td>12</td><td>23</td><td>6</td><td>7</td><td>1</td><td>3</td><td>11</td><td>22</td><td>55</td><td>2</td><td>17</td><td>10</td><td>11</td><td>8</td><td>24</td><td>9</td><td>9</td><td>3</td><td>2</td><td>11</td></tr><tr><td>2023</td><td>152</td><td>1163</td><td>72</td><td>1274</td><td>59</td><td>&quot;N&quot;</td><td>0</td><td>28</td><td>57</td><td>9</td><td>26</td><td>7</td><td>13</td><td>13</td><td>27</td><td>19</td><td>14</td><td>5</td><td>5</td><td>11</td><td>20</td><td>62</td><td>7</td><td>20</td><td>12</td><td>12</td><td>12</td><td>17</td><td>10</td><td>9</td><td>8</td><td>1</td><td>12</td></tr><tr><td>2023</td><td>152</td><td>1361</td><td>72</td><td>1194</td><td>71</td><td>&quot;N&quot;</td><td>0</td><td>25</td><td>57</td><td>9</td><td>18</td><td>13</td><td>22</td><td>12</td><td>23</td><td>8</td><td>8</td><td>3</td><td>2</td><td>17</td><td>23</td><td>52</td><td>9</td><td>22</td><td>16</td><td>21</td><td>7</td><td>24</td><td>6</td><td>9</td><td>6</td><td>2</td><td>17</td></tr><tr><td>2023</td><td>154</td><td>1163</td><td>76</td><td>1361</td><td>59</td><td>&quot;N&quot;</td><td>0</td><td>23</td><td>53</td><td>6</td><td>17</td><td>24</td><td>27</td><td>10</td><td>30</td><td>13</td><td>13</td><td>8</td><td>6</td><td>15</td><td>19</td><td>59</td><td>6</td><td>23</td><td>15</td><td>20</td><td>12</td><td>21</td><td>7</td><td>12</td><td>7</td><td>2</td><td>20</td></tr></tbody></table></div>"
      ],
      "text/plain": [
       "shape: (1_315, 34)\n",
       "┌────────┬────────┬─────────┬────────┬───┬─────┬──────┬──────┬─────┐\n",
       "│ Season ┆ DayNum ┆ WTeamID ┆ WScore ┆ … ┆ LTO ┆ LStl ┆ LBlk ┆ LPF │\n",
       "│ ---    ┆ ---    ┆ ---     ┆ ---    ┆   ┆ --- ┆ ---  ┆ ---  ┆ --- │\n",
       "│ i64    ┆ i64    ┆ i64     ┆ i64    ┆   ┆ i64 ┆ i64  ┆ i64  ┆ i64 │\n",
       "╞════════╪════════╪═════════╪════════╪═══╪═════╪══════╪══════╪═════╡\n",
       "│ 2003   ┆ 134    ┆ 1421    ┆ 92     ┆ … ┆ 15  ┆ 5    ┆ 0    ┆ 22  │\n",
       "│ 2003   ┆ 136    ┆ 1112    ┆ 80     ┆ … ┆ 17  ┆ 10   ┆ 3    ┆ 15  │\n",
       "│ 2003   ┆ 136    ┆ 1113    ┆ 84     ┆ … ┆ 12  ┆ 2    ┆ 5    ┆ 18  │\n",
       "│ 2003   ┆ 136    ┆ 1141    ┆ 79     ┆ … ┆ 21  ┆ 6    ┆ 6    ┆ 21  │\n",
       "│ 2003   ┆ 136    ┆ 1143    ┆ 76     ┆ … ┆ 14  ┆ 5    ┆ 8    ┆ 19  │\n",
       "│ …      ┆ …      ┆ …       ┆ …      ┆ … ┆ …   ┆ …    ┆ …    ┆ …   │\n",
       "│ 2023   ┆ 146    ┆ 1274    ┆ 88     ┆ … ┆ 13  ┆ 6    ┆ 1    ┆ 23  │\n",
       "│ 2023   ┆ 146    ┆ 1361    ┆ 57     ┆ … ┆ 9   ┆ 3    ┆ 2    ┆ 11  │\n",
       "│ 2023   ┆ 152    ┆ 1163    ┆ 72     ┆ … ┆ 9   ┆ 8    ┆ 1    ┆ 12  │\n",
       "│ 2023   ┆ 152    ┆ 1361    ┆ 72     ┆ … ┆ 9   ┆ 6    ┆ 2    ┆ 17  │\n",
       "│ 2023   ┆ 154    ┆ 1163    ┆ 76     ┆ … ┆ 12  ┆ 7    ┆ 2    ┆ 20  │\n",
       "└────────┴────────┴─────────┴────────┴───┴─────┴──────┴──────┴─────┘"
      ]
     },
     "execution_count": 10,
     "metadata": {},
     "output_type": "execute_result"
    }
   ],
   "source": [
    "mTourneyResults"
   ]
  },
  {
   "cell_type": "markdown",
   "id": "1b69bc6d-6b4b-4538-bc4f-e4edd1eb79ec",
   "metadata": {},
   "source": [
    "I want to create a new column named 'round' that shows in what round of the tournament the game is played.\n",
    "round 0 will be for the play in games."
   ]
  },
  {
   "cell_type": "code",
   "execution_count": 11,
   "id": "d452e23a-e78a-4896-85d4-9562a9013927",
   "metadata": {},
   "outputs": [],
   "source": [
    "mTourneyResults = mTourneyResults.with_columns(\n",
    "    pl.when(mTourneyResults['DayNum'].is_in(range(134, 136))).then(pl.lit(0))\n",
    "    .when(mTourneyResults['DayNum'].is_in(range(136, 138))).then(pl.lit(1))\n",
    "    .when(mTourneyResults['DayNum'].is_in(range(138, 140))).then(pl.lit(2))\n",
    "    .when(mTourneyResults['DayNum'].is_in(range(143, 145))).then(pl.lit(3))\n",
    "    .when(mTourneyResults['DayNum'].is_in(range(145, 147))).then(pl.lit(4))\n",
    "    .when(mTourneyResults['DayNum'] == 152).then(pl.lit(5))\n",
    "    .when(mTourneyResults['DayNum'] == 154).then(pl.lit(6))\n",
    "    .otherwise(pl.lit(-1))\n",
    "    .alias('Round')\n",
    ")"
   ]
  },
  {
   "cell_type": "code",
   "execution_count": 13,
   "id": "b51ed17e-c5a0-4721-881f-3a1e38831a01",
   "metadata": {},
   "outputs": [
    {
     "data": {
      "text/html": [
       "<div><style>\n",
       ".dataframe > thead > tr,\n",
       ".dataframe > tbody > tr {\n",
       "  text-align: right;\n",
       "  white-space: pre-wrap;\n",
       "}\n",
       "</style>\n",
       "<small>shape: (1_315,)</small><table border=\"1\" class=\"dataframe\"><thead><tr><th>Round</th></tr><tr><td>i32</td></tr></thead><tbody><tr><td>0</td></tr><tr><td>1</td></tr><tr><td>1</td></tr><tr><td>1</td></tr><tr><td>1</td></tr><tr><td>&hellip;</td></tr><tr><td>4</td></tr><tr><td>4</td></tr><tr><td>5</td></tr><tr><td>5</td></tr><tr><td>6</td></tr></tbody></table></div>"
      ],
      "text/plain": [
       "shape: (1_315,)\n",
       "Series: 'Round' [i32]\n",
       "[\n",
       "\t0\n",
       "\t1\n",
       "\t1\n",
       "\t1\n",
       "\t1\n",
       "\t…\n",
       "\t4\n",
       "\t4\n",
       "\t5\n",
       "\t5\n",
       "\t6\n",
       "]"
      ]
     },
     "execution_count": 13,
     "metadata": {},
     "output_type": "execute_result"
    }
   ],
   "source": [
    "mTourneyResults['Round']"
   ]
  },
  {
   "cell_type": "code",
   "execution_count": 16,
   "id": "3da75177-56bb-4ab0-ac0f-b338dbff33d8",
   "metadata": {},
   "outputs": [
    {
     "data": {
      "text/html": [
       "<div><style>\n",
       ".dataframe > thead > tr,\n",
       ".dataframe > tbody > tr {\n",
       "  text-align: right;\n",
       "  white-space: pre-wrap;\n",
       "}\n",
       "</style>\n",
       "<small>shape: (1, 1)</small><table border=\"1\" class=\"dataframe\"><thead><tr><th>RankingDayNum</th></tr><tr><td>i64</td></tr></thead><tbody><tr><td>133</td></tr></tbody></table></div>"
      ],
      "text/plain": [
       "shape: (1, 1)\n",
       "┌───────────────┐\n",
       "│ RankingDayNum │\n",
       "│ ---           │\n",
       "│ i64           │\n",
       "╞═══════════════╡\n",
       "│ 133           │\n",
       "└───────────────┘"
      ]
     },
     "execution_count": 16,
     "metadata": {},
     "output_type": "execute_result"
    }
   ],
   "source": [
    "# check if rankings also during tournament are updated\n",
    "mMassey.select(pl.max('RankingDayNum'))"
   ]
  },
  {
   "cell_type": "markdown",
   "id": "c9630bce-f923-4d75-8475-8e89b29abf00",
   "metadata": {},
   "source": [
    "Now want to do use the rankings as the parameters to see how they predict the results of the tournament"
   ]
  },
  {
   "cell_type": "code",
   "execution_count": null,
   "id": "b1adeb03-dc8e-49bf-872e-cbf13810999f",
   "metadata": {},
   "outputs": [],
   "source": []
  }
 ],
 "metadata": {
  "kernelspec": {
   "display_name": "Python 3 (ipykernel)",
   "language": "python",
   "name": "python3"
  },
  "language_info": {
   "codemirror_mode": {
    "name": "ipython",
    "version": 3
   },
   "file_extension": ".py",
   "mimetype": "text/x-python",
   "name": "python",
   "nbconvert_exporter": "python",
   "pygments_lexer": "ipython3",
   "version": "3.11.6"
  }
 },
 "nbformat": 4,
 "nbformat_minor": 5
}
